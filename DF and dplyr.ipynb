{
 "cells": [
  {
   "cell_type": "code",
   "execution_count": null,
   "id": "b4c81ff2",
   "metadata": {},
   "outputs": [],
   "source": [
    "install.packages(\"dplyr\")"
   ]
  },
  {
   "cell_type": "code",
   "execution_count": 3,
   "id": "6a1db6ed",
   "metadata": {},
   "outputs": [],
   "source": [
    "library(dplyr)\n",
    "library(ggplot2)  \n",
    "library(tidyverse)"
   ]
  },
  {
   "cell_type": "code",
   "execution_count": 4,
   "id": "519ac26f",
   "metadata": {},
   "outputs": [
    {
     "data": {
      "text/html": [
       "<table>\n",
       "<thead><tr><th scope=col>gender</th><th scope=col>race.ethnicity</th><th scope=col>parental.level.of.education</th><th scope=col>lunch</th><th scope=col>test.preparation.course</th><th scope=col>math.score</th><th scope=col>reading.score</th><th scope=col>writing.score</th></tr></thead>\n",
       "<tbody>\n",
       "\t<tr><td>female           </td><td>group B          </td><td>bachelor's degree</td><td>standard         </td><td>none             </td><td>72               </td><td>72               </td><td>74               </td></tr>\n",
       "\t<tr><td>female           </td><td>group C          </td><td>some college     </td><td>standard         </td><td>completed        </td><td>69               </td><td>90               </td><td>88               </td></tr>\n",
       "\t<tr><td>female           </td><td>group B          </td><td>master's degree  </td><td>standard         </td><td>none             </td><td>90               </td><td>95               </td><td>93               </td></tr>\n",
       "</tbody>\n",
       "</table>\n"
      ],
      "text/latex": [
       "\\begin{tabular}{r|llllllll}\n",
       " gender & race.ethnicity & parental.level.of.education & lunch & test.preparation.course & math.score & reading.score & writing.score\\\\\n",
       "\\hline\n",
       "\t female            & group B           & bachelor's degree & standard          & none              & 72                & 72                & 74               \\\\\n",
       "\t female            & group C           & some college      & standard          & completed         & 69                & 90                & 88               \\\\\n",
       "\t female            & group B           & master's degree   & standard          & none              & 90                & 95                & 93               \\\\\n",
       "\\end{tabular}\n"
      ],
      "text/markdown": [
       "\n",
       "| gender | race.ethnicity | parental.level.of.education | lunch | test.preparation.course | math.score | reading.score | writing.score |\n",
       "|---|---|---|---|---|---|---|---|\n",
       "| female            | group B           | bachelor's degree | standard          | none              | 72                | 72                | 74                |\n",
       "| female            | group C           | some college      | standard          | completed         | 69                | 90                | 88                |\n",
       "| female            | group B           | master's degree   | standard          | none              | 90                | 95                | 93                |\n",
       "\n"
      ],
      "text/plain": [
       "  gender race.ethnicity parental.level.of.education lunch   \n",
       "1 female group B        bachelor's degree           standard\n",
       "2 female group C        some college                standard\n",
       "3 female group B        master's degree             standard\n",
       "  test.preparation.course math.score reading.score writing.score\n",
       "1 none                    72         72            74           \n",
       "2 completed               69         90            88           \n",
       "3 none                    90         95            93           "
      ]
     },
     "metadata": {},
     "output_type": "display_data"
    }
   ],
   "source": [
    "df <- read.csv(\"C:\\\\Users\\\\Dell\\\\Downloads\\\\R_Programming\\\\ML\\\\StudentsPerformance.csv\")\n",
    "head(df,3)"
   ]
  },
  {
   "cell_type": "code",
   "execution_count": 6,
   "id": "fdaa161b",
   "metadata": {},
   "outputs": [
    {
     "data": {
      "text/html": [
       "<table>\n",
       "<thead><tr><th scope=col>Gender</th><th scope=col>RE</th><th scope=col>PLE</th><th scope=col>Lunch</th><th scope=col>TPC</th><th scope=col>Math</th><th scope=col>Reading</th><th scope=col>Writing</th></tr></thead>\n",
       "<tbody>\n",
       "\t<tr><td>female           </td><td>group B          </td><td>bachelor's degree</td><td>standard         </td><td>none             </td><td>72               </td><td>72               </td><td>74               </td></tr>\n",
       "\t<tr><td>female           </td><td>group C          </td><td>some college     </td><td>standard         </td><td>completed        </td><td>69               </td><td>90               </td><td>88               </td></tr>\n",
       "\t<tr><td>female           </td><td>group B          </td><td>master's degree  </td><td>standard         </td><td>none             </td><td>90               </td><td>95               </td><td>93               </td></tr>\n",
       "</tbody>\n",
       "</table>\n"
      ],
      "text/latex": [
       "\\begin{tabular}{r|llllllll}\n",
       " Gender & RE & PLE & Lunch & TPC & Math & Reading & Writing\\\\\n",
       "\\hline\n",
       "\t female            & group B           & bachelor's degree & standard          & none              & 72                & 72                & 74               \\\\\n",
       "\t female            & group C           & some college      & standard          & completed         & 69                & 90                & 88               \\\\\n",
       "\t female            & group B           & master's degree   & standard          & none              & 90                & 95                & 93               \\\\\n",
       "\\end{tabular}\n"
      ],
      "text/markdown": [
       "\n",
       "| Gender | RE | PLE | Lunch | TPC | Math | Reading | Writing |\n",
       "|---|---|---|---|---|---|---|---|\n",
       "| female            | group B           | bachelor's degree | standard          | none              | 72                | 72                | 74                |\n",
       "| female            | group C           | some college      | standard          | completed         | 69                | 90                | 88                |\n",
       "| female            | group B           | master's degree   | standard          | none              | 90                | 95                | 93                |\n",
       "\n"
      ],
      "text/plain": [
       "  Gender RE      PLE               Lunch    TPC       Math Reading Writing\n",
       "1 female group B bachelor's degree standard none      72   72      74     \n",
       "2 female group C some college      standard completed 69   90      88     \n",
       "3 female group B master's degree   standard none      90   95      93     "
      ]
     },
     "metadata": {},
     "output_type": "display_data"
    }
   ],
   "source": [
    "colnames(df) <- c(\"Gender\",\"RE\",\"PLE\",\"Lunch\",\"TPC\",\"Math\",\"Reading\",\"Writing\")\n",
    "head(df,3)"
   ]
  },
  {
   "cell_type": "code",
   "execution_count": 11,
   "id": "039f68f9",
   "metadata": {},
   "outputs": [
    {
     "data": {
      "text/html": [
       "<ol class=list-inline>\n",
       "\t<li>1000</li>\n",
       "\t<li>8</li>\n",
       "</ol>\n"
      ],
      "text/latex": [
       "\\begin{enumerate*}\n",
       "\\item 1000\n",
       "\\item 8\n",
       "\\end{enumerate*}\n"
      ],
      "text/markdown": [
       "1. 1000\n",
       "2. 8\n",
       "\n",
       "\n"
      ],
      "text/plain": [
       "[1] 1000    8"
      ]
     },
     "metadata": {},
     "output_type": "display_data"
    }
   ],
   "source": [
    "dim(df)"
   ]
  },
  {
   "cell_type": "markdown",
   "id": "b8be6801",
   "metadata": {},
   "source": [
    "#### Value Counts"
   ]
  },
  {
   "cell_type": "code",
   "execution_count": 8,
   "id": "ac294713",
   "metadata": {},
   "outputs": [
    {
     "data": {
      "text/plain": [
       "\n",
       "group A group B group C group D group E \n",
       "     89     190     319     262     140 "
      ]
     },
     "metadata": {},
     "output_type": "display_data"
    }
   ],
   "source": [
    "table(df$RE)"
   ]
  },
  {
   "cell_type": "code",
   "execution_count": 10,
   "id": "f448a637",
   "metadata": {},
   "outputs": [
    {
     "data": {
      "text/plain": [
       "         \n",
       "          free/reduced standard\n",
       "  group A           36       53\n",
       "  group B           69      121\n",
       "  group C          114      205\n",
       "  group D           95      167\n",
       "  group E           41       99"
      ]
     },
     "metadata": {},
     "output_type": "display_data"
    }
   ],
   "source": [
    "table(df$RE,df$Lunch)"
   ]
  },
  {
   "cell_type": "code",
   "execution_count": 14,
   "id": "d35f07e7",
   "metadata": {},
   "outputs": [
    {
     "data": {
      "text/plain": [
       "         Lunch\n",
       "RE        free/reduced standard\n",
       "  group A           36       53\n",
       "  group B           69      121\n",
       "  group C          114      205\n",
       "  group D           95      167\n",
       "  group E           41       99"
      ]
     },
     "metadata": {},
     "output_type": "display_data"
    }
   ],
   "source": [
    "xtabs(~RE+Lunch,data=df)\n",
    "# contingency table"
   ]
  },
  {
   "cell_type": "markdown",
   "id": "d3fec92a",
   "metadata": {},
   "source": [
    "### Five basic functions from dplyr \n",
    "filter, select, arrange, mutate, group_by"
   ]
  },
  {
   "cell_type": "markdown",
   "id": "ebf56a0e",
   "metadata": {},
   "source": [
    "### 1) Filtering"
   ]
  },
  {
   "cell_type": "markdown",
   "id": "136bf76e",
   "metadata": {},
   "source": [
    "#### Filter using R"
   ]
  },
  {
   "cell_type": "code",
   "execution_count": 19,
   "id": "34095e32",
   "metadata": {},
   "outputs": [
    {
     "name": "stdout",
     "output_type": "stream",
     "text": [
      "[1] 205   8\n"
     ]
    },
    {
     "data": {
      "text/html": [
       "<table>\n",
       "<thead><tr><th></th><th scope=col>Gender</th><th scope=col>RE</th><th scope=col>PLE</th><th scope=col>Lunch</th><th scope=col>TPC</th><th scope=col>Math</th><th scope=col>Reading</th><th scope=col>Writing</th></tr></thead>\n",
       "<tbody>\n",
       "\t<tr><th scope=row>2</th><td>female            </td><td>group C           </td><td>some college      </td><td>standard          </td><td>completed         </td><td>69                </td><td>90                </td><td>88                </td></tr>\n",
       "\t<tr><th scope=row>5</th><td>male              </td><td>group C           </td><td>some college      </td><td>standard          </td><td>none              </td><td>76                </td><td>78                </td><td>75                </td></tr>\n",
       "\t<tr><th scope=row>11</th><td>male              </td><td>group C           </td><td>associate's degree</td><td>standard          </td><td>none              </td><td>58                </td><td>54                </td><td>52                </td></tr>\n",
       "\t<tr><th scope=row>16</th><td>female            </td><td>group C           </td><td>some high school  </td><td>standard          </td><td>none              </td><td>69                </td><td>75                </td><td>78                </td></tr>\n",
       "\t<tr><th scope=row>17</th><td>male              </td><td>group C           </td><td>high school       </td><td>standard          </td><td>none              </td><td>88                </td><td>89                </td><td>86                </td></tr>\n",
       "</tbody>\n",
       "</table>\n"
      ],
      "text/latex": [
       "\\begin{tabular}{r|llllllll}\n",
       "  & Gender & RE & PLE & Lunch & TPC & Math & Reading & Writing\\\\\n",
       "\\hline\n",
       "\t2 & female             & group C            & some college       & standard           & completed          & 69                 & 90                 & 88                \\\\\n",
       "\t5 & male               & group C            & some college       & standard           & none               & 76                 & 78                 & 75                \\\\\n",
       "\t11 & male               & group C            & associate's degree & standard           & none               & 58                 & 54                 & 52                \\\\\n",
       "\t16 & female             & group C            & some high school   & standard           & none               & 69                 & 75                 & 78                \\\\\n",
       "\t17 & male               & group C            & high school        & standard           & none               & 88                 & 89                 & 86                \\\\\n",
       "\\end{tabular}\n"
      ],
      "text/markdown": [
       "\n",
       "| <!--/--> | Gender | RE | PLE | Lunch | TPC | Math | Reading | Writing |\n",
       "|---|---|---|---|---|---|---|---|---|\n",
       "| 2 | female             | group C            | some college       | standard           | completed          | 69                 | 90                 | 88                 |\n",
       "| 5 | male               | group C            | some college       | standard           | none               | 76                 | 78                 | 75                 |\n",
       "| 11 | male               | group C            | associate's degree | standard           | none               | 58                 | 54                 | 52                 |\n",
       "| 16 | female             | group C            | some high school   | standard           | none               | 69                 | 75                 | 78                 |\n",
       "| 17 | male               | group C            | high school        | standard           | none               | 88                 | 89                 | 86                 |\n",
       "\n"
      ],
      "text/plain": [
       "   Gender RE      PLE                Lunch    TPC       Math Reading Writing\n",
       "2  female group C some college       standard completed 69   90      88     \n",
       "5  male   group C some college       standard none      76   78      75     \n",
       "11 male   group C associate's degree standard none      58   54      52     \n",
       "16 female group C some high school   standard none      69   75      78     \n",
       "17 male   group C high school        standard none      88   89      86     "
      ]
     },
     "metadata": {},
     "output_type": "display_data"
    }
   ],
   "source": [
    "r1 <- df[df$Lunch==\"standard\" & df$RE==\"group C\",]\n",
    "print(dim(r1))\n",
    "head(r1,5)\n"
   ]
  },
  {
   "cell_type": "markdown",
   "id": "5a24ae86",
   "metadata": {},
   "source": [
    "#### Filter using dplyr"
   ]
  },
  {
   "cell_type": "code",
   "execution_count": 20,
   "id": "e754b3ce",
   "metadata": {},
   "outputs": [
    {
     "data": {
      "text/html": [
       "<ol class=list-inline>\n",
       "\t<li>205</li>\n",
       "\t<li>8</li>\n",
       "</ol>\n"
      ],
      "text/latex": [
       "\\begin{enumerate*}\n",
       "\\item 205\n",
       "\\item 8\n",
       "\\end{enumerate*}\n"
      ],
      "text/markdown": [
       "1. 205\n",
       "2. 8\n",
       "\n",
       "\n"
      ],
      "text/plain": [
       "[1] 205   8"
      ]
     },
     "metadata": {},
     "output_type": "display_data"
    },
    {
     "data": {
      "text/html": [
       "<table>\n",
       "<thead><tr><th scope=col>Gender</th><th scope=col>RE</th><th scope=col>PLE</th><th scope=col>Lunch</th><th scope=col>TPC</th><th scope=col>Math</th><th scope=col>Reading</th><th scope=col>Writing</th></tr></thead>\n",
       "<tbody>\n",
       "\t<tr><td>female            </td><td>group C           </td><td>some college      </td><td>standard          </td><td>completed         </td><td>69                </td><td>90                </td><td>88                </td></tr>\n",
       "\t<tr><td>male              </td><td>group C           </td><td>some college      </td><td>standard          </td><td>none              </td><td>76                </td><td>78                </td><td>75                </td></tr>\n",
       "\t<tr><td>male              </td><td>group C           </td><td>associate's degree</td><td>standard          </td><td>none              </td><td>58                </td><td>54                </td><td>52                </td></tr>\n",
       "</tbody>\n",
       "</table>\n"
      ],
      "text/latex": [
       "\\begin{tabular}{r|llllllll}\n",
       " Gender & RE & PLE & Lunch & TPC & Math & Reading & Writing\\\\\n",
       "\\hline\n",
       "\t female             & group C            & some college       & standard           & completed          & 69                 & 90                 & 88                \\\\\n",
       "\t male               & group C            & some college       & standard           & none               & 76                 & 78                 & 75                \\\\\n",
       "\t male               & group C            & associate's degree & standard           & none               & 58                 & 54                 & 52                \\\\\n",
       "\\end{tabular}\n"
      ],
      "text/markdown": [
       "\n",
       "| Gender | RE | PLE | Lunch | TPC | Math | Reading | Writing |\n",
       "|---|---|---|---|---|---|---|---|\n",
       "| female             | group C            | some college       | standard           | completed          | 69                 | 90                 | 88                 |\n",
       "| male               | group C            | some college       | standard           | none               | 76                 | 78                 | 75                 |\n",
       "| male               | group C            | associate's degree | standard           | none               | 58                 | 54                 | 52                 |\n",
       "\n"
      ],
      "text/plain": [
       "  Gender RE      PLE                Lunch    TPC       Math Reading Writing\n",
       "1 female group C some college       standard completed 69   90      88     \n",
       "2 male   group C some college       standard none      76   78      75     \n",
       "3 male   group C associate's degree standard none      58   54      52     "
      ]
     },
     "metadata": {},
     "output_type": "display_data"
    }
   ],
   "source": [
    "r2 <- filter(df,Lunch==\"standard\", RE==\"group C\")  # , denotes AND\n",
    "dim(r2)\n",
    "head(r2,3)"
   ]
  },
  {
   "cell_type": "code",
   "execution_count": 22,
   "id": "13c670d6",
   "metadata": {},
   "outputs": [
    {
     "data": {
      "text/html": [
       "<ol class=list-inline>\n",
       "\t<li>416</li>\n",
       "\t<li>8</li>\n",
       "</ol>\n"
      ],
      "text/latex": [
       "\\begin{enumerate*}\n",
       "\\item 416\n",
       "\\item 8\n",
       "\\end{enumerate*}\n"
      ],
      "text/markdown": [
       "1. 416\n",
       "2. 8\n",
       "\n",
       "\n"
      ],
      "text/plain": [
       "[1] 416   8"
      ]
     },
     "metadata": {},
     "output_type": "display_data"
    },
    {
     "data": {
      "text/html": [
       "<table>\n",
       "<thead><tr><th scope=col>Gender</th><th scope=col>RE</th><th scope=col>PLE</th><th scope=col>Lunch</th><th scope=col>TPC</th><th scope=col>Math</th><th scope=col>Reading</th><th scope=col>Writing</th></tr></thead>\n",
       "<tbody>\n",
       "\t<tr><td>female            </td><td>group C           </td><td>some college      </td><td>standard          </td><td>completed         </td><td>69                </td><td>90                </td><td>88                </td></tr>\n",
       "\t<tr><td>male              </td><td>group A           </td><td>associate's degree</td><td>free/reduced      </td><td>none              </td><td>47                </td><td>57                </td><td>44                </td></tr>\n",
       "\t<tr><td>female            </td><td>group B           </td><td>some college      </td><td>standard          </td><td>completed         </td><td>88                </td><td>95                </td><td>92                </td></tr>\n",
       "</tbody>\n",
       "</table>\n"
      ],
      "text/latex": [
       "\\begin{tabular}{r|llllllll}\n",
       " Gender & RE & PLE & Lunch & TPC & Math & Reading & Writing\\\\\n",
       "\\hline\n",
       "\t female             & group C            & some college       & standard           & completed          & 69                 & 90                 & 88                \\\\\n",
       "\t male               & group A            & associate's degree & free/reduced       & none               & 47                 & 57                 & 44                \\\\\n",
       "\t female             & group B            & some college       & standard           & completed          & 88                 & 95                 & 92                \\\\\n",
       "\\end{tabular}\n"
      ],
      "text/markdown": [
       "\n",
       "| Gender | RE | PLE | Lunch | TPC | Math | Reading | Writing |\n",
       "|---|---|---|---|---|---|---|---|\n",
       "| female             | group C            | some college       | standard           | completed          | 69                 | 90                 | 88                 |\n",
       "| male               | group A            | associate's degree | free/reduced       | none               | 47                 | 57                 | 44                 |\n",
       "| female             | group B            | some college       | standard           | completed          | 88                 | 95                 | 92                 |\n",
       "\n"
      ],
      "text/plain": [
       "  Gender RE      PLE                Lunch        TPC       Math Reading Writing\n",
       "1 female group C some college       standard     completed 69   90      88     \n",
       "2 male   group A associate's degree free/reduced none      47   57      44     \n",
       "3 female group B some college       standard     completed 88   95      92     "
      ]
     },
     "metadata": {},
     "output_type": "display_data"
    }
   ],
   "source": [
    "r3 <- filter(df,TPC==\"completed\" | RE==\"group A\")  # | denotes OR\n",
    "dim(r3)\n",
    "head(r3,3)"
   ]
  },
  {
   "cell_type": "code",
   "execution_count": 23,
   "id": "f25fb206",
   "metadata": {},
   "outputs": [
    {
     "data": {
      "text/html": [
       "<ol class=list-inline>\n",
       "\t<li>351</li>\n",
       "\t<li>8</li>\n",
       "</ol>\n"
      ],
      "text/latex": [
       "\\begin{enumerate*}\n",
       "\\item 351\n",
       "\\item 8\n",
       "\\end{enumerate*}\n"
      ],
      "text/markdown": [
       "1. 351\n",
       "2. 8\n",
       "\n",
       "\n"
      ],
      "text/plain": [
       "[1] 351   8"
      ]
     },
     "metadata": {},
     "output_type": "display_data"
    },
    {
     "data": {
      "text/plain": [
       "\n",
       "group A group B group C group D group E \n",
       "     89       0       0     262       0 "
      ]
     },
     "metadata": {},
     "output_type": "display_data"
    },
    {
     "data": {
      "text/html": [
       "<table>\n",
       "<thead><tr><th scope=col>Gender</th><th scope=col>RE</th><th scope=col>PLE</th><th scope=col>Lunch</th><th scope=col>TPC</th><th scope=col>Math</th><th scope=col>Reading</th><th scope=col>Writing</th></tr></thead>\n",
       "<tbody>\n",
       "\t<tr><td>male              </td><td>group A           </td><td>associate's degree</td><td>free/reduced      </td><td>none              </td><td>47                </td><td>57                </td><td>44                </td></tr>\n",
       "\t<tr><td>male              </td><td>group D           </td><td>high school       </td><td>free/reduced      </td><td>completed         </td><td>64                </td><td>64                </td><td>67                </td></tr>\n",
       "\t<tr><td>male              </td><td>group D           </td><td>associate's degree</td><td>standard          </td><td>none              </td><td>40                </td><td>52                </td><td>43                </td></tr>\n",
       "</tbody>\n",
       "</table>\n"
      ],
      "text/latex": [
       "\\begin{tabular}{r|llllllll}\n",
       " Gender & RE & PLE & Lunch & TPC & Math & Reading & Writing\\\\\n",
       "\\hline\n",
       "\t male               & group A            & associate's degree & free/reduced       & none               & 47                 & 57                 & 44                \\\\\n",
       "\t male               & group D            & high school        & free/reduced       & completed          & 64                 & 64                 & 67                \\\\\n",
       "\t male               & group D            & associate's degree & standard           & none               & 40                 & 52                 & 43                \\\\\n",
       "\\end{tabular}\n"
      ],
      "text/markdown": [
       "\n",
       "| Gender | RE | PLE | Lunch | TPC | Math | Reading | Writing |\n",
       "|---|---|---|---|---|---|---|---|\n",
       "| male               | group A            | associate's degree | free/reduced       | none               | 47                 | 57                 | 44                 |\n",
       "| male               | group D            | high school        | free/reduced       | completed          | 64                 | 64                 | 67                 |\n",
       "| male               | group D            | associate's degree | standard           | none               | 40                 | 52                 | 43                 |\n",
       "\n"
      ],
      "text/plain": [
       "  Gender RE      PLE                Lunch        TPC       Math Reading Writing\n",
       "1 male   group A associate's degree free/reduced none      47   57      44     \n",
       "2 male   group D high school        free/reduced completed 64   64      67     \n",
       "3 male   group D associate's degree standard     none      40   52      43     "
      ]
     },
     "metadata": {},
     "output_type": "display_data"
    }
   ],
   "source": [
    "r4 <- filter(df, RE %in% c(\"group A\", \"group D\"))\n",
    "dim(r4)\n",
    "table(r4$RE)\n",
    "head(r4,3)"
   ]
  },
  {
   "cell_type": "markdown",
   "id": "ca027ac9",
   "metadata": {},
   "source": [
    "### 2) Column Selection"
   ]
  },
  {
   "cell_type": "markdown",
   "id": "79df03ef",
   "metadata": {},
   "source": [
    "#### Column selection using R basics"
   ]
  },
  {
   "cell_type": "code",
   "execution_count": 13,
   "id": "b72e0232",
   "metadata": {},
   "outputs": [
    {
     "data": {
      "text/html": [
       "<table>\n",
       "<thead><tr><th scope=col>RE</th><th scope=col>PLE</th><th scope=col>TPC</th><th scope=col>Reading</th><th scope=col>Writing</th></tr></thead>\n",
       "<tbody>\n",
       "\t<tr><td>group B           </td><td>bachelor's degree </td><td>none              </td><td>72                </td><td>74                </td></tr>\n",
       "\t<tr><td>group C           </td><td>some college      </td><td>completed         </td><td>90                </td><td>88                </td></tr>\n",
       "\t<tr><td>group B           </td><td>master's degree   </td><td>none              </td><td>95                </td><td>93                </td></tr>\n",
       "\t<tr><td>group A           </td><td>associate's degree</td><td>none              </td><td>57                </td><td>44                </td></tr>\n",
       "</tbody>\n",
       "</table>\n"
      ],
      "text/latex": [
       "\\begin{tabular}{r|lllll}\n",
       " RE & PLE & TPC & Reading & Writing\\\\\n",
       "\\hline\n",
       "\t group B            & bachelor's degree  & none               & 72                 & 74                \\\\\n",
       "\t group C            & some college       & completed          & 90                 & 88                \\\\\n",
       "\t group B            & master's degree    & none               & 95                 & 93                \\\\\n",
       "\t group A            & associate's degree & none               & 57                 & 44                \\\\\n",
       "\\end{tabular}\n"
      ],
      "text/markdown": [
       "\n",
       "| RE | PLE | TPC | Reading | Writing |\n",
       "|---|---|---|---|---|\n",
       "| group B            | bachelor's degree  | none               | 72                 | 74                 |\n",
       "| group C            | some college       | completed          | 90                 | 88                 |\n",
       "| group B            | master's degree    | none               | 95                 | 93                 |\n",
       "| group A            | associate's degree | none               | 57                 | 44                 |\n",
       "\n"
      ],
      "text/plain": [
       "  RE      PLE                TPC       Reading Writing\n",
       "1 group B bachelor's degree  none      72      74     \n",
       "2 group C some college       completed 90      88     \n",
       "3 group B master's degree    none      95      93     \n",
       "4 group A associate's degree none      57      44     "
      ]
     },
     "metadata": {},
     "output_type": "display_data"
    }
   ],
   "source": [
    "r5 <- df[c(-1,-4,-6)]\n",
    "head(r5,4)"
   ]
  },
  {
   "cell_type": "markdown",
   "id": "fbc41fd6",
   "metadata": {},
   "source": [
    "#### Column selection using dplyr"
   ]
  },
  {
   "cell_type": "code",
   "execution_count": 26,
   "id": "83e28d17",
   "metadata": {},
   "outputs": [
    {
     "data": {
      "text/html": [
       "<table>\n",
       "<thead><tr><th scope=col>Lunch</th><th scope=col>RE</th><th scope=col>Reading</th></tr></thead>\n",
       "<tbody>\n",
       "\t<tr><td>standard    </td><td>group B     </td><td>72          </td></tr>\n",
       "\t<tr><td>standard    </td><td>group C     </td><td>90          </td></tr>\n",
       "\t<tr><td>standard    </td><td>group B     </td><td>95          </td></tr>\n",
       "\t<tr><td>free/reduced</td><td>group A     </td><td>57          </td></tr>\n",
       "</tbody>\n",
       "</table>\n"
      ],
      "text/latex": [
       "\\begin{tabular}{r|lll}\n",
       " Lunch & RE & Reading\\\\\n",
       "\\hline\n",
       "\t standard     & group B      & 72          \\\\\n",
       "\t standard     & group C      & 90          \\\\\n",
       "\t standard     & group B      & 95          \\\\\n",
       "\t free/reduced & group A      & 57          \\\\\n",
       "\\end{tabular}\n"
      ],
      "text/markdown": [
       "\n",
       "| Lunch | RE | Reading |\n",
       "|---|---|---|\n",
       "| standard     | group B      | 72           |\n",
       "| standard     | group C      | 90           |\n",
       "| standard     | group B      | 95           |\n",
       "| free/reduced | group A      | 57           |\n",
       "\n"
      ],
      "text/plain": [
       "  Lunch        RE      Reading\n",
       "1 standard     group B 72     \n",
       "2 standard     group C 90     \n",
       "3 standard     group B 95     \n",
       "4 free/reduced group A 57     "
      ]
     },
     "metadata": {},
     "output_type": "display_data"
    }
   ],
   "source": [
    "r6 <- select(df, Lunch, RE, Reading)\n",
    "head(r6,4)"
   ]
  },
  {
   "cell_type": "code",
   "execution_count": 28,
   "id": "322afc7a",
   "metadata": {},
   "outputs": [
    {
     "data": {
      "text/html": [
       "<table>\n",
       "<thead><tr><th scope=col>RE</th><th scope=col>TPC</th><th scope=col>Lunch</th><th scope=col>Math</th><th scope=col>Reading</th></tr></thead>\n",
       "<tbody>\n",
       "\t<tr><td>group B </td><td>none    </td><td>standard</td><td>72      </td><td>72      </td></tr>\n",
       "\t<tr><td>group B </td><td>none    </td><td>standard</td><td>90      </td><td>95      </td></tr>\n",
       "\t<tr><td>group C </td><td>none    </td><td>standard</td><td>76      </td><td>78      </td></tr>\n",
       "\t<tr><td>group B </td><td>none    </td><td>standard</td><td>71      </td><td>83      </td></tr>\n",
       "</tbody>\n",
       "</table>\n"
      ],
      "text/latex": [
       "\\begin{tabular}{r|lllll}\n",
       " RE & TPC & Lunch & Math & Reading\\\\\n",
       "\\hline\n",
       "\t group B  & none     & standard & 72       & 72      \\\\\n",
       "\t group B  & none     & standard & 90       & 95      \\\\\n",
       "\t group C  & none     & standard & 76       & 78      \\\\\n",
       "\t group B  & none     & standard & 71       & 83      \\\\\n",
       "\\end{tabular}\n"
      ],
      "text/markdown": [
       "\n",
       "| RE | TPC | Lunch | Math | Reading |\n",
       "|---|---|---|---|---|\n",
       "| group B  | none     | standard | 72       | 72       |\n",
       "| group B  | none     | standard | 90       | 95       |\n",
       "| group C  | none     | standard | 76       | 78       |\n",
       "| group B  | none     | standard | 71       | 83       |\n",
       "\n"
      ],
      "text/plain": [
       "  RE      TPC  Lunch    Math Reading\n",
       "1 group B none standard 72   72     \n",
       "2 group B none standard 90   95     \n",
       "3 group C none standard 76   78     \n",
       "4 group B none standard 71   83     "
      ]
     },
     "metadata": {},
     "output_type": "display_data"
    }
   ],
   "source": [
    "r7 <- filter(select(df, RE, TPC, Lunch, Math, Reading), Math > 70)\n",
    "head(r7,4)"
   ]
  },
  {
   "cell_type": "markdown",
   "id": "91face35",
   "metadata": {},
   "source": [
    "### 3) Chaning using dplyr"
   ]
  },
  {
   "cell_type": "code",
   "execution_count": 29,
   "id": "130fee01",
   "metadata": {},
   "outputs": [
    {
     "data": {
      "text/html": [
       "<table>\n",
       "<thead><tr><th scope=col>Gender</th><th scope=col>RE</th><th scope=col>TPC</th><th scope=col>Math</th><th scope=col>Writing</th></tr></thead>\n",
       "<tbody>\n",
       "\t<tr><td>female   </td><td>group B  </td><td>none     </td><td>72       </td><td>74       </td></tr>\n",
       "\t<tr><td>female   </td><td>group C  </td><td>completed</td><td>69       </td><td>88       </td></tr>\n",
       "\t<tr><td>female   </td><td>group B  </td><td>none     </td><td>90       </td><td>93       </td></tr>\n",
       "\t<tr><td>male     </td><td>group C  </td><td>none     </td><td>76       </td><td>75       </td></tr>\n",
       "\t<tr><td>female   </td><td>group B  </td><td>none     </td><td>71       </td><td>78       </td></tr>\n",
       "</tbody>\n",
       "</table>\n"
      ],
      "text/latex": [
       "\\begin{tabular}{r|lllll}\n",
       " Gender & RE & TPC & Math & Writing\\\\\n",
       "\\hline\n",
       "\t female    & group B   & none      & 72        & 74       \\\\\n",
       "\t female    & group C   & completed & 69        & 88       \\\\\n",
       "\t female    & group B   & none      & 90        & 93       \\\\\n",
       "\t male      & group C   & none      & 76        & 75       \\\\\n",
       "\t female    & group B   & none      & 71        & 78       \\\\\n",
       "\\end{tabular}\n"
      ],
      "text/markdown": [
       "\n",
       "| Gender | RE | TPC | Math | Writing |\n",
       "|---|---|---|---|---|\n",
       "| female    | group B   | none      | 72        | 74        |\n",
       "| female    | group C   | completed | 69        | 88        |\n",
       "| female    | group B   | none      | 90        | 93        |\n",
       "| male      | group C   | none      | 76        | 75        |\n",
       "| female    | group B   | none      | 71        | 78        |\n",
       "\n"
      ],
      "text/plain": [
       "  Gender RE      TPC       Math Writing\n",
       "1 female group B none      72   74     \n",
       "2 female group C completed 69   88     \n",
       "3 female group B none      90   93     \n",
       "4 male   group C none      76   75     \n",
       "5 female group B none      71   78     "
      ]
     },
     "metadata": {},
     "output_type": "display_data"
    }
   ],
   "source": [
    "# Seletcion with filter using chaining\n",
    "a1 <- df %>% \n",
    "      select(Gender, RE,TPC,Math,Writing) %>% \n",
    "      filter(Writing > 60)\n",
    "head(a1,5)"
   ]
  },
  {
   "cell_type": "code",
   "execution_count": 32,
   "id": "13fbdd5c",
   "metadata": {},
   "outputs": [
    {
     "data": {
      "text/html": [
       "<table>\n",
       "<thead><tr><th scope=col>Gender</th><th scope=col>RE</th><th scope=col>TPC</th><th scope=col>Math</th><th scope=col>Writing</th></tr></thead>\n",
       "<tbody>\n",
       "\t<tr><td>female </td><td>group C</td><td>none   </td><td> 0     </td><td>10     </td></tr>\n",
       "\t<tr><td>female </td><td>group B</td><td>none   </td><td> 8     </td><td>23     </td></tr>\n",
       "\t<tr><td>female </td><td>group B</td><td>none   </td><td>18     </td><td>28     </td></tr>\n",
       "\t<tr><td>female </td><td>group B</td><td>none   </td><td>19     </td><td>32     </td></tr>\n",
       "\t<tr><td>female </td><td>group C</td><td>none   </td><td>22     </td><td>33     </td></tr>\n",
       "</tbody>\n",
       "</table>\n"
      ],
      "text/latex": [
       "\\begin{tabular}{r|lllll}\n",
       " Gender & RE & TPC & Math & Writing\\\\\n",
       "\\hline\n",
       "\t female  & group C & none    &  0      & 10     \\\\\n",
       "\t female  & group B & none    &  8      & 23     \\\\\n",
       "\t female  & group B & none    & 18      & 28     \\\\\n",
       "\t female  & group B & none    & 19      & 32     \\\\\n",
       "\t female  & group C & none    & 22      & 33     \\\\\n",
       "\\end{tabular}\n"
      ],
      "text/markdown": [
       "\n",
       "| Gender | RE | TPC | Math | Writing |\n",
       "|---|---|---|---|---|\n",
       "| female  | group C | none    |  0      | 10      |\n",
       "| female  | group B | none    |  8      | 23      |\n",
       "| female  | group B | none    | 18      | 28      |\n",
       "| female  | group B | none    | 19      | 32      |\n",
       "| female  | group C | none    | 22      | 33      |\n",
       "\n"
      ],
      "text/plain": [
       "  Gender RE      TPC  Math Writing\n",
       "1 female group C none  0   10     \n",
       "2 female group B none  8   23     \n",
       "3 female group B none 18   28     \n",
       "4 female group B none 19   32     \n",
       "5 female group C none 22   33     "
      ]
     },
     "metadata": {},
     "output_type": "display_data"
    }
   ],
   "source": [
    "# selection with ordering using dplyr\n",
    "a2 <- df %>% \n",
    "      select(Gender, RE,TPC,Math,Writing) %>% \n",
    "      arrange(Math)  # in asc order of Math\n",
    "head(a2,5)"
   ]
  },
  {
   "cell_type": "code",
   "execution_count": 33,
   "id": "a322e7e2",
   "metadata": {},
   "outputs": [
    {
     "data": {
      "text/html": [
       "<table>\n",
       "<thead><tr><th scope=col>Gender</th><th scope=col>RE</th><th scope=col>TPC</th><th scope=col>Math</th><th scope=col>Writing</th></tr></thead>\n",
       "<tbody>\n",
       "\t<tr><td>female   </td><td>group D  </td><td>none     </td><td>87       </td><td>100      </td></tr>\n",
       "\t<tr><td>female   </td><td>group E  </td><td>completed</td><td>99       </td><td>100      </td></tr>\n",
       "\t<tr><td>female   </td><td>group C  </td><td>completed</td><td>96       </td><td>100      </td></tr>\n",
       "\t<tr><td>female   </td><td>group D  </td><td>completed</td><td>97       </td><td>100      </td></tr>\n",
       "\t<tr><td>female   </td><td>group D  </td><td>completed</td><td>85       </td><td>100      </td></tr>\n",
       "</tbody>\n",
       "</table>\n"
      ],
      "text/latex": [
       "\\begin{tabular}{r|lllll}\n",
       " Gender & RE & TPC & Math & Writing\\\\\n",
       "\\hline\n",
       "\t female    & group D   & none      & 87        & 100      \\\\\n",
       "\t female    & group E   & completed & 99        & 100      \\\\\n",
       "\t female    & group C   & completed & 96        & 100      \\\\\n",
       "\t female    & group D   & completed & 97        & 100      \\\\\n",
       "\t female    & group D   & completed & 85        & 100      \\\\\n",
       "\\end{tabular}\n"
      ],
      "text/markdown": [
       "\n",
       "| Gender | RE | TPC | Math | Writing |\n",
       "|---|---|---|---|---|\n",
       "| female    | group D   | none      | 87        | 100       |\n",
       "| female    | group E   | completed | 99        | 100       |\n",
       "| female    | group C   | completed | 96        | 100       |\n",
       "| female    | group D   | completed | 97        | 100       |\n",
       "| female    | group D   | completed | 85        | 100       |\n",
       "\n"
      ],
      "text/plain": [
       "  Gender RE      TPC       Math Writing\n",
       "1 female group D none      87   100    \n",
       "2 female group E completed 99   100    \n",
       "3 female group C completed 96   100    \n",
       "4 female group D completed 97   100    \n",
       "5 female group D completed 85   100    "
      ]
     },
     "metadata": {},
     "output_type": "display_data"
    }
   ],
   "source": [
    "# selection with ordering using dplyr\n",
    "a3 <- df %>% \n",
    "      select(Gender, RE,TPC,Math,Writing) %>% \n",
    "      arrange(desc(Writing))  # in asc order of Math\n",
    "head(a3,5)"
   ]
  },
  {
   "cell_type": "markdown",
   "id": "d7741ddd",
   "metadata": {},
   "source": [
    "### 4) Mutate using dplyr\n",
    "Used to create new fetures"
   ]
  },
  {
   "cell_type": "code",
   "execution_count": 35,
   "id": "7b0b262e",
   "metadata": {},
   "outputs": [
    {
     "data": {
      "text/html": [
       "<ol class=list-inline>\n",
       "\t<li>'Gender'</li>\n",
       "\t<li>'RE'</li>\n",
       "\t<li>'PLE'</li>\n",
       "\t<li>'Lunch'</li>\n",
       "\t<li>'TPC'</li>\n",
       "\t<li>'Math'</li>\n",
       "\t<li>'Reading'</li>\n",
       "\t<li>'Writing'</li>\n",
       "</ol>\n"
      ],
      "text/latex": [
       "\\begin{enumerate*}\n",
       "\\item 'Gender'\n",
       "\\item 'RE'\n",
       "\\item 'PLE'\n",
       "\\item 'Lunch'\n",
       "\\item 'TPC'\n",
       "\\item 'Math'\n",
       "\\item 'Reading'\n",
       "\\item 'Writing'\n",
       "\\end{enumerate*}\n"
      ],
      "text/markdown": [
       "1. 'Gender'\n",
       "2. 'RE'\n",
       "3. 'PLE'\n",
       "4. 'Lunch'\n",
       "5. 'TPC'\n",
       "6. 'Math'\n",
       "7. 'Reading'\n",
       "8. 'Writing'\n",
       "\n",
       "\n"
      ],
      "text/plain": [
       "[1] \"Gender\"  \"RE\"      \"PLE\"     \"Lunch\"   \"TPC\"     \"Math\"    \"Reading\"\n",
       "[8] \"Writing\""
      ]
     },
     "metadata": {},
     "output_type": "display_data"
    },
    {
     "data": {
      "text/html": [
       "FALSE"
      ],
      "text/latex": [
       "FALSE"
      ],
      "text/markdown": [
       "FALSE"
      ],
      "text/plain": [
       "[1] FALSE"
      ]
     },
     "metadata": {},
     "output_type": "display_data"
    }
   ],
   "source": [
    "df1 <- data.frame(df)            # Create copy of data\n",
    "colnames(df1)   \n",
    "tracemem(df1) == tracemem(df)"
   ]
  },
  {
   "cell_type": "markdown",
   "id": "ef988b55",
   "metadata": {},
   "source": [
    "#### 1) Without dplyr"
   ]
  },
  {
   "cell_type": "code",
   "execution_count": 37,
   "id": "350bf38b",
   "metadata": {},
   "outputs": [
    {
     "data": {
      "text/html": [
       "<table>\n",
       "<thead><tr><th scope=col>Gender</th><th scope=col>RE</th><th scope=col>PLE</th><th scope=col>Lunch</th><th scope=col>TPC</th><th scope=col>Math</th><th scope=col>Reading</th><th scope=col>Writing</th><th scope=col>Math_Per</th></tr></thead>\n",
       "<tbody>\n",
       "\t<tr><td>female           </td><td>group B          </td><td>bachelor's degree</td><td>standard         </td><td>none             </td><td>72               </td><td>72               </td><td>74               </td><td>0.72             </td></tr>\n",
       "\t<tr><td>female           </td><td>group C          </td><td>some college     </td><td>standard         </td><td>completed        </td><td>69               </td><td>90               </td><td>88               </td><td>0.69             </td></tr>\n",
       "\t<tr><td>female           </td><td>group B          </td><td>master's degree  </td><td>standard         </td><td>none             </td><td>90               </td><td>95               </td><td>93               </td><td>0.90             </td></tr>\n",
       "</tbody>\n",
       "</table>\n"
      ],
      "text/latex": [
       "\\begin{tabular}{r|lllllllll}\n",
       " Gender & RE & PLE & Lunch & TPC & Math & Reading & Writing & Math\\_Per\\\\\n",
       "\\hline\n",
       "\t female            & group B           & bachelor's degree & standard          & none              & 72                & 72                & 74                & 0.72             \\\\\n",
       "\t female            & group C           & some college      & standard          & completed         & 69                & 90                & 88                & 0.69             \\\\\n",
       "\t female            & group B           & master's degree   & standard          & none              & 90                & 95                & 93                & 0.90             \\\\\n",
       "\\end{tabular}\n"
      ],
      "text/markdown": [
       "\n",
       "| Gender | RE | PLE | Lunch | TPC | Math | Reading | Writing | Math_Per |\n",
       "|---|---|---|---|---|---|---|---|---|\n",
       "| female            | group B           | bachelor's degree | standard          | none              | 72                | 72                | 74                | 0.72              |\n",
       "| female            | group C           | some college      | standard          | completed         | 69                | 90                | 88                | 0.69              |\n",
       "| female            | group B           | master's degree   | standard          | none              | 90                | 95                | 93                | 0.90              |\n",
       "\n"
      ],
      "text/plain": [
       "  Gender RE      PLE               Lunch    TPC       Math Reading Writing\n",
       "1 female group B bachelor's degree standard none      72   72      74     \n",
       "2 female group C some college      standard completed 69   90      88     \n",
       "3 female group B master's degree   standard none      90   95      93     \n",
       "  Math_Per\n",
       "1 0.72    \n",
       "2 0.69    \n",
       "3 0.90    "
      ]
     },
     "metadata": {},
     "output_type": "display_data"
    }
   ],
   "source": [
    "df1$Math_Per <- df$Math/100\n",
    "head(df1,3)"
   ]
  },
  {
   "cell_type": "markdown",
   "id": "b32bdfef",
   "metadata": {},
   "source": [
    "#### 2) With dplyr"
   ]
  },
  {
   "cell_type": "code",
   "execution_count": 38,
   "id": "406d04dd",
   "metadata": {},
   "outputs": [
    {
     "data": {
      "text/html": [
       "<table>\n",
       "<thead><tr><th scope=col>Gender</th><th scope=col>RE</th><th scope=col>TPC</th><th scope=col>Math</th><th scope=col>Writing</th><th scope=col>Writing_per</th></tr></thead>\n",
       "<tbody>\n",
       "\t<tr><td>female   </td><td>group B  </td><td>none     </td><td>72       </td><td>74       </td><td>0.74     </td></tr>\n",
       "\t<tr><td>female   </td><td>group C  </td><td>completed</td><td>69       </td><td>88       </td><td>0.88     </td></tr>\n",
       "\t<tr><td>female   </td><td>group B  </td><td>none     </td><td>90       </td><td>93       </td><td>0.93     </td></tr>\n",
       "\t<tr><td>male     </td><td>group A  </td><td>none     </td><td>47       </td><td>44       </td><td>0.44     </td></tr>\n",
       "</tbody>\n",
       "</table>\n"
      ],
      "text/latex": [
       "\\begin{tabular}{r|llllll}\n",
       " Gender & RE & TPC & Math & Writing & Writing\\_per\\\\\n",
       "\\hline\n",
       "\t female    & group B   & none      & 72        & 74        & 0.74     \\\\\n",
       "\t female    & group C   & completed & 69        & 88        & 0.88     \\\\\n",
       "\t female    & group B   & none      & 90        & 93        & 0.93     \\\\\n",
       "\t male      & group A   & none      & 47        & 44        & 0.44     \\\\\n",
       "\\end{tabular}\n"
      ],
      "text/markdown": [
       "\n",
       "| Gender | RE | TPC | Math | Writing | Writing_per |\n",
       "|---|---|---|---|---|---|\n",
       "| female    | group B   | none      | 72        | 74        | 0.74      |\n",
       "| female    | group C   | completed | 69        | 88        | 0.88      |\n",
       "| female    | group B   | none      | 90        | 93        | 0.93      |\n",
       "| male      | group A   | none      | 47        | 44        | 0.44      |\n",
       "\n"
      ],
      "text/plain": [
       "  Gender RE      TPC       Math Writing Writing_per\n",
       "1 female group B none      72   74      0.74       \n",
       "2 female group C completed 69   88      0.88       \n",
       "3 female group B none      90   93      0.93       \n",
       "4 male   group A none      47   44      0.44       "
      ]
     },
     "metadata": {},
     "output_type": "display_data"
    }
   ],
   "source": [
    "a4 <- df %>%\n",
    "    select(Gender, RE,TPC,Math,Writing) %>%\n",
    "    mutate(Writing_per = Writing/100)\n",
    "\n",
    "head(a4,4)"
   ]
  },
  {
   "cell_type": "code",
   "execution_count": 39,
   "id": "c3078a7c",
   "metadata": {},
   "outputs": [
    {
     "data": {
      "text/html": [
       "<table>\n",
       "<thead><tr><th scope=col>Gender</th><th scope=col>RE</th><th scope=col>PLE</th><th scope=col>Lunch</th><th scope=col>TPC</th><th scope=col>Math</th><th scope=col>Reading</th><th scope=col>Writing</th><th scope=col>Math_Per</th><th scope=col>Writing_per</th></tr></thead>\n",
       "<tbody>\n",
       "\t<tr><td>female           </td><td>group B          </td><td>bachelor's degree</td><td>standard         </td><td>none             </td><td>72               </td><td>72               </td><td>74               </td><td>0.72             </td><td>0.74             </td></tr>\n",
       "\t<tr><td>female           </td><td>group C          </td><td>some college     </td><td>standard         </td><td>completed        </td><td>69               </td><td>90               </td><td>88               </td><td>0.69             </td><td>0.88             </td></tr>\n",
       "\t<tr><td>female           </td><td>group B          </td><td>master's degree  </td><td>standard         </td><td>none             </td><td>90               </td><td>95               </td><td>93               </td><td>0.90             </td><td>0.93             </td></tr>\n",
       "</tbody>\n",
       "</table>\n"
      ],
      "text/latex": [
       "\\begin{tabular}{r|llllllllll}\n",
       " Gender & RE & PLE & Lunch & TPC & Math & Reading & Writing & Math\\_Per & Writing\\_per\\\\\n",
       "\\hline\n",
       "\t female            & group B           & bachelor's degree & standard          & none              & 72                & 72                & 74                & 0.72              & 0.74             \\\\\n",
       "\t female            & group C           & some college      & standard          & completed         & 69                & 90                & 88                & 0.69              & 0.88             \\\\\n",
       "\t female            & group B           & master's degree   & standard          & none              & 90                & 95                & 93                & 0.90              & 0.93             \\\\\n",
       "\\end{tabular}\n"
      ],
      "text/markdown": [
       "\n",
       "| Gender | RE | PLE | Lunch | TPC | Math | Reading | Writing | Math_Per | Writing_per |\n",
       "|---|---|---|---|---|---|---|---|---|---|\n",
       "| female            | group B           | bachelor's degree | standard          | none              | 72                | 72                | 74                | 0.72              | 0.74              |\n",
       "| female            | group C           | some college      | standard          | completed         | 69                | 90                | 88                | 0.69              | 0.88              |\n",
       "| female            | group B           | master's degree   | standard          | none              | 90                | 95                | 93                | 0.90              | 0.93              |\n",
       "\n"
      ],
      "text/plain": [
       "  Gender RE      PLE               Lunch    TPC       Math Reading Writing\n",
       "1 female group B bachelor's degree standard none      72   72      74     \n",
       "2 female group C some college      standard completed 69   90      88     \n",
       "3 female group B master's degree   standard none      90   95      93     \n",
       "  Math_Per Writing_per\n",
       "1 0.72     0.74       \n",
       "2 0.69     0.88       \n",
       "3 0.90     0.93       "
      ]
     },
     "metadata": {},
     "output_type": "display_data"
    }
   ],
   "source": [
    "# strore the new variable\n",
    "df1 <- df1 %>% mutate(Writing_per = Writing/100)\n",
    "head(df1,3)"
   ]
  },
  {
   "cell_type": "markdown",
   "id": "040b1417",
   "metadata": {},
   "source": [
    "#### Group by using dplyr"
   ]
  },
  {
   "cell_type": "code",
   "execution_count": 40,
   "id": "6cec02dd",
   "metadata": {},
   "outputs": [
    {
     "data": {
      "text/html": [
       "<table>\n",
       "<thead><tr><th scope=col>RE</th><th scope=col>Mean_Math</th></tr></thead>\n",
       "<tbody>\n",
       "\t<tr><td>group A </td><td>61.62921</td></tr>\n",
       "\t<tr><td>group B </td><td>63.45263</td></tr>\n",
       "\t<tr><td>group C </td><td>64.46395</td></tr>\n",
       "\t<tr><td>group D </td><td>67.36260</td></tr>\n",
       "\t<tr><td>group E </td><td>73.82143</td></tr>\n",
       "</tbody>\n",
       "</table>\n"
      ],
      "text/latex": [
       "\\begin{tabular}{r|ll}\n",
       " RE & Mean\\_Math\\\\\n",
       "\\hline\n",
       "\t group A  & 61.62921\\\\\n",
       "\t group B  & 63.45263\\\\\n",
       "\t group C  & 64.46395\\\\\n",
       "\t group D  & 67.36260\\\\\n",
       "\t group E  & 73.82143\\\\\n",
       "\\end{tabular}\n"
      ],
      "text/markdown": [
       "\n",
       "| RE | Mean_Math |\n",
       "|---|---|\n",
       "| group A  | 61.62921 |\n",
       "| group B  | 63.45263 |\n",
       "| group C  | 64.46395 |\n",
       "| group D  | 67.36260 |\n",
       "| group E  | 73.82143 |\n",
       "\n"
      ],
      "text/plain": [
       "  RE      Mean_Math\n",
       "1 group A 61.62921 \n",
       "2 group B 63.45263 \n",
       "3 group C 64.46395 \n",
       "4 group D 67.36260 \n",
       "5 group E 73.82143 "
      ]
     },
     "metadata": {},
     "output_type": "display_data"
    }
   ],
   "source": [
    "g1 <- df %>%\n",
    "        group_by(RE) %>%\n",
    "        summarise(Mean_Math = mean(Math, na.rm=TRUE))\n",
    "g1"
   ]
  },
  {
   "cell_type": "code",
   "execution_count": 41,
   "id": "2f042be9",
   "metadata": {},
   "outputs": [
    {
     "data": {
      "text/html": [
       "<table>\n",
       "<thead><tr><th scope=col>RE</th><th scope=col>Gender</th><th scope=col>Mean_Math</th><th scope=col>Sum_Writing</th></tr></thead>\n",
       "<tbody>\n",
       "\t<tr><td>group A </td><td>female  </td><td>58.52778</td><td> 2443   </td></tr>\n",
       "\t<tr><td>group A </td><td>male    </td><td>63.73585</td><td> 3135   </td></tr>\n",
       "\t<tr><td>group B </td><td>female  </td><td>61.40385</td><td> 7285   </td></tr>\n",
       "\t<tr><td>group B </td><td>male    </td><td>65.93023</td><td> 5179   </td></tr>\n",
       "\t<tr><td>group C </td><td>female  </td><td>62.03333</td><td>12920   </td></tr>\n",
       "\t<tr><td>group C </td><td>male    </td><td>67.61151</td><td> 8717   </td></tr>\n",
       "\t<tr><td>group D </td><td>female  </td><td>65.24806</td><td> 9678   </td></tr>\n",
       "\t<tr><td>group D </td><td>male    </td><td>69.41353</td><td> 8700   </td></tr>\n",
       "\t<tr><td>group E </td><td>female  </td><td>70.81159</td><td> 5212   </td></tr>\n",
       "\t<tr><td>group E </td><td>male    </td><td>76.74648</td><td> 4785   </td></tr>\n",
       "</tbody>\n",
       "</table>\n"
      ],
      "text/latex": [
       "\\begin{tabular}{r|llll}\n",
       " RE & Gender & Mean\\_Math & Sum\\_Writing\\\\\n",
       "\\hline\n",
       "\t group A  & female   & 58.52778 &  2443   \\\\\n",
       "\t group A  & male     & 63.73585 &  3135   \\\\\n",
       "\t group B  & female   & 61.40385 &  7285   \\\\\n",
       "\t group B  & male     & 65.93023 &  5179   \\\\\n",
       "\t group C  & female   & 62.03333 & 12920   \\\\\n",
       "\t group C  & male     & 67.61151 &  8717   \\\\\n",
       "\t group D  & female   & 65.24806 &  9678   \\\\\n",
       "\t group D  & male     & 69.41353 &  8700   \\\\\n",
       "\t group E  & female   & 70.81159 &  5212   \\\\\n",
       "\t group E  & male     & 76.74648 &  4785   \\\\\n",
       "\\end{tabular}\n"
      ],
      "text/markdown": [
       "\n",
       "| RE | Gender | Mean_Math | Sum_Writing |\n",
       "|---|---|---|---|\n",
       "| group A  | female   | 58.52778 |  2443    |\n",
       "| group A  | male     | 63.73585 |  3135    |\n",
       "| group B  | female   | 61.40385 |  7285    |\n",
       "| group B  | male     | 65.93023 |  5179    |\n",
       "| group C  | female   | 62.03333 | 12920    |\n",
       "| group C  | male     | 67.61151 |  8717    |\n",
       "| group D  | female   | 65.24806 |  9678    |\n",
       "| group D  | male     | 69.41353 |  8700    |\n",
       "| group E  | female   | 70.81159 |  5212    |\n",
       "| group E  | male     | 76.74648 |  4785    |\n",
       "\n"
      ],
      "text/plain": [
       "   RE      Gender Mean_Math Sum_Writing\n",
       "1  group A female 58.52778   2443      \n",
       "2  group A male   63.73585   3135      \n",
       "3  group B female 61.40385   7285      \n",
       "4  group B male   65.93023   5179      \n",
       "5  group C female 62.03333  12920      \n",
       "6  group C male   67.61151   8717      \n",
       "7  group D female 65.24806   9678      \n",
       "8  group D male   69.41353   8700      \n",
       "9  group E female 70.81159   5212      \n",
       "10 group E male   76.74648   4785      "
      ]
     },
     "metadata": {},
     "output_type": "display_data"
    }
   ],
   "source": [
    "g2 = df %>% group_by(RE, Gender) %>%\n",
    "                   summarise(Mean_Math = mean(Math),\n",
    "                             Sum_Writing = sum(Writing))\n",
    "g2"
   ]
  },
  {
   "cell_type": "code",
   "execution_count": 45,
   "id": "d89bbbde",
   "metadata": {},
   "outputs": [
    {
     "data": {
      "text/html": [
       "<table>\n",
       "<thead><tr><th scope=col>RE</th><th scope=col>Gender</th><th scope=col>Mean_Math</th><th scope=col>Sum_Writing</th></tr></thead>\n",
       "<tbody>\n",
       "\t<tr><td>group A </td><td>female  </td><td>58.52778</td><td> 2443   </td></tr>\n",
       "\t<tr><td>group A </td><td>male    </td><td>63.73585</td><td> 3135   </td></tr>\n",
       "\t<tr><td>group E </td><td>male    </td><td>76.74648</td><td> 4785   </td></tr>\n",
       "\t<tr><td>group B </td><td>male    </td><td>65.93023</td><td> 5179   </td></tr>\n",
       "\t<tr><td>group E </td><td>female  </td><td>70.81159</td><td> 5212   </td></tr>\n",
       "\t<tr><td>group B </td><td>female  </td><td>61.40385</td><td> 7285   </td></tr>\n",
       "\t<tr><td>group D </td><td>male    </td><td>69.41353</td><td> 8700   </td></tr>\n",
       "\t<tr><td>group C </td><td>male    </td><td>67.61151</td><td> 8717   </td></tr>\n",
       "\t<tr><td>group D </td><td>female  </td><td>65.24806</td><td> 9678   </td></tr>\n",
       "\t<tr><td>group C </td><td>female  </td><td>62.03333</td><td>12920   </td></tr>\n",
       "</tbody>\n",
       "</table>\n"
      ],
      "text/latex": [
       "\\begin{tabular}{r|llll}\n",
       " RE & Gender & Mean\\_Math & Sum\\_Writing\\\\\n",
       "\\hline\n",
       "\t group A  & female   & 58.52778 &  2443   \\\\\n",
       "\t group A  & male     & 63.73585 &  3135   \\\\\n",
       "\t group E  & male     & 76.74648 &  4785   \\\\\n",
       "\t group B  & male     & 65.93023 &  5179   \\\\\n",
       "\t group E  & female   & 70.81159 &  5212   \\\\\n",
       "\t group B  & female   & 61.40385 &  7285   \\\\\n",
       "\t group D  & male     & 69.41353 &  8700   \\\\\n",
       "\t group C  & male     & 67.61151 &  8717   \\\\\n",
       "\t group D  & female   & 65.24806 &  9678   \\\\\n",
       "\t group C  & female   & 62.03333 & 12920   \\\\\n",
       "\\end{tabular}\n"
      ],
      "text/markdown": [
       "\n",
       "| RE | Gender | Mean_Math | Sum_Writing |\n",
       "|---|---|---|---|\n",
       "| group A  | female   | 58.52778 |  2443    |\n",
       "| group A  | male     | 63.73585 |  3135    |\n",
       "| group E  | male     | 76.74648 |  4785    |\n",
       "| group B  | male     | 65.93023 |  5179    |\n",
       "| group E  | female   | 70.81159 |  5212    |\n",
       "| group B  | female   | 61.40385 |  7285    |\n",
       "| group D  | male     | 69.41353 |  8700    |\n",
       "| group C  | male     | 67.61151 |  8717    |\n",
       "| group D  | female   | 65.24806 |  9678    |\n",
       "| group C  | female   | 62.03333 | 12920    |\n",
       "\n"
      ],
      "text/plain": [
       "   RE      Gender Mean_Math Sum_Writing\n",
       "1  group A female 58.52778   2443      \n",
       "2  group A male   63.73585   3135      \n",
       "3  group E male   76.74648   4785      \n",
       "4  group B male   65.93023   5179      \n",
       "5  group E female 70.81159   5212      \n",
       "6  group B female 61.40385   7285      \n",
       "7  group D male   69.41353   8700      \n",
       "8  group C male   67.61151   8717      \n",
       "9  group D female 65.24806   9678      \n",
       "10 group C female 62.03333  12920      "
      ]
     },
     "metadata": {},
     "output_type": "display_data"
    }
   ],
   "source": [
    "g3 = df %>% group_by(RE, Gender) %>%\n",
    "                   summarise(Mean_Math = mean(Math),\n",
    "                             Sum_Writing = sum(Writing)) %>%\n",
    "                    arrange(Sum_Writing)\n",
    "g3"
   ]
  },
  {
   "cell_type": "code",
   "execution_count": 43,
   "id": "f6a43b37",
   "metadata": {},
   "outputs": [
    {
     "data": {
      "text/html": [
       "<table>\n",
       "<thead><tr><th scope=col>RE</th><th scope=col>Gender</th><th scope=col>n</th></tr></thead>\n",
       "<tbody>\n",
       "\t<tr><td>group C</td><td>female </td><td>180    </td></tr>\n",
       "\t<tr><td>group C</td><td>male   </td><td>139    </td></tr>\n",
       "\t<tr><td>group D</td><td>male   </td><td>133    </td></tr>\n",
       "\t<tr><td>group D</td><td>female </td><td>129    </td></tr>\n",
       "\t<tr><td>group B</td><td>female </td><td>104    </td></tr>\n",
       "\t<tr><td>group B</td><td>male   </td><td> 86    </td></tr>\n",
       "\t<tr><td>group E</td><td>male   </td><td> 71    </td></tr>\n",
       "\t<tr><td>group E</td><td>female </td><td> 69    </td></tr>\n",
       "\t<tr><td>group A</td><td>male   </td><td> 53    </td></tr>\n",
       "\t<tr><td>group A</td><td>female </td><td> 36    </td></tr>\n",
       "</tbody>\n",
       "</table>\n"
      ],
      "text/latex": [
       "\\begin{tabular}{r|lll}\n",
       " RE & Gender & n\\\\\n",
       "\\hline\n",
       "\t group C & female  & 180    \\\\\n",
       "\t group C & male    & 139    \\\\\n",
       "\t group D & male    & 133    \\\\\n",
       "\t group D & female  & 129    \\\\\n",
       "\t group B & female  & 104    \\\\\n",
       "\t group B & male    &  86    \\\\\n",
       "\t group E & male    &  71    \\\\\n",
       "\t group E & female  &  69    \\\\\n",
       "\t group A & male    &  53    \\\\\n",
       "\t group A & female  &  36    \\\\\n",
       "\\end{tabular}\n"
      ],
      "text/markdown": [
       "\n",
       "| RE | Gender | n |\n",
       "|---|---|---|\n",
       "| group C | female  | 180     |\n",
       "| group C | male    | 139     |\n",
       "| group D | male    | 133     |\n",
       "| group D | female  | 129     |\n",
       "| group B | female  | 104     |\n",
       "| group B | male    |  86     |\n",
       "| group E | male    |  71     |\n",
       "| group E | female  |  69     |\n",
       "| group A | male    |  53     |\n",
       "| group A | female  |  36     |\n",
       "\n"
      ],
      "text/plain": [
       "   RE      Gender n  \n",
       "1  group C female 180\n",
       "2  group C male   139\n",
       "3  group D male   133\n",
       "4  group D female 129\n",
       "5  group B female 104\n",
       "6  group B male    86\n",
       "7  group E male    71\n",
       "8  group E female  69\n",
       "9  group A male    53\n",
       "10 group A female  36"
      ]
     },
     "metadata": {},
     "output_type": "display_data"
    }
   ],
   "source": [
    "a4 <- df %>%\n",
    "    group_by(RE, Gender) %>%\n",
    "    tally(sort = TRUE)\n",
    "a4"
   ]
  },
  {
   "cell_type": "code",
   "execution_count": null,
   "id": "b5efd3e1",
   "metadata": {},
   "outputs": [],
   "source": []
  },
  {
   "cell_type": "code",
   "execution_count": null,
   "id": "596f9975",
   "metadata": {},
   "outputs": [],
   "source": []
  },
  {
   "cell_type": "code",
   "execution_count": null,
   "id": "c7a17c2a",
   "metadata": {},
   "outputs": [],
   "source": []
  },
  {
   "cell_type": "code",
   "execution_count": null,
   "id": "9dad3efc",
   "metadata": {},
   "outputs": [],
   "source": []
  },
  {
   "cell_type": "code",
   "execution_count": 15,
   "id": "f304eb64",
   "metadata": {},
   "outputs": [
    {
     "data": {
      "text/html": [
       "<table>\n",
       "<thead><tr><th></th><th scope=col>mpg</th><th scope=col>cyl</th><th scope=col>disp</th><th scope=col>hp</th><th scope=col>drat</th><th scope=col>wt</th><th scope=col>qsec</th><th scope=col>vs</th><th scope=col>am</th><th scope=col>gear</th><th scope=col>carb</th></tr></thead>\n",
       "<tbody>\n",
       "\t<tr><th scope=row>Mazda RX4</th><td>21   </td><td>6    </td><td>160  </td><td>110  </td><td>3.9  </td><td>2.620</td><td>16.46</td><td>0    </td><td>1    </td><td>4    </td><td>4    </td></tr>\n",
       "\t<tr><th scope=row>Mazda RX4 Wag</th><td>21   </td><td>6    </td><td>160  </td><td>110  </td><td>3.9  </td><td>2.875</td><td>17.02</td><td>0    </td><td>1    </td><td>4    </td><td>4    </td></tr>\n",
       "</tbody>\n",
       "</table>\n"
      ],
      "text/latex": [
       "\\begin{tabular}{r|lllllllllll}\n",
       "  & mpg & cyl & disp & hp & drat & wt & qsec & vs & am & gear & carb\\\\\n",
       "\\hline\n",
       "\tMazda RX4 & 21    & 6     & 160   & 110   & 3.9   & 2.620 & 16.46 & 0     & 1     & 4     & 4    \\\\\n",
       "\tMazda RX4 Wag & 21    & 6     & 160   & 110   & 3.9   & 2.875 & 17.02 & 0     & 1     & 4     & 4    \\\\\n",
       "\\end{tabular}\n"
      ],
      "text/markdown": [
       "\n",
       "| <!--/--> | mpg | cyl | disp | hp | drat | wt | qsec | vs | am | gear | carb |\n",
       "|---|---|---|---|---|---|---|---|---|---|---|---|\n",
       "| Mazda RX4 | 21    | 6     | 160   | 110   | 3.9   | 2.620 | 16.46 | 0     | 1     | 4     | 4     |\n",
       "| Mazda RX4 Wag | 21    | 6     | 160   | 110   | 3.9   | 2.875 | 17.02 | 0     | 1     | 4     | 4     |\n",
       "\n"
      ],
      "text/plain": [
       "              mpg cyl disp hp  drat wt    qsec  vs am gear carb\n",
       "Mazda RX4     21  6   160  110 3.9  2.620 16.46 0  1  4    4   \n",
       "Mazda RX4 Wag 21  6   160  110 3.9  2.875 17.02 0  1  4    4   "
      ]
     },
     "metadata": {},
     "output_type": "display_data"
    }
   ],
   "source": [
    "head(mtcars,2)"
   ]
  },
  {
   "cell_type": "code",
   "execution_count": 16,
   "id": "250c261d",
   "metadata": {},
   "outputs": [
    {
     "data": {
      "text/html": [
       "<table>\n",
       "<thead><tr><th scope=col>mpg</th><th scope=col>cyl</th><th scope=col>disp</th><th scope=col>hp</th><th scope=col>drat</th><th scope=col>wt</th><th scope=col>qsec</th><th scope=col>vs</th><th scope=col>am</th><th scope=col>gear</th><th scope=col>carb</th></tr></thead>\n",
       "<tbody>\n",
       "\t<tr><td>21.0 </td><td>6    </td><td>160  </td><td>110  </td><td>3.90 </td><td>2.620</td><td>16.46</td><td>0    </td><td>1    </td><td>4    </td><td>4    </td></tr>\n",
       "\t<tr><td>21.0 </td><td>6    </td><td>160  </td><td>110  </td><td>3.90 </td><td>2.875</td><td>17.02</td><td>0    </td><td>1    </td><td>4    </td><td>4    </td></tr>\n",
       "\t<tr><td>22.8 </td><td>4    </td><td>108  </td><td> 93  </td><td>3.85 </td><td>2.320</td><td>18.61</td><td>1    </td><td>1    </td><td>4    </td><td>1    </td></tr>\n",
       "</tbody>\n",
       "</table>\n"
      ],
      "text/latex": [
       "\\begin{tabular}{r|lllllllllll}\n",
       " mpg & cyl & disp & hp & drat & wt & qsec & vs & am & gear & carb\\\\\n",
       "\\hline\n",
       "\t 21.0  & 6     & 160   & 110   & 3.90  & 2.620 & 16.46 & 0     & 1     & 4     & 4    \\\\\n",
       "\t 21.0  & 6     & 160   & 110   & 3.90  & 2.875 & 17.02 & 0     & 1     & 4     & 4    \\\\\n",
       "\t 22.8  & 4     & 108   &  93   & 3.85  & 2.320 & 18.61 & 1     & 1     & 4     & 1    \\\\\n",
       "\\end{tabular}\n"
      ],
      "text/markdown": [
       "\n",
       "| mpg | cyl | disp | hp | drat | wt | qsec | vs | am | gear | carb |\n",
       "|---|---|---|---|---|---|---|---|---|---|---|\n",
       "| 21.0  | 6     | 160   | 110   | 3.90  | 2.620 | 16.46 | 0     | 1     | 4     | 4     |\n",
       "| 21.0  | 6     | 160   | 110   | 3.90  | 2.875 | 17.02 | 0     | 1     | 4     | 4     |\n",
       "| 22.8  | 4     | 108   |  93   | 3.85  | 2.320 | 18.61 | 1     | 1     | 4     | 1     |\n",
       "\n"
      ],
      "text/plain": [
       "  mpg  cyl disp hp  drat wt    qsec  vs am gear carb\n",
       "1 21.0 6   160  110 3.90 2.620 16.46 0  1  4    4   \n",
       "2 21.0 6   160  110 3.90 2.875 17.02 0  1  4    4   \n",
       "3 22.8 4   108   93 3.85 2.320 18.61 1  1  4    1   "
      ]
     },
     "metadata": {},
     "output_type": "display_data"
    }
   ],
   "source": [
    "df1 <- tbl_df(mtcars)\n",
    "head(df1,3)"
   ]
  },
  {
   "cell_type": "code",
   "execution_count": null,
   "id": "5aed8cc0",
   "metadata": {},
   "outputs": [],
   "source": []
  },
  {
   "cell_type": "code",
   "execution_count": null,
   "id": "3b0875ff",
   "metadata": {},
   "outputs": [],
   "source": []
  },
  {
   "cell_type": "markdown",
   "id": "576eca64",
   "metadata": {},
   "source": [
    "#### Group by"
   ]
  },
  {
   "cell_type": "code",
   "execution_count": null,
   "id": "124f9f26",
   "metadata": {},
   "outputs": [],
   "source": []
  }
 ],
 "metadata": {
  "kernelspec": {
   "display_name": "R",
   "language": "R",
   "name": "ir"
  },
  "language_info": {
   "codemirror_mode": "r",
   "file_extension": ".r",
   "mimetype": "text/x-r-source",
   "name": "R",
   "pygments_lexer": "r",
   "version": "3.6.1"
  }
 },
 "nbformat": 4,
 "nbformat_minor": 5
}
