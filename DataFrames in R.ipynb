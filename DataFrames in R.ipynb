{
 "cells": [
  {
   "cell_type": "markdown",
   "id": "509d4524",
   "metadata": {},
   "source": [
    "#### DataFrames\n",
    "\n",
    "1) Data Frames are data displayed in a format as a table.<br>\n",
    "2) Table will bear row and column<br>\n",
    "3) We can have hetrogeneous data in dataframe unlike matrix<br>\n",
    "4) However, each column will bear same data type<br>"
   ]
  },
  {
   "cell_type": "markdown",
   "id": "59899d00",
   "metadata": {},
   "source": [
    "#### Creating DataFrame using vectors"
   ]
  },
  {
   "cell_type": "code",
   "execution_count": 1,
   "id": "b1590ac7",
   "metadata": {},
   "outputs": [
    {
     "name": "stdout",
     "output_type": "stream",
     "text": [
      "[1] \"data.frame\"\n"
     ]
    },
    {
     "data": {
      "text/html": [
       "<table>\n",
       "<thead><tr><th scope=col>names</th><th scope=col>age</th><th scope=col>city</th></tr></thead>\n",
       "<tbody>\n",
       "\t<tr><td>Ankit   </td><td>20      </td><td>Delhi   </td></tr>\n",
       "\t<tr><td>Raj     </td><td>22      </td><td>Noida   </td></tr>\n",
       "\t<tr><td>Hitesh  </td><td>NA      </td><td>Pune    </td></tr>\n",
       "\t<tr><td>Shubham </td><td>23      </td><td>NA      </td></tr>\n",
       "\t<tr><td>Radhika </td><td>24      </td><td>Nagpur  </td></tr>\n",
       "\t<tr><td>Prajakta</td><td>23      </td><td>Mumbai  </td></tr>\n",
       "\t<tr><td>Nikita  </td><td>22      </td><td>Delhi   </td></tr>\n",
       "</tbody>\n",
       "</table>\n"
      ],
      "text/latex": [
       "\\begin{tabular}{r|lll}\n",
       " names & age & city\\\\\n",
       "\\hline\n",
       "\t Ankit    & 20       & Delhi   \\\\\n",
       "\t Raj      & 22       & Noida   \\\\\n",
       "\t Hitesh   & NA       & Pune    \\\\\n",
       "\t Shubham  & 23       & NA      \\\\\n",
       "\t Radhika  & 24       & Nagpur  \\\\\n",
       "\t Prajakta & 23       & Mumbai  \\\\\n",
       "\t Nikita   & 22       & Delhi   \\\\\n",
       "\\end{tabular}\n"
      ],
      "text/markdown": [
       "\n",
       "| names | age | city |\n",
       "|---|---|---|\n",
       "| Ankit    | 20       | Delhi    |\n",
       "| Raj      | 22       | Noida    |\n",
       "| Hitesh   | NA       | Pune     |\n",
       "| Shubham  | 23       | NA       |\n",
       "| Radhika  | 24       | Nagpur   |\n",
       "| Prajakta | 23       | Mumbai   |\n",
       "| Nikita   | 22       | Delhi    |\n",
       "\n"
      ],
      "text/plain": [
       "  names    age city  \n",
       "1 Ankit    20  Delhi \n",
       "2 Raj      22  Noida \n",
       "3 Hitesh   NA  Pune  \n",
       "4 Shubham  23  NA    \n",
       "5 Radhika  24  Nagpur\n",
       "6 Prajakta 23  Mumbai\n",
       "7 Nikita   22  Delhi "
      ]
     },
     "metadata": {},
     "output_type": "display_data"
    }
   ],
   "source": [
    "names <- c('Ankit','Raj','Hitesh','Shubham','Radhika','Prajakta','Nikita')\n",
    "age <-  c(20,22,NA,23,24,23,22)\n",
    "city <- c('Delhi','Noida','Pune',NA,'Nagpur','Mumbai','Delhi')\n",
    "\n",
    "df1 <- data.frame(names,age,city)\n",
    "print(class(df1))\n",
    "df1"
   ]
  },
  {
   "cell_type": "code",
   "execution_count": 4,
   "id": "b425e0dd",
   "metadata": {},
   "outputs": [
    {
     "ename": "ERROR",
     "evalue": "Error in View(df1): 'View()' not yet supported in the Jupyter R kernel\n",
     "output_type": "error",
     "traceback": [
      "Error in View(df1): 'View()' not yet supported in the Jupyter R kernel\nTraceback:\n",
      "1. View(df1)",
      "2. stop(sQuote(\"View()\"), \" not yet supported in the Jupyter R kernel\")"
     ]
    }
   ],
   "source": [
    "View(df1)  # not supported yet in Jupyter"
   ]
  },
  {
   "cell_type": "code",
   "execution_count": 5,
   "id": "452b1fe4",
   "metadata": {},
   "outputs": [
    {
     "name": "stdout",
     "output_type": "stream",
     "text": [
      "'data.frame':\t7 obs. of  3 variables:\n",
      " $ names: Factor w/ 7 levels \"Ankit\",\"Hitesh\",..: 1 6 2 7 5 4 3\n",
      " $ age  : num  20 22 NA 23 24 23 22\n",
      " $ city : Factor w/ 5 levels \"Delhi\",\"Mumbai\",..: 1 4 5 NA 3 2 1\n"
     ]
    }
   ],
   "source": [
    "str(df1)"
   ]
  },
  {
   "cell_type": "code",
   "execution_count": 79,
   "id": "b47870c1",
   "metadata": {},
   "outputs": [
    {
     "name": "stdout",
     "output_type": "stream",
     "text": [
      "'data.frame':\t7 obs. of  4 variables:\n",
      " $ Names: Factor w/ 7 levels \"Ankit\",\"Hitesh\",..: 1 6 2 7 5 4 3\n",
      " $ Age  : num  20 22 NA 23 24 23 22\n",
      " $ City : Factor w/ 5 levels \"Delhi\",\"Mumbai\",..: 1 4 5 NA 3 2 1\n",
      " $ Dept : chr  \"IT\" \"Finance\" \"Operations\" \"HR\" ...\n"
     ]
    },
    {
     "data": {
      "text/html": [],
      "text/latex": [],
      "text/markdown": [],
      "text/plain": [
       " \n",
       "1\n",
       "2\n",
       "3\n",
       "4\n",
       "5\n",
       "6\n",
       "7"
      ]
     },
     "metadata": {},
     "output_type": "display_data"
    }
   ],
   "source": [
    "df1[str(df1)=='Factor']"
   ]
  },
  {
   "cell_type": "code",
   "execution_count": 6,
   "id": "3497a34c",
   "metadata": {},
   "outputs": [
    {
     "data": {
      "text/plain": [
       "      names        age            city  \n",
       " Ankit   :1   Min.   :20.00   Delhi :2  \n",
       " Hitesh  :1   1st Qu.:22.00   Mumbai:1  \n",
       " Nikita  :1   Median :22.50   Nagpur:1  \n",
       " Prajakta:1   Mean   :22.33   Noida :1  \n",
       " Radhika :1   3rd Qu.:23.00   Pune  :1  \n",
       " Raj     :1   Max.   :24.00   NA's  :1  \n",
       " Shubham :1   NA's   :1                 "
      ]
     },
     "metadata": {},
     "output_type": "display_data"
    }
   ],
   "source": [
    "summary(df1)  \n",
    "# df.describe()"
   ]
  },
  {
   "cell_type": "code",
   "execution_count": 7,
   "id": "14bd33d2",
   "metadata": {},
   "outputs": [
    {
     "data": {
      "text/plain": [
       "   Min. 1st Qu.  Median    Mean 3rd Qu.    Max.    NA's \n",
       "  20.00   22.00   22.50   22.33   23.00   24.00       1 "
      ]
     },
     "metadata": {},
     "output_type": "display_data"
    }
   ],
   "source": [
    "summary(df1$age)  \n",
    "# df['a'].describe()"
   ]
  },
  {
   "cell_type": "markdown",
   "id": "4a347f39",
   "metadata": {},
   "source": [
    "#### head,tail and sample"
   ]
  },
  {
   "cell_type": "code",
   "execution_count": 8,
   "id": "86b71cdb",
   "metadata": {},
   "outputs": [
    {
     "data": {
      "text/html": [
       "<table>\n",
       "<thead><tr><th scope=col>names</th><th scope=col>age</th><th scope=col>city</th></tr></thead>\n",
       "<tbody>\n",
       "\t<tr><td>Ankit </td><td>20    </td><td>Delhi </td></tr>\n",
       "\t<tr><td>Raj   </td><td>22    </td><td>Noida </td></tr>\n",
       "\t<tr><td>Hitesh</td><td>NA    </td><td>Pune  </td></tr>\n",
       "</tbody>\n",
       "</table>\n"
      ],
      "text/latex": [
       "\\begin{tabular}{r|lll}\n",
       " names & age & city\\\\\n",
       "\\hline\n",
       "\t Ankit  & 20     & Delhi \\\\\n",
       "\t Raj    & 22     & Noida \\\\\n",
       "\t Hitesh & NA     & Pune  \\\\\n",
       "\\end{tabular}\n"
      ],
      "text/markdown": [
       "\n",
       "| names | age | city |\n",
       "|---|---|---|\n",
       "| Ankit  | 20     | Delhi  |\n",
       "| Raj    | 22     | Noida  |\n",
       "| Hitesh | NA     | Pune   |\n",
       "\n"
      ],
      "text/plain": [
       "  names  age city \n",
       "1 Ankit  20  Delhi\n",
       "2 Raj    22  Noida\n",
       "3 Hitesh NA  Pune "
      ]
     },
     "metadata": {},
     "output_type": "display_data"
    }
   ],
   "source": [
    "head(df1,3) # by default top 6 rows"
   ]
  },
  {
   "cell_type": "code",
   "execution_count": 9,
   "id": "3027b187",
   "metadata": {},
   "outputs": [
    {
     "data": {
      "text/html": [
       "<table>\n",
       "<thead><tr><th></th><th scope=col>names</th><th scope=col>age</th><th scope=col>city</th></tr></thead>\n",
       "<tbody>\n",
       "\t<tr><th scope=row>4</th><td>Shubham </td><td>23      </td><td>NA      </td></tr>\n",
       "\t<tr><th scope=row>5</th><td>Radhika </td><td>24      </td><td>Nagpur  </td></tr>\n",
       "\t<tr><th scope=row>6</th><td>Prajakta</td><td>23      </td><td>Mumbai  </td></tr>\n",
       "\t<tr><th scope=row>7</th><td>Nikita  </td><td>22      </td><td>Delhi   </td></tr>\n",
       "</tbody>\n",
       "</table>\n"
      ],
      "text/latex": [
       "\\begin{tabular}{r|lll}\n",
       "  & names & age & city\\\\\n",
       "\\hline\n",
       "\t4 & Shubham  & 23       & NA      \\\\\n",
       "\t5 & Radhika  & 24       & Nagpur  \\\\\n",
       "\t6 & Prajakta & 23       & Mumbai  \\\\\n",
       "\t7 & Nikita   & 22       & Delhi   \\\\\n",
       "\\end{tabular}\n"
      ],
      "text/markdown": [
       "\n",
       "| <!--/--> | names | age | city |\n",
       "|---|---|---|---|\n",
       "| 4 | Shubham  | 23       | NA       |\n",
       "| 5 | Radhika  | 24       | Nagpur   |\n",
       "| 6 | Prajakta | 23       | Mumbai   |\n",
       "| 7 | Nikita   | 22       | Delhi    |\n",
       "\n"
      ],
      "text/plain": [
       "  names    age city  \n",
       "4 Shubham  23  NA    \n",
       "5 Radhika  24  Nagpur\n",
       "6 Prajakta 23  Mumbai\n",
       "7 Nikita   22  Delhi "
      ]
     },
     "metadata": {},
     "output_type": "display_data"
    }
   ],
   "source": [
    "tail(df1,4)  # bottom 6 rows"
   ]
  },
  {
   "cell_type": "code",
   "execution_count": 17,
   "id": "56d78d68",
   "metadata": {},
   "outputs": [],
   "source": [
    "library(tidyverse)\n",
    "library(dplyr)"
   ]
  },
  {
   "cell_type": "code",
   "execution_count": 24,
   "id": "053563e3",
   "metadata": {},
   "outputs": [
    {
     "data": {
      "text/html": [
       "<table>\n",
       "<thead><tr><th scope=col>names</th><th scope=col>age</th><th scope=col>city</th></tr></thead>\n",
       "<tbody>\n",
       "\t<tr><td>Ankit   </td><td>20      </td><td>Delhi   </td></tr>\n",
       "\t<tr><td>Shubham </td><td>23      </td><td>NA      </td></tr>\n",
       "\t<tr><td>Prajakta</td><td>23      </td><td>Mumbai  </td></tr>\n",
       "</tbody>\n",
       "</table>\n"
      ],
      "text/latex": [
       "\\begin{tabular}{r|lll}\n",
       " names & age & city\\\\\n",
       "\\hline\n",
       "\t Ankit    & 20       & Delhi   \\\\\n",
       "\t Shubham  & 23       & NA      \\\\\n",
       "\t Prajakta & 23       & Mumbai  \\\\\n",
       "\\end{tabular}\n"
      ],
      "text/markdown": [
       "\n",
       "| names | age | city |\n",
       "|---|---|---|\n",
       "| Ankit    | 20       | Delhi    |\n",
       "| Shubham  | 23       | NA       |\n",
       "| Prajakta | 23       | Mumbai   |\n",
       "\n"
      ],
      "text/plain": [
       "  names    age city  \n",
       "1 Ankit    20  Delhi \n",
       "2 Shubham  23  NA    \n",
       "3 Prajakta 23  Mumbai"
      ]
     },
     "metadata": {},
     "output_type": "display_data"
    }
   ],
   "source": [
    "sample_n(df1,3)  # returns random n rows,\n",
    "# sample_n is a function from dplyr package"
   ]
  },
  {
   "cell_type": "markdown",
   "id": "208d4b1e",
   "metadata": {},
   "source": [
    "#### Fetching a single column"
   ]
  },
  {
   "cell_type": "code",
   "execution_count": 19,
   "id": "1f796691",
   "metadata": {},
   "outputs": [
    {
     "name": "stdout",
     "output_type": "stream",
     "text": [
      "[1] Ankit    Raj      Hitesh   Shubham  Radhika  Prajakta Nikita  \n",
      "Levels: Ankit Hitesh Nikita Prajakta Radhika Raj Shubham\n",
      "[1] 20 22 NA 23 24 23 22\n",
      "[1] Delhi  Noida  Pune   <NA>   Nagpur Mumbai Delhi \n",
      "Levels: Delhi Mumbai Nagpur Noida Pune\n"
     ]
    }
   ],
   "source": [
    "# Method-1\n",
    "print(df1$names)  # factor\n",
    "print(df1$age)    # num\n",
    "print(df1$city)   # factor"
   ]
  },
  {
   "cell_type": "code",
   "execution_count": 35,
   "id": "d300d2ae",
   "metadata": {},
   "outputs": [
    {
     "data": {
      "text/html": [
       "<table>\n",
       "<thead><tr><th scope=col>names</th></tr></thead>\n",
       "<tbody>\n",
       "\t<tr><td>Ankit   </td></tr>\n",
       "\t<tr><td>Raj     </td></tr>\n",
       "\t<tr><td>Hitesh  </td></tr>\n",
       "\t<tr><td>Shubham </td></tr>\n",
       "\t<tr><td>Radhika </td></tr>\n",
       "\t<tr><td>Prajakta</td></tr>\n",
       "\t<tr><td>Nikita  </td></tr>\n",
       "</tbody>\n",
       "</table>\n"
      ],
      "text/latex": [
       "\\begin{tabular}{r|l}\n",
       " names\\\\\n",
       "\\hline\n",
       "\t Ankit   \\\\\n",
       "\t Raj     \\\\\n",
       "\t Hitesh  \\\\\n",
       "\t Shubham \\\\\n",
       "\t Radhika \\\\\n",
       "\t Prajakta\\\\\n",
       "\t Nikita  \\\\\n",
       "\\end{tabular}\n"
      ],
      "text/markdown": [
       "\n",
       "| names |\n",
       "|---|\n",
       "| Ankit    |\n",
       "| Raj      |\n",
       "| Hitesh   |\n",
       "| Shubham  |\n",
       "| Radhika  |\n",
       "| Prajakta |\n",
       "| Nikita   |\n",
       "\n"
      ],
      "text/plain": [
       "  names   \n",
       "1 Ankit   \n",
       "2 Raj     \n",
       "3 Hitesh  \n",
       "4 Shubham \n",
       "5 Radhika \n",
       "6 Prajakta\n",
       "7 Nikita  "
      ]
     },
     "metadata": {},
     "output_type": "display_data"
    }
   ],
   "source": [
    "#### Method - 2\n",
    "df1['names']"
   ]
  },
  {
   "cell_type": "code",
   "execution_count": 25,
   "id": "48e436e2",
   "metadata": {},
   "outputs": [
    {
     "data": {
      "text/html": [
       "<ol class=list-inline>\n",
       "\t<li>20</li>\n",
       "\t<li>22</li>\n",
       "\t<li>&lt;NA&gt;</li>\n",
       "\t<li>23</li>\n",
       "\t<li>24</li>\n",
       "\t<li>23</li>\n",
       "\t<li>22</li>\n",
       "</ol>\n"
      ],
      "text/latex": [
       "\\begin{enumerate*}\n",
       "\\item 20\n",
       "\\item 22\n",
       "\\item <NA>\n",
       "\\item 23\n",
       "\\item 24\n",
       "\\item 23\n",
       "\\item 22\n",
       "\\end{enumerate*}\n"
      ],
      "text/markdown": [
       "1. 20\n",
       "2. 22\n",
       "3. &lt;NA&gt;\n",
       "4. 23\n",
       "5. 24\n",
       "6. 23\n",
       "7. 22\n",
       "\n",
       "\n"
      ],
      "text/plain": [
       "[1] 20 22 NA 23 24 23 22"
      ]
     },
     "metadata": {},
     "output_type": "display_data"
    }
   ],
   "source": [
    "df1[['age']]"
   ]
  },
  {
   "cell_type": "code",
   "execution_count": 26,
   "id": "27075733",
   "metadata": {},
   "outputs": [
    {
     "name": "stdout",
     "output_type": "stream",
     "text": [
      "[1] \"numeric\"\n",
      "[1] \"data.frame\"\n"
     ]
    }
   ],
   "source": [
    "print(class(df1[['age']]))\n",
    "print(class(df1['age']))  #  a single column from a data.frame is a dataframe in R"
   ]
  },
  {
   "cell_type": "markdown",
   "id": "f56a51b8",
   "metadata": {},
   "source": [
    "#### Fetching multiple columns"
   ]
  },
  {
   "cell_type": "code",
   "execution_count": 27,
   "id": "9dbf1085",
   "metadata": {},
   "outputs": [
    {
     "data": {
      "text/html": [
       "<table>\n",
       "<thead><tr><th scope=col>names</th><th scope=col>age</th><th scope=col>city</th></tr></thead>\n",
       "<tbody>\n",
       "\t<tr><td>Ankit   </td><td>20      </td><td>Delhi   </td></tr>\n",
       "\t<tr><td>Raj     </td><td>22      </td><td>Noida   </td></tr>\n",
       "\t<tr><td>Hitesh  </td><td>NA      </td><td>Pune    </td></tr>\n",
       "\t<tr><td>Shubham </td><td>23      </td><td>NA      </td></tr>\n",
       "\t<tr><td>Radhika </td><td>24      </td><td>Nagpur  </td></tr>\n",
       "\t<tr><td>Prajakta</td><td>23      </td><td>Mumbai  </td></tr>\n",
       "\t<tr><td>Nikita  </td><td>22      </td><td>Delhi   </td></tr>\n",
       "</tbody>\n",
       "</table>\n"
      ],
      "text/latex": [
       "\\begin{tabular}{r|lll}\n",
       " names & age & city\\\\\n",
       "\\hline\n",
       "\t Ankit    & 20       & Delhi   \\\\\n",
       "\t Raj      & 22       & Noida   \\\\\n",
       "\t Hitesh   & NA       & Pune    \\\\\n",
       "\t Shubham  & 23       & NA      \\\\\n",
       "\t Radhika  & 24       & Nagpur  \\\\\n",
       "\t Prajakta & 23       & Mumbai  \\\\\n",
       "\t Nikita   & 22       & Delhi   \\\\\n",
       "\\end{tabular}\n"
      ],
      "text/markdown": [
       "\n",
       "| names | age | city |\n",
       "|---|---|---|\n",
       "| Ankit    | 20       | Delhi    |\n",
       "| Raj      | 22       | Noida    |\n",
       "| Hitesh   | NA       | Pune     |\n",
       "| Shubham  | 23       | NA       |\n",
       "| Radhika  | 24       | Nagpur   |\n",
       "| Prajakta | 23       | Mumbai   |\n",
       "| Nikita   | 22       | Delhi    |\n",
       "\n"
      ],
      "text/plain": [
       "  names    age city  \n",
       "1 Ankit    20  Delhi \n",
       "2 Raj      22  Noida \n",
       "3 Hitesh   NA  Pune  \n",
       "4 Shubham  23  NA    \n",
       "5 Radhika  24  Nagpur\n",
       "6 Prajakta 23  Mumbai\n",
       "7 Nikita   22  Delhi "
      ]
     },
     "metadata": {},
     "output_type": "display_data"
    }
   ],
   "source": [
    "df1"
   ]
  },
  {
   "cell_type": "code",
   "execution_count": 28,
   "id": "42e851d7",
   "metadata": {},
   "outputs": [
    {
     "data": {
      "text/html": [
       "Noida\n",
       "<details>\n",
       "\t<summary style=display:list-item;cursor:pointer>\n",
       "\t\t<strong>Levels</strong>:\n",
       "\t</summary>\n",
       "\t<ol class=list-inline>\n",
       "\t\t<li>'Delhi'</li>\n",
       "\t\t<li>'Mumbai'</li>\n",
       "\t\t<li>'Nagpur'</li>\n",
       "\t\t<li>'Noida'</li>\n",
       "\t\t<li>'Pune'</li>\n",
       "\t</ol>\n",
       "</details>"
      ],
      "text/latex": [
       "Noida\n",
       "\\emph{Levels}: \\begin{enumerate*}\n",
       "\\item 'Delhi'\n",
       "\\item 'Mumbai'\n",
       "\\item 'Nagpur'\n",
       "\\item 'Noida'\n",
       "\\item 'Pune'\n",
       "\\end{enumerate*}\n"
      ],
      "text/markdown": [
       "Noida\n",
       "**Levels**: 1. 'Delhi'\n",
       "2. 'Mumbai'\n",
       "3. 'Nagpur'\n",
       "4. 'Noida'\n",
       "5. 'Pune'\n",
       "\n",
       "\n"
      ],
      "text/plain": [
       "[1] Noida\n",
       "Levels: Delhi Mumbai Nagpur Noida Pune"
      ]
     },
     "metadata": {},
     "output_type": "display_data"
    }
   ],
   "source": [
    "df1[2,3]"
   ]
  },
  {
   "cell_type": "code",
   "execution_count": 29,
   "id": "eb52493a",
   "metadata": {},
   "outputs": [
    {
     "data": {
      "text/html": [
       "<table>\n",
       "<thead><tr><th></th><th scope=col>names</th><th scope=col>age</th><th scope=col>city</th></tr></thead>\n",
       "<tbody>\n",
       "\t<tr><th scope=row>2</th><td>Raj  </td><td>22   </td><td>Noida</td></tr>\n",
       "</tbody>\n",
       "</table>\n"
      ],
      "text/latex": [
       "\\begin{tabular}{r|lll}\n",
       "  & names & age & city\\\\\n",
       "\\hline\n",
       "\t2 & Raj   & 22    & Noida\\\\\n",
       "\\end{tabular}\n"
      ],
      "text/markdown": [
       "\n",
       "| <!--/--> | names | age | city |\n",
       "|---|---|---|---|\n",
       "| 2 | Raj   | 22    | Noida |\n",
       "\n"
      ],
      "text/plain": [
       "  names age city \n",
       "2 Raj   22  Noida"
      ]
     },
     "metadata": {},
     "output_type": "display_data"
    }
   ],
   "source": [
    "df1[2,]  # accessing row num 2"
   ]
  },
  {
   "cell_type": "code",
   "execution_count": 30,
   "id": "5dcaced5",
   "metadata": {},
   "outputs": [
    {
     "data": {
      "text/html": [
       "<ol class=list-inline>\n",
       "\t<li>Delhi</li>\n",
       "\t<li>Noida</li>\n",
       "\t<li>Pune</li>\n",
       "\t<li>&lt;NA&gt;</li>\n",
       "\t<li>Nagpur</li>\n",
       "\t<li>Mumbai</li>\n",
       "\t<li>Delhi</li>\n",
       "</ol>\n",
       "\n",
       "<details>\n",
       "\t<summary style=display:list-item;cursor:pointer>\n",
       "\t\t<strong>Levels</strong>:\n",
       "\t</summary>\n",
       "\t<ol class=list-inline>\n",
       "\t\t<li>'Delhi'</li>\n",
       "\t\t<li>'Mumbai'</li>\n",
       "\t\t<li>'Nagpur'</li>\n",
       "\t\t<li>'Noida'</li>\n",
       "\t\t<li>'Pune'</li>\n",
       "\t</ol>\n",
       "</details>"
      ],
      "text/latex": [
       "\\begin{enumerate*}\n",
       "\\item Delhi\n",
       "\\item Noida\n",
       "\\item Pune\n",
       "\\item <NA>\n",
       "\\item Nagpur\n",
       "\\item Mumbai\n",
       "\\item Delhi\n",
       "\\end{enumerate*}\n",
       "\n",
       "\\emph{Levels}: \\begin{enumerate*}\n",
       "\\item 'Delhi'\n",
       "\\item 'Mumbai'\n",
       "\\item 'Nagpur'\n",
       "\\item 'Noida'\n",
       "\\item 'Pune'\n",
       "\\end{enumerate*}\n"
      ],
      "text/markdown": [
       "1. Delhi\n",
       "2. Noida\n",
       "3. Pune\n",
       "4. &lt;NA&gt;\n",
       "5. Nagpur\n",
       "6. Mumbai\n",
       "7. Delhi\n",
       "\n",
       "\n",
       "\n",
       "**Levels**: 1. 'Delhi'\n",
       "2. 'Mumbai'\n",
       "3. 'Nagpur'\n",
       "4. 'Noida'\n",
       "5. 'Pune'\n",
       "\n",
       "\n"
      ],
      "text/plain": [
       "[1] Delhi  Noida  Pune   <NA>   Nagpur Mumbai Delhi \n",
       "Levels: Delhi Mumbai Nagpur Noida Pune"
      ]
     },
     "metadata": {},
     "output_type": "display_data"
    }
   ],
   "source": [
    "df1[,3]"
   ]
  },
  {
   "cell_type": "code",
   "execution_count": 31,
   "id": "d8ac8bc9",
   "metadata": {},
   "outputs": [
    {
     "data": {
      "text/html": [
       "<table>\n",
       "<thead><tr><th scope=col>names</th><th scope=col>age</th></tr></thead>\n",
       "<tbody>\n",
       "\t<tr><td>Ankit   </td><td>20      </td></tr>\n",
       "\t<tr><td>Raj     </td><td>22      </td></tr>\n",
       "\t<tr><td>Hitesh  </td><td>NA      </td></tr>\n",
       "\t<tr><td>Shubham </td><td>23      </td></tr>\n",
       "\t<tr><td>Radhika </td><td>24      </td></tr>\n",
       "\t<tr><td>Prajakta</td><td>23      </td></tr>\n",
       "\t<tr><td>Nikita  </td><td>22      </td></tr>\n",
       "</tbody>\n",
       "</table>\n"
      ],
      "text/latex": [
       "\\begin{tabular}{r|ll}\n",
       " names & age\\\\\n",
       "\\hline\n",
       "\t Ankit    & 20      \\\\\n",
       "\t Raj      & 22      \\\\\n",
       "\t Hitesh   & NA      \\\\\n",
       "\t Shubham  & 23      \\\\\n",
       "\t Radhika  & 24      \\\\\n",
       "\t Prajakta & 23      \\\\\n",
       "\t Nikita   & 22      \\\\\n",
       "\\end{tabular}\n"
      ],
      "text/markdown": [
       "\n",
       "| names | age |\n",
       "|---|---|\n",
       "| Ankit    | 20       |\n",
       "| Raj      | 22       |\n",
       "| Hitesh   | NA       |\n",
       "| Shubham  | 23       |\n",
       "| Radhika  | 24       |\n",
       "| Prajakta | 23       |\n",
       "| Nikita   | 22       |\n",
       "\n"
      ],
      "text/plain": [
       "  names    age\n",
       "1 Ankit    20 \n",
       "2 Raj      22 \n",
       "3 Hitesh   NA \n",
       "4 Shubham  23 \n",
       "5 Radhika  24 \n",
       "6 Prajakta 23 \n",
       "7 Nikita   22 "
      ]
     },
     "metadata": {},
     "output_type": "display_data"
    }
   ],
   "source": [
    "# Method - 1\n",
    "df1[,1:2]  # accessing col1 and col2"
   ]
  },
  {
   "cell_type": "code",
   "execution_count": 32,
   "id": "3273e9df",
   "metadata": {},
   "outputs": [
    {
     "data": {
      "text/html": [
       "<table>\n",
       "<thead><tr><th scope=col>names</th><th scope=col>city</th></tr></thead>\n",
       "<tbody>\n",
       "\t<tr><td>Ankit </td><td>Delhi </td></tr>\n",
       "\t<tr><td>Raj   </td><td>Noida </td></tr>\n",
       "\t<tr><td>Hitesh</td><td>Pune  </td></tr>\n",
       "</tbody>\n",
       "</table>\n"
      ],
      "text/latex": [
       "\\begin{tabular}{r|ll}\n",
       " names & city\\\\\n",
       "\\hline\n",
       "\t Ankit  & Delhi \\\\\n",
       "\t Raj    & Noida \\\\\n",
       "\t Hitesh & Pune  \\\\\n",
       "\\end{tabular}\n"
      ],
      "text/markdown": [
       "\n",
       "| names | city |\n",
       "|---|---|\n",
       "| Ankit  | Delhi  |\n",
       "| Raj    | Noida  |\n",
       "| Hitesh | Pune   |\n",
       "\n"
      ],
      "text/plain": [
       "  names  city \n",
       "1 Ankit  Delhi\n",
       "2 Raj    Noida\n",
       "3 Hitesh Pune "
      ]
     },
     "metadata": {},
     "output_type": "display_data"
    }
   ],
   "source": [
    "df1[1:3,c(1,3)]"
   ]
  },
  {
   "cell_type": "code",
   "execution_count": 33,
   "id": "7a7cc8a1",
   "metadata": {},
   "outputs": [
    {
     "data": {
      "text/html": [
       "<table>\n",
       "<thead><tr><th scope=col>names</th><th scope=col>age</th><th scope=col>city</th></tr></thead>\n",
       "<tbody>\n",
       "\t<tr><td>Ankit   </td><td>20      </td><td>Delhi   </td></tr>\n",
       "\t<tr><td>Raj     </td><td>22      </td><td>Noida   </td></tr>\n",
       "\t<tr><td>Hitesh  </td><td>NA      </td><td>Pune    </td></tr>\n",
       "\t<tr><td>Shubham </td><td>23      </td><td>NA      </td></tr>\n",
       "\t<tr><td>Radhika </td><td>24      </td><td>Nagpur  </td></tr>\n",
       "\t<tr><td>Prajakta</td><td>23      </td><td>Mumbai  </td></tr>\n",
       "\t<tr><td>Nikita  </td><td>22      </td><td>Delhi   </td></tr>\n",
       "</tbody>\n",
       "</table>\n"
      ],
      "text/latex": [
       "\\begin{tabular}{r|lll}\n",
       " names & age & city\\\\\n",
       "\\hline\n",
       "\t Ankit    & 20       & Delhi   \\\\\n",
       "\t Raj      & 22       & Noida   \\\\\n",
       "\t Hitesh   & NA       & Pune    \\\\\n",
       "\t Shubham  & 23       & NA      \\\\\n",
       "\t Radhika  & 24       & Nagpur  \\\\\n",
       "\t Prajakta & 23       & Mumbai  \\\\\n",
       "\t Nikita   & 22       & Delhi   \\\\\n",
       "\\end{tabular}\n"
      ],
      "text/markdown": [
       "\n",
       "| names | age | city |\n",
       "|---|---|---|\n",
       "| Ankit    | 20       | Delhi    |\n",
       "| Raj      | 22       | Noida    |\n",
       "| Hitesh   | NA       | Pune     |\n",
       "| Shubham  | 23       | NA       |\n",
       "| Radhika  | 24       | Nagpur   |\n",
       "| Prajakta | 23       | Mumbai   |\n",
       "| Nikita   | 22       | Delhi    |\n",
       "\n"
      ],
      "text/plain": [
       "  names    age city  \n",
       "1 Ankit    20  Delhi \n",
       "2 Raj      22  Noida \n",
       "3 Hitesh   NA  Pune  \n",
       "4 Shubham  23  NA    \n",
       "5 Radhika  24  Nagpur\n",
       "6 Prajakta 23  Mumbai\n",
       "7 Nikita   22  Delhi "
      ]
     },
     "metadata": {},
     "output_type": "display_data"
    }
   ],
   "source": [
    "df1"
   ]
  },
  {
   "cell_type": "code",
   "execution_count": 34,
   "id": "f51005d0",
   "metadata": {},
   "outputs": [
    {
     "data": {
      "text/html": [
       "24"
      ],
      "text/latex": [
       "24"
      ],
      "text/markdown": [
       "24"
      ],
      "text/plain": [
       "[1] 24"
      ]
     },
     "metadata": {},
     "output_type": "display_data"
    }
   ],
   "source": [
    "# row=5, col=2\n",
    "df1[5,2]"
   ]
  },
  {
   "cell_type": "code",
   "execution_count": 35,
   "id": "416543db",
   "metadata": {},
   "outputs": [
    {
     "data": {
      "text/html": [
       "Noida\n",
       "<details>\n",
       "\t<summary style=display:list-item;cursor:pointer>\n",
       "\t\t<strong>Levels</strong>:\n",
       "\t</summary>\n",
       "\t<ol class=list-inline>\n",
       "\t\t<li>'Delhi'</li>\n",
       "\t\t<li>'Mumbai'</li>\n",
       "\t\t<li>'Nagpur'</li>\n",
       "\t\t<li>'Noida'</li>\n",
       "\t\t<li>'Pune'</li>\n",
       "\t</ol>\n",
       "</details>"
      ],
      "text/latex": [
       "Noida\n",
       "\\emph{Levels}: \\begin{enumerate*}\n",
       "\\item 'Delhi'\n",
       "\\item 'Mumbai'\n",
       "\\item 'Nagpur'\n",
       "\\item 'Noida'\n",
       "\\item 'Pune'\n",
       "\\end{enumerate*}\n"
      ],
      "text/markdown": [
       "Noida\n",
       "**Levels**: 1. 'Delhi'\n",
       "2. 'Mumbai'\n",
       "3. 'Nagpur'\n",
       "4. 'Noida'\n",
       "5. 'Pune'\n",
       "\n",
       "\n"
      ],
      "text/plain": [
       "[1] Noida\n",
       "Levels: Delhi Mumbai Nagpur Noida Pune"
      ]
     },
     "metadata": {},
     "output_type": "display_data"
    }
   ],
   "source": [
    "df1[2,'city']  # row num, column name"
   ]
  },
  {
   "cell_type": "markdown",
   "id": "9f8efaa3",
   "metadata": {},
   "source": [
    "#### Import libraries"
   ]
  },
  {
   "cell_type": "code",
   "execution_count": 36,
   "id": "dc22249f",
   "metadata": {},
   "outputs": [],
   "source": [
    "library(tidyverse)\n",
    "library(dplyr)"
   ]
  },
  {
   "cell_type": "code",
   "execution_count": 37,
   "id": "2d990066",
   "metadata": {},
   "outputs": [
    {
     "data": {
      "text/html": [
       "<table>\n",
       "<thead><tr><th scope=col>city</th><th scope=col>names</th></tr></thead>\n",
       "<tbody>\n",
       "\t<tr><td>Delhi   </td><td>Ankit   </td></tr>\n",
       "\t<tr><td>Noida   </td><td>Raj     </td></tr>\n",
       "\t<tr><td>Pune    </td><td>Hitesh  </td></tr>\n",
       "\t<tr><td>NA      </td><td>Shubham </td></tr>\n",
       "\t<tr><td>Nagpur  </td><td>Radhika </td></tr>\n",
       "\t<tr><td>Mumbai  </td><td>Prajakta</td></tr>\n",
       "\t<tr><td>Delhi   </td><td>Nikita  </td></tr>\n",
       "</tbody>\n",
       "</table>\n"
      ],
      "text/latex": [
       "\\begin{tabular}{r|ll}\n",
       " city & names\\\\\n",
       "\\hline\n",
       "\t Delhi    & Ankit   \\\\\n",
       "\t Noida    & Raj     \\\\\n",
       "\t Pune     & Hitesh  \\\\\n",
       "\t NA       & Shubham \\\\\n",
       "\t Nagpur   & Radhika \\\\\n",
       "\t Mumbai   & Prajakta\\\\\n",
       "\t Delhi    & Nikita  \\\\\n",
       "\\end{tabular}\n"
      ],
      "text/markdown": [
       "\n",
       "| city | names |\n",
       "|---|---|\n",
       "| Delhi    | Ankit    |\n",
       "| Noida    | Raj      |\n",
       "| Pune     | Hitesh   |\n",
       "| NA       | Shubham  |\n",
       "| Nagpur   | Radhika  |\n",
       "| Mumbai   | Prajakta |\n",
       "| Delhi    | Nikita   |\n",
       "\n"
      ],
      "text/plain": [
       "  city   names   \n",
       "1 Delhi  Ankit   \n",
       "2 Noida  Raj     \n",
       "3 Pune   Hitesh  \n",
       "4 NA     Shubham \n",
       "5 Nagpur Radhika \n",
       "6 Mumbai Prajakta\n",
       "7 Delhi  Nikita  "
      ]
     },
     "metadata": {},
     "output_type": "display_data"
    }
   ],
   "source": [
    "# select function is imported from dplyr\n",
    "select(df1,city, names)"
   ]
  },
  {
   "cell_type": "code",
   "execution_count": 60,
   "id": "c3e527d3",
   "metadata": {},
   "outputs": [
    {
     "data": {
      "text/html": [
       "<table>\n",
       "<thead><tr><th scope=col>names</th><th scope=col>age</th></tr></thead>\n",
       "<tbody>\n",
       "\t<tr><td>Ankit   </td><td>20      </td></tr>\n",
       "\t<tr><td>Raj     </td><td>22      </td></tr>\n",
       "\t<tr><td>Hitesh  </td><td>NA      </td></tr>\n",
       "\t<tr><td>Shubham </td><td>23      </td></tr>\n",
       "\t<tr><td>Radhika </td><td>24      </td></tr>\n",
       "\t<tr><td>Prajakta</td><td>23      </td></tr>\n",
       "\t<tr><td>Nikita  </td><td>22      </td></tr>\n",
       "</tbody>\n",
       "</table>\n"
      ],
      "text/latex": [
       "\\begin{tabular}{r|ll}\n",
       " names & age\\\\\n",
       "\\hline\n",
       "\t Ankit    & 20      \\\\\n",
       "\t Raj      & 22      \\\\\n",
       "\t Hitesh   & NA      \\\\\n",
       "\t Shubham  & 23      \\\\\n",
       "\t Radhika  & 24      \\\\\n",
       "\t Prajakta & 23      \\\\\n",
       "\t Nikita   & 22      \\\\\n",
       "\\end{tabular}\n"
      ],
      "text/markdown": [
       "\n",
       "| names | age |\n",
       "|---|---|\n",
       "| Ankit    | 20       |\n",
       "| Raj      | 22       |\n",
       "| Hitesh   | NA       |\n",
       "| Shubham  | 23       |\n",
       "| Radhika  | 24       |\n",
       "| Prajakta | 23       |\n",
       "| Nikita   | 22       |\n",
       "\n"
      ],
      "text/plain": [
       "  names    age\n",
       "1 Ankit    20 \n",
       "2 Raj      22 \n",
       "3 Hitesh   NA \n",
       "4 Shubham  23 \n",
       "5 Radhika  24 \n",
       "6 Prajakta 23 \n",
       "7 Nikita   22 "
      ]
     },
     "metadata": {},
     "output_type": "display_data"
    }
   ],
   "source": [
    "select(df1,c(1,2))"
   ]
  },
  {
   "cell_type": "code",
   "execution_count": 39,
   "id": "53a49852",
   "metadata": {},
   "outputs": [
    {
     "data": {
      "text/html": [
       "<table>\n",
       "<thead><tr><th scope=col>city</th><th scope=col>names</th></tr></thead>\n",
       "<tbody>\n",
       "\t<tr><td>Delhi  </td><td>Ankit  </td></tr>\n",
       "\t<tr><td>Noida  </td><td>Raj    </td></tr>\n",
       "\t<tr><td>Pune   </td><td>Hitesh </td></tr>\n",
       "\t<tr><td>NA     </td><td>Shubham</td></tr>\n",
       "\t<tr><td>Nagpur </td><td>Radhika</td></tr>\n",
       "</tbody>\n",
       "</table>\n"
      ],
      "text/latex": [
       "\\begin{tabular}{r|ll}\n",
       " city & names\\\\\n",
       "\\hline\n",
       "\t Delhi   & Ankit  \\\\\n",
       "\t Noida   & Raj    \\\\\n",
       "\t Pune    & Hitesh \\\\\n",
       "\t NA      & Shubham\\\\\n",
       "\t Nagpur  & Radhika\\\\\n",
       "\\end{tabular}\n"
      ],
      "text/markdown": [
       "\n",
       "| city | names |\n",
       "|---|---|\n",
       "| Delhi   | Ankit   |\n",
       "| Noida   | Raj     |\n",
       "| Pune    | Hitesh  |\n",
       "| NA      | Shubham |\n",
       "| Nagpur  | Radhika |\n",
       "\n"
      ],
      "text/plain": [
       "  city   names  \n",
       "1 Delhi  Ankit  \n",
       "2 Noida  Raj    \n",
       "3 Pune   Hitesh \n",
       "4 NA     Shubham\n",
       "5 Nagpur Radhika"
      ]
     },
     "metadata": {},
     "output_type": "display_data"
    }
   ],
   "source": [
    "head(select(df1, city,names),5)"
   ]
  },
  {
   "cell_type": "markdown",
   "id": "25e74e60",
   "metadata": {},
   "source": [
    "#### Filtering a DataFrame"
   ]
  },
  {
   "cell_type": "code",
   "execution_count": 44,
   "id": "9f9a300f",
   "metadata": {},
   "outputs": [
    {
     "data": {
      "text/html": [
       "<table>\n",
       "<thead><tr><th></th><th scope=col>names</th><th scope=col>age</th><th scope=col>city</th></tr></thead>\n",
       "<tbody>\n",
       "\t<tr><th scope=row>1</th><td>Ankit </td><td>20    </td><td>Delhi </td></tr>\n",
       "\t<tr><th scope=row>7</th><td>Nikita</td><td>22    </td><td>Delhi </td></tr>\n",
       "</tbody>\n",
       "</table>\n"
      ],
      "text/latex": [
       "\\begin{tabular}{r|lll}\n",
       "  & names & age & city\\\\\n",
       "\\hline\n",
       "\t1 & Ankit  & 20     & Delhi \\\\\n",
       "\t7 & Nikita & 22     & Delhi \\\\\n",
       "\\end{tabular}\n"
      ],
      "text/markdown": [
       "\n",
       "| <!--/--> | names | age | city |\n",
       "|---|---|---|---|\n",
       "| 1 | Ankit  | 20     | Delhi  |\n",
       "| 7 | Nikita | 22     | Delhi  |\n",
       "\n"
      ],
      "text/plain": [
       "  names  age city \n",
       "1 Ankit  20  Delhi\n",
       "7 Nikita 22  Delhi"
      ]
     },
     "metadata": {},
     "output_type": "display_data"
    }
   ],
   "source": [
    "df1_new = subset(df1, df1$city == \"Delhi\")\n",
    "df1_new"
   ]
  },
  {
   "cell_type": "markdown",
   "id": "4bddd314",
   "metadata": {},
   "source": [
    "#### Adding a new column"
   ]
  },
  {
   "cell_type": "code",
   "execution_count": 45,
   "id": "577649a5",
   "metadata": {},
   "outputs": [
    {
     "data": {
      "text/html": [
       "<ol class=list-inline>\n",
       "\t<li>'names'</li>\n",
       "\t<li>'age'</li>\n",
       "\t<li>'city'</li>\n",
       "</ol>\n"
      ],
      "text/latex": [
       "\\begin{enumerate*}\n",
       "\\item 'names'\n",
       "\\item 'age'\n",
       "\\item 'city'\n",
       "\\end{enumerate*}\n"
      ],
      "text/markdown": [
       "1. 'names'\n",
       "2. 'age'\n",
       "3. 'city'\n",
       "\n",
       "\n"
      ],
      "text/plain": [
       "[1] \"names\" \"age\"   \"city\" "
      ]
     },
     "metadata": {},
     "output_type": "display_data"
    },
    {
     "data": {
      "text/html": [
       "<ol class=list-inline>\n",
       "\t<li>7</li>\n",
       "\t<li>3</li>\n",
       "</ol>\n"
      ],
      "text/latex": [
       "\\begin{enumerate*}\n",
       "\\item 7\n",
       "\\item 3\n",
       "\\end{enumerate*}\n"
      ],
      "text/markdown": [
       "1. 7\n",
       "2. 3\n",
       "\n",
       "\n"
      ],
      "text/plain": [
       "[1] 7 3"
      ]
     },
     "metadata": {},
     "output_type": "display_data"
    }
   ],
   "source": [
    "colnames(df1)\n",
    "dim(df1)"
   ]
  },
  {
   "cell_type": "code",
   "execution_count": 46,
   "id": "21d8d6f2",
   "metadata": {},
   "outputs": [
    {
     "data": {
      "text/html": [
       "<ol class=list-inline>\n",
       "\t<li>'names'</li>\n",
       "\t<li>'age'</li>\n",
       "\t<li>'city'</li>\n",
       "\t<li>'dept'</li>\n",
       "</ol>\n"
      ],
      "text/latex": [
       "\\begin{enumerate*}\n",
       "\\item 'names'\n",
       "\\item 'age'\n",
       "\\item 'city'\n",
       "\\item 'dept'\n",
       "\\end{enumerate*}\n"
      ],
      "text/markdown": [
       "1. 'names'\n",
       "2. 'age'\n",
       "3. 'city'\n",
       "4. 'dept'\n",
       "\n",
       "\n"
      ],
      "text/plain": [
       "[1] \"names\" \"age\"   \"city\"  \"dept\" "
      ]
     },
     "metadata": {},
     "output_type": "display_data"
    }
   ],
   "source": [
    "df1$dept <- c(\"IT\",\"Finance\",\"Operations\",\"HR\",\"Admin\",\"IT\",\"Finance\")\n",
    "colnames(df1)"
   ]
  },
  {
   "cell_type": "code",
   "execution_count": 47,
   "id": "c87e6182",
   "metadata": {},
   "outputs": [
    {
     "data": {
      "text/html": [
       "<table>\n",
       "<thead><tr><th scope=col>names</th><th scope=col>age</th><th scope=col>city</th><th scope=col>dept</th></tr></thead>\n",
       "<tbody>\n",
       "\t<tr><td>Ankit     </td><td>20        </td><td>Delhi     </td><td>IT        </td></tr>\n",
       "\t<tr><td>Raj       </td><td>22        </td><td>Noida     </td><td>Finance   </td></tr>\n",
       "\t<tr><td>Hitesh    </td><td>NA        </td><td>Pune      </td><td>Operations</td></tr>\n",
       "\t<tr><td>Shubham   </td><td>23        </td><td>NA        </td><td>HR        </td></tr>\n",
       "\t<tr><td>Radhika   </td><td>24        </td><td>Nagpur    </td><td>Admin     </td></tr>\n",
       "\t<tr><td>Prajakta  </td><td>23        </td><td>Mumbai    </td><td>IT        </td></tr>\n",
       "</tbody>\n",
       "</table>\n"
      ],
      "text/latex": [
       "\\begin{tabular}{r|llll}\n",
       " names & age & city & dept\\\\\n",
       "\\hline\n",
       "\t Ankit      & 20         & Delhi      & IT        \\\\\n",
       "\t Raj        & 22         & Noida      & Finance   \\\\\n",
       "\t Hitesh     & NA         & Pune       & Operations\\\\\n",
       "\t Shubham    & 23         & NA         & HR        \\\\\n",
       "\t Radhika    & 24         & Nagpur     & Admin     \\\\\n",
       "\t Prajakta   & 23         & Mumbai     & IT        \\\\\n",
       "\\end{tabular}\n"
      ],
      "text/markdown": [
       "\n",
       "| names | age | city | dept |\n",
       "|---|---|---|---|\n",
       "| Ankit      | 20         | Delhi      | IT         |\n",
       "| Raj        | 22         | Noida      | Finance    |\n",
       "| Hitesh     | NA         | Pune       | Operations |\n",
       "| Shubham    | 23         | NA         | HR         |\n",
       "| Radhika    | 24         | Nagpur     | Admin      |\n",
       "| Prajakta   | 23         | Mumbai     | IT         |\n",
       "\n"
      ],
      "text/plain": [
       "  names    age city   dept      \n",
       "1 Ankit    20  Delhi  IT        \n",
       "2 Raj      22  Noida  Finance   \n",
       "3 Hitesh   NA  Pune   Operations\n",
       "4 Shubham  23  NA     HR        \n",
       "5 Radhika  24  Nagpur Admin     \n",
       "6 Prajakta 23  Mumbai IT        "
      ]
     },
     "metadata": {},
     "output_type": "display_data"
    }
   ],
   "source": [
    "head(df1)"
   ]
  },
  {
   "cell_type": "markdown",
   "id": "0a362502",
   "metadata": {},
   "source": [
    "#### Add new rows (Append a new dataframe)"
   ]
  },
  {
   "cell_type": "markdown",
   "id": "df52668f",
   "metadata": {},
   "source": [
    "#### 1) Create a new dataframe"
   ]
  },
  {
   "cell_type": "code",
   "execution_count": 48,
   "id": "f4686d07",
   "metadata": {},
   "outputs": [
    {
     "data": {
      "text/html": [
       "<table>\n",
       "<thead><tr><th scope=col>names</th><th scope=col>age</th><th scope=col>city</th><th scope=col>dept</th></tr></thead>\n",
       "<tbody>\n",
       "\t<tr><td>Vibhor</td><td>23    </td><td>Mumbai</td><td>IT    </td></tr>\n",
       "\t<tr><td>Litika</td><td>24    </td><td>Delhi </td><td>HR    </td></tr>\n",
       "</tbody>\n",
       "</table>\n"
      ],
      "text/latex": [
       "\\begin{tabular}{r|llll}\n",
       " names & age & city & dept\\\\\n",
       "\\hline\n",
       "\t Vibhor & 23     & Mumbai & IT    \\\\\n",
       "\t Litika & 24     & Delhi  & HR    \\\\\n",
       "\\end{tabular}\n"
      ],
      "text/markdown": [
       "\n",
       "| names | age | city | dept |\n",
       "|---|---|---|---|\n",
       "| Vibhor | 23     | Mumbai | IT     |\n",
       "| Litika | 24     | Delhi  | HR     |\n",
       "\n"
      ],
      "text/plain": [
       "  names  age city   dept\n",
       "1 Vibhor 23  Mumbai IT  \n",
       "2 Litika 24  Delhi  HR  "
      ]
     },
     "metadata": {},
     "output_type": "display_data"
    }
   ],
   "source": [
    "names <- c('Vibhor','Litika')\n",
    "age <-  c(23,24)\n",
    "city <- c('Mumbai','Delhi')\n",
    "dept <- c('IT','HR')\n",
    "\n",
    "df2 <- data.frame(names,age,city,dept)\n",
    "df2"
   ]
  },
  {
   "cell_type": "markdown",
   "id": "2fc09253",
   "metadata": {},
   "source": [
    "#### 2) rbind the 2 dataframes"
   ]
  },
  {
   "cell_type": "code",
   "execution_count": 49,
   "id": "75fc876c",
   "metadata": {},
   "outputs": [
    {
     "data": {
      "text/html": [
       "<table>\n",
       "<thead><tr><th scope=col>names</th><th scope=col>age</th><th scope=col>city</th><th scope=col>dept</th></tr></thead>\n",
       "<tbody>\n",
       "\t<tr><td>Ankit     </td><td>20        </td><td>Delhi     </td><td>IT        </td></tr>\n",
       "\t<tr><td>Raj       </td><td>22        </td><td>Noida     </td><td>Finance   </td></tr>\n",
       "\t<tr><td>Hitesh    </td><td>NA        </td><td>Pune      </td><td>Operations</td></tr>\n",
       "\t<tr><td>Shubham   </td><td>23        </td><td>NA        </td><td>HR        </td></tr>\n",
       "\t<tr><td>Radhika   </td><td>24        </td><td>Nagpur    </td><td>Admin     </td></tr>\n",
       "\t<tr><td>Prajakta  </td><td>23        </td><td>Mumbai    </td><td>IT        </td></tr>\n",
       "\t<tr><td>Nikita    </td><td>22        </td><td>Delhi     </td><td>Finance   </td></tr>\n",
       "\t<tr><td>Vibhor    </td><td>23        </td><td>Mumbai    </td><td>IT        </td></tr>\n",
       "\t<tr><td>Litika    </td><td>24        </td><td>Delhi     </td><td>HR        </td></tr>\n",
       "</tbody>\n",
       "</table>\n"
      ],
      "text/latex": [
       "\\begin{tabular}{r|llll}\n",
       " names & age & city & dept\\\\\n",
       "\\hline\n",
       "\t Ankit      & 20         & Delhi      & IT        \\\\\n",
       "\t Raj        & 22         & Noida      & Finance   \\\\\n",
       "\t Hitesh     & NA         & Pune       & Operations\\\\\n",
       "\t Shubham    & 23         & NA         & HR        \\\\\n",
       "\t Radhika    & 24         & Nagpur     & Admin     \\\\\n",
       "\t Prajakta   & 23         & Mumbai     & IT        \\\\\n",
       "\t Nikita     & 22         & Delhi      & Finance   \\\\\n",
       "\t Vibhor     & 23         & Mumbai     & IT        \\\\\n",
       "\t Litika     & 24         & Delhi      & HR        \\\\\n",
       "\\end{tabular}\n"
      ],
      "text/markdown": [
       "\n",
       "| names | age | city | dept |\n",
       "|---|---|---|---|\n",
       "| Ankit      | 20         | Delhi      | IT         |\n",
       "| Raj        | 22         | Noida      | Finance    |\n",
       "| Hitesh     | NA         | Pune       | Operations |\n",
       "| Shubham    | 23         | NA         | HR         |\n",
       "| Radhika    | 24         | Nagpur     | Admin      |\n",
       "| Prajakta   | 23         | Mumbai     | IT         |\n",
       "| Nikita     | 22         | Delhi      | Finance    |\n",
       "| Vibhor     | 23         | Mumbai     | IT         |\n",
       "| Litika     | 24         | Delhi      | HR         |\n",
       "\n"
      ],
      "text/plain": [
       "  names    age city   dept      \n",
       "1 Ankit    20  Delhi  IT        \n",
       "2 Raj      22  Noida  Finance   \n",
       "3 Hitesh   NA  Pune   Operations\n",
       "4 Shubham  23  NA     HR        \n",
       "5 Radhika  24  Nagpur Admin     \n",
       "6 Prajakta 23  Mumbai IT        \n",
       "7 Nikita   22  Delhi  Finance   \n",
       "8 Vibhor   23  Mumbai IT        \n",
       "9 Litika   24  Delhi  HR        "
      ]
     },
     "metadata": {},
     "output_type": "display_data"
    }
   ],
   "source": [
    "df_res <- rbind(df1,df2)\n",
    "df_res"
   ]
  },
  {
   "cell_type": "markdown",
   "id": "1800aea4",
   "metadata": {},
   "source": [
    "#### Check num of rows, num of cols, shape of dataframe"
   ]
  },
  {
   "cell_type": "code",
   "execution_count": 56,
   "id": "7a88fcf6",
   "metadata": {},
   "outputs": [
    {
     "name": "stdout",
     "output_type": "stream",
     "text": [
      "[1] 9\n",
      "[1] 4\n",
      "[1] 9 4\n",
      "[1] \"names\" \"age\"   \"city\"  \"dept\" \n"
     ]
    }
   ],
   "source": [
    "print(nrow(df_res))   # num of rows\n",
    "print(ncol(df_res))   # num of cols\n",
    "print(dim(df_res))      # num of rows and cols\n",
    "print(colnames(df_res)) # column names"
   ]
  },
  {
   "cell_type": "markdown",
   "id": "c40253ca",
   "metadata": {},
   "source": [
    "#### Rename columns"
   ]
  },
  {
   "cell_type": "code",
   "execution_count": 57,
   "id": "1a68ac8c",
   "metadata": {},
   "outputs": [
    {
     "data": {
      "text/html": [
       "<table>\n",
       "<thead><tr><th scope=col>Names</th><th scope=col>Age</th><th scope=col>City</th><th scope=col>Dept</th></tr></thead>\n",
       "<tbody>\n",
       "\t<tr><td>Ankit     </td><td>20        </td><td>Delhi     </td><td>IT        </td></tr>\n",
       "\t<tr><td>Raj       </td><td>22        </td><td>Noida     </td><td>Finance   </td></tr>\n",
       "\t<tr><td>Hitesh    </td><td>NA        </td><td>Pune      </td><td>Operations</td></tr>\n",
       "</tbody>\n",
       "</table>\n"
      ],
      "text/latex": [
       "\\begin{tabular}{r|llll}\n",
       " Names & Age & City & Dept\\\\\n",
       "\\hline\n",
       "\t Ankit      & 20         & Delhi      & IT        \\\\\n",
       "\t Raj        & 22         & Noida      & Finance   \\\\\n",
       "\t Hitesh     & NA         & Pune       & Operations\\\\\n",
       "\\end{tabular}\n"
      ],
      "text/markdown": [
       "\n",
       "| Names | Age | City | Dept |\n",
       "|---|---|---|---|\n",
       "| Ankit      | 20         | Delhi      | IT         |\n",
       "| Raj        | 22         | Noida      | Finance    |\n",
       "| Hitesh     | NA         | Pune       | Operations |\n",
       "\n"
      ],
      "text/plain": [
       "  Names  Age City  Dept      \n",
       "1 Ankit  20  Delhi IT        \n",
       "2 Raj    22  Noida Finance   \n",
       "3 Hitesh NA  Pune  Operations"
      ]
     },
     "metadata": {},
     "output_type": "display_data"
    }
   ],
   "source": [
    "colnames(df_res) <- c('Names','Age','City','Dept')\n",
    "head(df_res,3)"
   ]
  },
  {
   "cell_type": "markdown",
   "id": "1c4aff23",
   "metadata": {},
   "source": [
    "#### Value Counts"
   ]
  },
  {
   "cell_type": "code",
   "execution_count": 114,
   "id": "c82cfd62",
   "metadata": {},
   "outputs": [
    {
     "name": "stdout",
     "output_type": "stream",
     "text": [
      "\n",
      " Delhi Mumbai Nagpur  Noida   Pune \n",
      "     3      2      1      1      1 \n",
      "[1] Delhi  Noida  Pune   <NA>   Nagpur Mumbai\n",
      "Levels: Delhi Mumbai Nagpur Noida Pune\n",
      "[1] 6\n"
     ]
    }
   ],
   "source": [
    "print(table(df_res$City))   # value_counts\n",
    "print(unique(df_res$City))  # unique\n",
    "print(length(unique(df_res$City)))  # nunique"
   ]
  },
  {
   "cell_type": "code",
   "execution_count": 72,
   "id": "ee05d2c5",
   "metadata": {},
   "outputs": [
    {
     "data": {
      "text/html": [
       "<ol class=list-inline>\n",
       "\t<li>'Names'</li>\n",
       "\t<li>'Age'</li>\n",
       "\t<li>'City'</li>\n",
       "\t<li>'Dept'</li>\n",
       "</ol>\n"
      ],
      "text/latex": [
       "\\begin{enumerate*}\n",
       "\\item 'Names'\n",
       "\\item 'Age'\n",
       "\\item 'City'\n",
       "\\item 'Dept'\n",
       "\\end{enumerate*}\n"
      ],
      "text/markdown": [
       "1. 'Names'\n",
       "2. 'Age'\n",
       "3. 'City'\n",
       "4. 'Dept'\n",
       "\n",
       "\n"
      ],
      "text/plain": [
       "[1] \"Names\" \"Age\"   \"City\"  \"Dept\" "
      ]
     },
     "metadata": {},
     "output_type": "display_data"
    }
   ],
   "source": [
    "colnames(df_res)"
   ]
  },
  {
   "cell_type": "markdown",
   "id": "172298ef",
   "metadata": {},
   "source": [
    "#### Fetching col names for multiple categorical columns"
   ]
  },
  {
   "cell_type": "code",
   "execution_count": 80,
   "id": "66943db2",
   "metadata": {},
   "outputs": [
    {
     "name": "stdout",
     "output_type": "stream",
     "text": [
      "\n",
      " Delhi Mumbai Nagpur  Noida   Pune \n",
      "     3      2      1      1      1 \n",
      "\n",
      "     Admin    Finance         HR         IT Operations \n",
      "         1          2          2          3          1 \n"
     ]
    }
   ],
   "source": [
    "for (i in colnames(df_res[c(3,4)])){\n",
    "    print(table(df_res[i]))\n",
    "}"
   ]
  },
  {
   "cell_type": "markdown",
   "id": "bb5670b5",
   "metadata": {},
   "source": [
    "#### Check null values"
   ]
  },
  {
   "cell_type": "code",
   "execution_count": 58,
   "id": "893eb4f3",
   "metadata": {},
   "outputs": [
    {
     "data": {
      "text/html": [
       "<dl class=dl-horizontal>\n",
       "\t<dt>Names</dt>\n",
       "\t\t<dd>0</dd>\n",
       "\t<dt>Age</dt>\n",
       "\t\t<dd>1</dd>\n",
       "\t<dt>City</dt>\n",
       "\t\t<dd>1</dd>\n",
       "\t<dt>Dept</dt>\n",
       "\t\t<dd>0</dd>\n",
       "</dl>\n"
      ],
      "text/latex": [
       "\\begin{description*}\n",
       "\\item[Names] 0\n",
       "\\item[Age] 1\n",
       "\\item[City] 1\n",
       "\\item[Dept] 0\n",
       "\\end{description*}\n"
      ],
      "text/markdown": [
       "Names\n",
       ":   0Age\n",
       ":   1City\n",
       ":   1Dept\n",
       ":   0\n",
       "\n"
      ],
      "text/plain": [
       "Names   Age  City  Dept \n",
       "    0     1     1     0 "
      ]
     },
     "metadata": {},
     "output_type": "display_data"
    }
   ],
   "source": [
    "colSums(is.na(df_res))"
   ]
  },
  {
   "cell_type": "code",
   "execution_count": 60,
   "id": "53b0cf59",
   "metadata": {},
   "outputs": [],
   "source": [
    "library(tidyr)\n",
    "# contains functions like -  fill, apply, filter"
   ]
  },
  {
   "cell_type": "code",
   "execution_count": 62,
   "id": "d8689035",
   "metadata": {},
   "outputs": [
    {
     "data": {
      "text/html": [
       "<table>\n",
       "<thead><tr><th scope=col>Names</th><th scope=col>Age</th><th scope=col>City</th></tr></thead>\n",
       "<tbody>\n",
       "\t<tr><td>Ankit   </td><td>20      </td><td>Delhi   </td></tr>\n",
       "\t<tr><td>Raj     </td><td>22      </td><td>Noida   </td></tr>\n",
       "\t<tr><td>Hitesh  </td><td>NA      </td><td>Pune    </td></tr>\n",
       "\t<tr><td>Shubham </td><td>23      </td><td>NA      </td></tr>\n",
       "\t<tr><td>Radhika </td><td>24      </td><td>Nagpur  </td></tr>\n",
       "\t<tr><td>Prajakta</td><td>23      </td><td>Mumbai  </td></tr>\n",
       "</tbody>\n",
       "</table>\n"
      ],
      "text/latex": [
       "\\begin{tabular}{r|lll}\n",
       " Names & Age & City\\\\\n",
       "\\hline\n",
       "\t Ankit    & 20       & Delhi   \\\\\n",
       "\t Raj      & 22       & Noida   \\\\\n",
       "\t Hitesh   & NA       & Pune    \\\\\n",
       "\t Shubham  & 23       & NA      \\\\\n",
       "\t Radhika  & 24       & Nagpur  \\\\\n",
       "\t Prajakta & 23       & Mumbai  \\\\\n",
       "\\end{tabular}\n"
      ],
      "text/markdown": [
       "\n",
       "| Names | Age | City |\n",
       "|---|---|---|\n",
       "| Ankit    | 20       | Delhi    |\n",
       "| Raj      | 22       | Noida    |\n",
       "| Hitesh   | NA       | Pune     |\n",
       "| Shubham  | 23       | NA       |\n",
       "| Radhika  | 24       | Nagpur   |\n",
       "| Prajakta | 23       | Mumbai   |\n",
       "\n"
      ],
      "text/plain": [
       "  Names    Age City  \n",
       "1 Ankit    20  Delhi \n",
       "2 Raj      22  Noida \n",
       "3 Hitesh   NA  Pune  \n",
       "4 Shubham  23  NA    \n",
       "5 Radhika  24  Nagpur\n",
       "6 Prajakta 23  Mumbai"
      ]
     },
     "metadata": {},
     "output_type": "display_data"
    }
   ],
   "source": [
    "head(select(df_res,Names,Age,City))a"
   ]
  },
  {
   "cell_type": "markdown",
   "id": "ad0153b9",
   "metadata": {},
   "source": [
    "#### Pipe function (%>%) \n",
    "piping operation<br>\n",
    "used to combine functions in R<br>\n",
    "It takes the output of one function and passes it into another function as an argument. This allows us to link a sequence of analysis steps."
   ]
  },
  {
   "cell_type": "markdown",
   "id": "5c6f6d16",
   "metadata": {},
   "source": [
    "#### Fill null values using up (bottom value will replace top value) - \n",
    "equivalent to df[col].fillna(method='bfill') in python"
   ]
  },
  {
   "cell_type": "code",
   "execution_count": 63,
   "id": "5bdc8eb5",
   "metadata": {},
   "outputs": [
    {
     "data": {
      "text/html": [
       "<table>\n",
       "<thead><tr><th scope=col>Names</th><th scope=col>Age</th><th scope=col>City</th><th scope=col>Dept</th></tr></thead>\n",
       "<tbody>\n",
       "\t<tr><td>Ankit     </td><td>20        </td><td>Delhi     </td><td>IT        </td></tr>\n",
       "\t<tr><td>Raj       </td><td>22        </td><td>Noida     </td><td>Finance   </td></tr>\n",
       "\t<tr><td>Hitesh    </td><td>23        </td><td>Pune      </td><td>Operations</td></tr>\n",
       "\t<tr><td>Shubham   </td><td>23        </td><td>NA        </td><td>HR        </td></tr>\n",
       "\t<tr><td>Radhika   </td><td>24        </td><td>Nagpur    </td><td>Admin     </td></tr>\n",
       "\t<tr><td>Prajakta  </td><td>23        </td><td>Mumbai    </td><td>IT        </td></tr>\n",
       "\t<tr><td>Nikita    </td><td>22        </td><td>Delhi     </td><td>Finance   </td></tr>\n",
       "\t<tr><td>Vibhor    </td><td>23        </td><td>Mumbai    </td><td>IT        </td></tr>\n",
       "\t<tr><td>Litika    </td><td>24        </td><td>Delhi     </td><td>HR        </td></tr>\n",
       "</tbody>\n",
       "</table>\n"
      ],
      "text/latex": [
       "\\begin{tabular}{r|llll}\n",
       " Names & Age & City & Dept\\\\\n",
       "\\hline\n",
       "\t Ankit      & 20         & Delhi      & IT        \\\\\n",
       "\t Raj        & 22         & Noida      & Finance   \\\\\n",
       "\t Hitesh     & 23         & Pune       & Operations\\\\\n",
       "\t Shubham    & 23         & NA         & HR        \\\\\n",
       "\t Radhika    & 24         & Nagpur     & Admin     \\\\\n",
       "\t Prajakta   & 23         & Mumbai     & IT        \\\\\n",
       "\t Nikita     & 22         & Delhi      & Finance   \\\\\n",
       "\t Vibhor     & 23         & Mumbai     & IT        \\\\\n",
       "\t Litika     & 24         & Delhi      & HR        \\\\\n",
       "\\end{tabular}\n"
      ],
      "text/markdown": [
       "\n",
       "| Names | Age | City | Dept |\n",
       "|---|---|---|---|\n",
       "| Ankit      | 20         | Delhi      | IT         |\n",
       "| Raj        | 22         | Noida      | Finance    |\n",
       "| Hitesh     | 23         | Pune       | Operations |\n",
       "| Shubham    | 23         | NA         | HR         |\n",
       "| Radhika    | 24         | Nagpur     | Admin      |\n",
       "| Prajakta   | 23         | Mumbai     | IT         |\n",
       "| Nikita     | 22         | Delhi      | Finance    |\n",
       "| Vibhor     | 23         | Mumbai     | IT         |\n",
       "| Litika     | 24         | Delhi      | HR         |\n",
       "\n"
      ],
      "text/plain": [
       "  Names    Age City   Dept      \n",
       "1 Ankit    20  Delhi  IT        \n",
       "2 Raj      22  Noida  Finance   \n",
       "3 Hitesh   23  Pune   Operations\n",
       "4 Shubham  23  NA     HR        \n",
       "5 Radhika  24  Nagpur Admin     \n",
       "6 Prajakta 23  Mumbai IT        \n",
       "7 Nikita   22  Delhi  Finance   \n",
       "8 Vibhor   23  Mumbai IT        \n",
       "9 Litika   24  Delhi  HR        "
      ]
     },
     "metadata": {},
     "output_type": "display_data"
    }
   ],
   "source": [
    "df_upfill <- df_res%>%fill(Age, .direction = 'up')\n",
    "df_upfill"
   ]
  },
  {
   "cell_type": "markdown",
   "id": "b9a7c4e2",
   "metadata": {},
   "source": [
    "#### Fill null values using down (top value will replace bottom value) - \n",
    "equivalent to df[col].fillna(method='mfill') in python"
   ]
  },
  {
   "cell_type": "code",
   "execution_count": 64,
   "id": "1f19819c",
   "metadata": {},
   "outputs": [
    {
     "data": {
      "text/html": [
       "<table>\n",
       "<thead><tr><th scope=col>Names</th><th scope=col>Age</th><th scope=col>City</th><th scope=col>Dept</th></tr></thead>\n",
       "<tbody>\n",
       "\t<tr><td>Ankit     </td><td>20        </td><td>Delhi     </td><td>IT        </td></tr>\n",
       "\t<tr><td>Raj       </td><td>22        </td><td>Noida     </td><td>Finance   </td></tr>\n",
       "\t<tr><td>Hitesh    </td><td>NA        </td><td>Pune      </td><td>Operations</td></tr>\n",
       "\t<tr><td>Shubham   </td><td>23        </td><td>Pune      </td><td>HR        </td></tr>\n",
       "\t<tr><td>Radhika   </td><td>24        </td><td>Nagpur    </td><td>Admin     </td></tr>\n",
       "\t<tr><td>Prajakta  </td><td>23        </td><td>Mumbai    </td><td>IT        </td></tr>\n",
       "\t<tr><td>Nikita    </td><td>22        </td><td>Delhi     </td><td>Finance   </td></tr>\n",
       "\t<tr><td>Vibhor    </td><td>23        </td><td>Mumbai    </td><td>IT        </td></tr>\n",
       "\t<tr><td>Litika    </td><td>24        </td><td>Delhi     </td><td>HR        </td></tr>\n",
       "</tbody>\n",
       "</table>\n"
      ],
      "text/latex": [
       "\\begin{tabular}{r|llll}\n",
       " Names & Age & City & Dept\\\\\n",
       "\\hline\n",
       "\t Ankit      & 20         & Delhi      & IT        \\\\\n",
       "\t Raj        & 22         & Noida      & Finance   \\\\\n",
       "\t Hitesh     & NA         & Pune       & Operations\\\\\n",
       "\t Shubham    & 23         & Pune       & HR        \\\\\n",
       "\t Radhika    & 24         & Nagpur     & Admin     \\\\\n",
       "\t Prajakta   & 23         & Mumbai     & IT        \\\\\n",
       "\t Nikita     & 22         & Delhi      & Finance   \\\\\n",
       "\t Vibhor     & 23         & Mumbai     & IT        \\\\\n",
       "\t Litika     & 24         & Delhi      & HR        \\\\\n",
       "\\end{tabular}\n"
      ],
      "text/markdown": [
       "\n",
       "| Names | Age | City | Dept |\n",
       "|---|---|---|---|\n",
       "| Ankit      | 20         | Delhi      | IT         |\n",
       "| Raj        | 22         | Noida      | Finance    |\n",
       "| Hitesh     | NA         | Pune       | Operations |\n",
       "| Shubham    | 23         | Pune       | HR         |\n",
       "| Radhika    | 24         | Nagpur     | Admin      |\n",
       "| Prajakta   | 23         | Mumbai     | IT         |\n",
       "| Nikita     | 22         | Delhi      | Finance    |\n",
       "| Vibhor     | 23         | Mumbai     | IT         |\n",
       "| Litika     | 24         | Delhi      | HR         |\n",
       "\n"
      ],
      "text/plain": [
       "  Names    Age City   Dept      \n",
       "1 Ankit    20  Delhi  IT        \n",
       "2 Raj      22  Noida  Finance   \n",
       "3 Hitesh   NA  Pune   Operations\n",
       "4 Shubham  23  Pune   HR        \n",
       "5 Radhika  24  Nagpur Admin     \n",
       "6 Prajakta 23  Mumbai IT        \n",
       "7 Nikita   22  Delhi  Finance   \n",
       "8 Vibhor   23  Mumbai IT        \n",
       "9 Litika   24  Delhi  HR        "
      ]
     },
     "metadata": {},
     "output_type": "display_data"
    }
   ],
   "source": [
    "df_downfill <- df_res %>% fill(City, .direction = 'down')\n",
    "df_downfill"
   ]
  },
  {
   "cell_type": "markdown",
   "id": "b4209b4d",
   "metadata": {},
   "source": [
    "#### Creating a copy of dataframe"
   ]
  },
  {
   "cell_type": "code",
   "execution_count": 66,
   "id": "6eb5c058",
   "metadata": {},
   "outputs": [
    {
     "data": {
      "text/html": [
       "'&lt;00000000059325C0&gt;'"
      ],
      "text/latex": [
       "'<00000000059325C0>'"
      ],
      "text/markdown": [
       "'&lt;00000000059325C0&gt;'"
      ],
      "text/plain": [
       "[1] \"<00000000059325C0>\""
      ]
     },
     "metadata": {},
     "output_type": "display_data"
    }
   ],
   "source": [
    "# Used to check memory address\n",
    "tracemem(df_res)"
   ]
  },
  {
   "cell_type": "code",
   "execution_count": 67,
   "id": "46fa4010",
   "metadata": {},
   "outputs": [
    {
     "data": {
      "text/html": [
       "<ol class=list-inline>\n",
       "\t<li>'Names'</li>\n",
       "\t<li>'Age'</li>\n",
       "\t<li>'City'</li>\n",
       "\t<li>'Dept'</li>\n",
       "</ol>\n"
      ],
      "text/latex": [
       "\\begin{enumerate*}\n",
       "\\item 'Names'\n",
       "\\item 'Age'\n",
       "\\item 'City'\n",
       "\\item 'Dept'\n",
       "\\end{enumerate*}\n"
      ],
      "text/markdown": [
       "1. 'Names'\n",
       "2. 'Age'\n",
       "3. 'City'\n",
       "4. 'Dept'\n",
       "\n",
       "\n"
      ],
      "text/plain": [
       "[1] \"Names\" \"Age\"   \"City\"  \"Dept\" "
      ]
     },
     "metadata": {},
     "output_type": "display_data"
    }
   ],
   "source": [
    "df_res2 <- data.frame(df_res)            # Create copy of data\n",
    "colnames(df_res2)   "
   ]
  },
  {
   "cell_type": "code",
   "execution_count": 68,
   "id": "2fe20718",
   "metadata": {},
   "outputs": [
    {
     "data": {
      "text/html": [
       "FALSE"
      ],
      "text/latex": [
       "FALSE"
      ],
      "text/markdown": [
       "FALSE"
      ],
      "text/plain": [
       "[1] FALSE"
      ]
     },
     "metadata": {},
     "output_type": "display_data"
    }
   ],
   "source": [
    "tracemem(df_res) == tracemem(df_res2)"
   ]
  },
  {
   "cell_type": "code",
   "execution_count": 69,
   "id": "eaa44317",
   "metadata": {},
   "outputs": [
    {
     "name": "stdout",
     "output_type": "stream",
     "text": [
      "tracemem[0x00000000045f5ec0 -> 0x000000000f456708]: as.list.data.frame as.list lapply do.call is.na.data.frame is.na is.data.frame colSums eval eval withVisible withCallingHandlers doTryCatch tryCatchOne tryCatchList tryCatch try handle timing_fn evaluate_call evaluate doTryCatch tryCatchOne tryCatchList doTryCatch tryCatchOne tryCatchList tryCatch <Anonymous> handle_shell <Anonymous> <Anonymous> \n"
     ]
    },
    {
     "data": {
      "text/html": [
       "<dl class=dl-horizontal>\n",
       "\t<dt>Names</dt>\n",
       "\t\t<dd>0</dd>\n",
       "\t<dt>Age</dt>\n",
       "\t\t<dd>1</dd>\n",
       "\t<dt>City</dt>\n",
       "\t\t<dd>1</dd>\n",
       "\t<dt>Dept</dt>\n",
       "\t\t<dd>0</dd>\n",
       "</dl>\n"
      ],
      "text/latex": [
       "\\begin{description*}\n",
       "\\item[Names] 0\n",
       "\\item[Age] 1\n",
       "\\item[City] 1\n",
       "\\item[Dept] 0\n",
       "\\end{description*}\n"
      ],
      "text/markdown": [
       "Names\n",
       ":   0Age\n",
       ":   1City\n",
       ":   1Dept\n",
       ":   0\n",
       "\n"
      ],
      "text/plain": [
       "Names   Age  City  Dept \n",
       "    0     1     1     0 "
      ]
     },
     "metadata": {},
     "output_type": "display_data"
    }
   ],
   "source": [
    "colSums(is.na(df_res2))"
   ]
  },
  {
   "cell_type": "code",
   "execution_count": 85,
   "id": "c2616c5e",
   "metadata": {},
   "outputs": [
    {
     "data": {
      "text/html": [
       "22.6666666666667"
      ],
      "text/latex": [
       "22.6666666666667"
      ],
      "text/markdown": [
       "22.6666666666667"
      ],
      "text/plain": [
       "[1] 22.66667"
      ]
     },
     "metadata": {},
     "output_type": "display_data"
    }
   ],
   "source": [
    "mean(df_upfill$Age)"
   ]
  },
  {
   "cell_type": "code",
   "execution_count": 81,
   "id": "47f21a73",
   "metadata": {},
   "outputs": [
    {
     "data": {
      "text/html": [
       "<ol class=list-inline>\n",
       "\t<li>'Names'</li>\n",
       "\t<li>'Age'</li>\n",
       "\t<li>'City'</li>\n",
       "\t<li>'Dept'</li>\n",
       "</ol>\n"
      ],
      "text/latex": [
       "\\begin{enumerate*}\n",
       "\\item 'Names'\n",
       "\\item 'Age'\n",
       "\\item 'City'\n",
       "\\item 'Dept'\n",
       "\\end{enumerate*}\n"
      ],
      "text/markdown": [
       "1. 'Names'\n",
       "2. 'Age'\n",
       "3. 'City'\n",
       "4. 'Dept'\n",
       "\n",
       "\n"
      ],
      "text/plain": [
       "[1] \"Names\" \"Age\"   \"City\"  \"Dept\" "
      ]
     },
     "metadata": {},
     "output_type": "display_data"
    }
   ],
   "source": [
    "colnames(df_res2)"
   ]
  },
  {
   "cell_type": "code",
   "execution_count": 97,
   "id": "34837c0b",
   "metadata": {},
   "outputs": [
    {
     "data": {
      "text/html": [
       "<ol class=list-inline>\n",
       "\t<li>'Names'</li>\n",
       "\t<li>'Age'</li>\n",
       "\t<li>'City'</li>\n",
       "\t<li>'Dept'</li>\n",
       "</ol>\n"
      ],
      "text/latex": [
       "\\begin{enumerate*}\n",
       "\\item 'Names'\n",
       "\\item 'Age'\n",
       "\\item 'City'\n",
       "\\item 'Dept'\n",
       "\\end{enumerate*}\n"
      ],
      "text/markdown": [
       "1. 'Names'\n",
       "2. 'Age'\n",
       "3. 'City'\n",
       "4. 'Dept'\n",
       "\n",
       "\n"
      ],
      "text/plain": [
       "[1] \"Names\" \"Age\"   \"City\"  \"Dept\" "
      ]
     },
     "metadata": {},
     "output_type": "display_data"
    }
   ],
   "source": [
    "df3 <- data.frame(df_res)            # Create copy of data\n",
    "colnames(df3)   "
   ]
  },
  {
   "cell_type": "code",
   "execution_count": 98,
   "id": "27f9e2fc",
   "metadata": {},
   "outputs": [
    {
     "data": {
      "text/html": [
       "<dl class=dl-horizontal>\n",
       "\t<dt>Names</dt>\n",
       "\t\t<dd>0</dd>\n",
       "\t<dt>Age</dt>\n",
       "\t\t<dd>1</dd>\n",
       "\t<dt>City</dt>\n",
       "\t\t<dd>1</dd>\n",
       "\t<dt>Dept</dt>\n",
       "\t\t<dd>0</dd>\n",
       "</dl>\n"
      ],
      "text/latex": [
       "\\begin{description*}\n",
       "\\item[Names] 0\n",
       "\\item[Age] 1\n",
       "\\item[City] 1\n",
       "\\item[Dept] 0\n",
       "\\end{description*}\n"
      ],
      "text/markdown": [
       "Names\n",
       ":   0Age\n",
       ":   1City\n",
       ":   1Dept\n",
       ":   0\n",
       "\n"
      ],
      "text/plain": [
       "Names   Age  City  Dept \n",
       "    0     1     1     0 "
      ]
     },
     "metadata": {},
     "output_type": "display_data"
    }
   ],
   "source": [
    "colSums(is.na(df3))"
   ]
  },
  {
   "cell_type": "markdown",
   "id": "20fcdd0b",
   "metadata": {},
   "source": [
    "#### Replacing Null vlaues with Mean"
   ]
  },
  {
   "cell_type": "code",
   "execution_count": 99,
   "id": "eed9de06",
   "metadata": {},
   "outputs": [
    {
     "data": {
      "text/html": [
       "<table>\n",
       "<thead><tr><th scope=col>Names</th><th scope=col>Age</th><th scope=col>City</th><th scope=col>Dept</th></tr></thead>\n",
       "<tbody>\n",
       "\t<tr><td>Ankit     </td><td>20.000    </td><td>Delhi     </td><td>IT        </td></tr>\n",
       "\t<tr><td>Raj       </td><td>22.000    </td><td>Noida     </td><td>Finance   </td></tr>\n",
       "\t<tr><td>Hitesh    </td><td>22.625    </td><td>Pune      </td><td>Operations</td></tr>\n",
       "\t<tr><td>Shubham   </td><td>23.000    </td><td>NA        </td><td>HR        </td></tr>\n",
       "\t<tr><td>Radhika   </td><td>24.000    </td><td>Nagpur    </td><td>Admin     </td></tr>\n",
       "\t<tr><td>Prajakta  </td><td>23.000    </td><td>Mumbai    </td><td>IT        </td></tr>\n",
       "\t<tr><td>Nikita    </td><td>22.000    </td><td>Delhi     </td><td>Finance   </td></tr>\n",
       "\t<tr><td>Vibhor    </td><td>23.000    </td><td>Mumbai    </td><td>IT        </td></tr>\n",
       "\t<tr><td>Litika    </td><td>24.000    </td><td>Delhi     </td><td>HR        </td></tr>\n",
       "</tbody>\n",
       "</table>\n"
      ],
      "text/latex": [
       "\\begin{tabular}{r|llll}\n",
       " Names & Age & City & Dept\\\\\n",
       "\\hline\n",
       "\t Ankit      & 20.000     & Delhi      & IT        \\\\\n",
       "\t Raj        & 22.000     & Noida      & Finance   \\\\\n",
       "\t Hitesh     & 22.625     & Pune       & Operations\\\\\n",
       "\t Shubham    & 23.000     & NA         & HR        \\\\\n",
       "\t Radhika    & 24.000     & Nagpur     & Admin     \\\\\n",
       "\t Prajakta   & 23.000     & Mumbai     & IT        \\\\\n",
       "\t Nikita     & 22.000     & Delhi      & Finance   \\\\\n",
       "\t Vibhor     & 23.000     & Mumbai     & IT        \\\\\n",
       "\t Litika     & 24.000     & Delhi      & HR        \\\\\n",
       "\\end{tabular}\n"
      ],
      "text/markdown": [
       "\n",
       "| Names | Age | City | Dept |\n",
       "|---|---|---|---|\n",
       "| Ankit      | 20.000     | Delhi      | IT         |\n",
       "| Raj        | 22.000     | Noida      | Finance    |\n",
       "| Hitesh     | 22.625     | Pune       | Operations |\n",
       "| Shubham    | 23.000     | NA         | HR         |\n",
       "| Radhika    | 24.000     | Nagpur     | Admin      |\n",
       "| Prajakta   | 23.000     | Mumbai     | IT         |\n",
       "| Nikita     | 22.000     | Delhi      | Finance    |\n",
       "| Vibhor     | 23.000     | Mumbai     | IT         |\n",
       "| Litika     | 24.000     | Delhi      | HR         |\n",
       "\n"
      ],
      "text/plain": [
       "  Names    Age    City   Dept      \n",
       "1 Ankit    20.000 Delhi  IT        \n",
       "2 Raj      22.000 Noida  Finance   \n",
       "3 Hitesh   22.625 Pune   Operations\n",
       "4 Shubham  23.000 NA     HR        \n",
       "5 Radhika  24.000 Nagpur Admin     \n",
       "6 Prajakta 23.000 Mumbai IT        \n",
       "7 Nikita   22.000 Delhi  Finance   \n",
       "8 Vibhor   23.000 Mumbai IT        \n",
       "9 Litika   24.000 Delhi  HR        "
      ]
     },
     "metadata": {},
     "output_type": "display_data"
    }
   ],
   "source": [
    "df4 <- df3 %>% mutate(Age = replace_na(Age,mean(Age,na.rm=TRUE)))\n",
    "df4"
   ]
  },
  {
   "cell_type": "code",
   "execution_count": 100,
   "id": "c8fec28b",
   "metadata": {},
   "outputs": [
    {
     "data": {
      "text/html": [
       "<dl class=dl-horizontal>\n",
       "\t<dt>Names</dt>\n",
       "\t\t<dd>0</dd>\n",
       "\t<dt>Age</dt>\n",
       "\t\t<dd>0</dd>\n",
       "\t<dt>City</dt>\n",
       "\t\t<dd>1</dd>\n",
       "\t<dt>Dept</dt>\n",
       "\t\t<dd>0</dd>\n",
       "</dl>\n"
      ],
      "text/latex": [
       "\\begin{description*}\n",
       "\\item[Names] 0\n",
       "\\item[Age] 0\n",
       "\\item[City] 1\n",
       "\\item[Dept] 0\n",
       "\\end{description*}\n"
      ],
      "text/markdown": [
       "Names\n",
       ":   0Age\n",
       ":   0City\n",
       ":   1Dept\n",
       ":   0\n",
       "\n"
      ],
      "text/plain": [
       "Names   Age  City  Dept \n",
       "    0     0     1     0 "
      ]
     },
     "metadata": {},
     "output_type": "display_data"
    }
   ],
   "source": [
    "colSums(is.na(df4))"
   ]
  },
  {
   "cell_type": "code",
   "execution_count": 107,
   "id": "4ccb7ed1",
   "metadata": {},
   "outputs": [
    {
     "data": {
      "text/html": [
       "<table>\n",
       "<thead><tr><th scope=col>Names</th><th scope=col>Age</th><th scope=col>City</th><th scope=col>Dept</th></tr></thead>\n",
       "<tbody>\n",
       "\t<tr><td>Ankit     </td><td>20.000    </td><td>Delhi     </td><td>IT        </td></tr>\n",
       "\t<tr><td>Raj       </td><td>22.000    </td><td>Noida     </td><td>Finance   </td></tr>\n",
       "\t<tr><td>Hitesh    </td><td>22.625    </td><td>Pune      </td><td>Operations</td></tr>\n",
       "\t<tr><td>Shubham   </td><td>23.000    </td><td>Mumbai    </td><td>HR        </td></tr>\n",
       "\t<tr><td>Radhika   </td><td>24.000    </td><td>Nagpur    </td><td>Admin     </td></tr>\n",
       "\t<tr><td>Prajakta  </td><td>23.000    </td><td>Mumbai    </td><td>IT        </td></tr>\n",
       "\t<tr><td>Nikita    </td><td>22.000    </td><td>Delhi     </td><td>Finance   </td></tr>\n",
       "\t<tr><td>Vibhor    </td><td>23.000    </td><td>Mumbai    </td><td>IT        </td></tr>\n",
       "\t<tr><td>Litika    </td><td>24.000    </td><td>Delhi     </td><td>HR        </td></tr>\n",
       "</tbody>\n",
       "</table>\n"
      ],
      "text/latex": [
       "\\begin{tabular}{r|llll}\n",
       " Names & Age & City & Dept\\\\\n",
       "\\hline\n",
       "\t Ankit      & 20.000     & Delhi      & IT        \\\\\n",
       "\t Raj        & 22.000     & Noida      & Finance   \\\\\n",
       "\t Hitesh     & 22.625     & Pune       & Operations\\\\\n",
       "\t Shubham    & 23.000     & Mumbai     & HR        \\\\\n",
       "\t Radhika    & 24.000     & Nagpur     & Admin     \\\\\n",
       "\t Prajakta   & 23.000     & Mumbai     & IT        \\\\\n",
       "\t Nikita     & 22.000     & Delhi      & Finance   \\\\\n",
       "\t Vibhor     & 23.000     & Mumbai     & IT        \\\\\n",
       "\t Litika     & 24.000     & Delhi      & HR        \\\\\n",
       "\\end{tabular}\n"
      ],
      "text/markdown": [
       "\n",
       "| Names | Age | City | Dept |\n",
       "|---|---|---|---|\n",
       "| Ankit      | 20.000     | Delhi      | IT         |\n",
       "| Raj        | 22.000     | Noida      | Finance    |\n",
       "| Hitesh     | 22.625     | Pune       | Operations |\n",
       "| Shubham    | 23.000     | Mumbai     | HR         |\n",
       "| Radhika    | 24.000     | Nagpur     | Admin      |\n",
       "| Prajakta   | 23.000     | Mumbai     | IT         |\n",
       "| Nikita     | 22.000     | Delhi      | Finance    |\n",
       "| Vibhor     | 23.000     | Mumbai     | IT         |\n",
       "| Litika     | 24.000     | Delhi      | HR         |\n",
       "\n"
      ],
      "text/plain": [
       "  Names    Age    City   Dept      \n",
       "1 Ankit    20.000 Delhi  IT        \n",
       "2 Raj      22.000 Noida  Finance   \n",
       "3 Hitesh   22.625 Pune   Operations\n",
       "4 Shubham  23.000 Mumbai HR        \n",
       "5 Radhika  24.000 Nagpur Admin     \n",
       "6 Prajakta 23.000 Mumbai IT        \n",
       "7 Nikita   22.000 Delhi  Finance   \n",
       "8 Vibhor   23.000 Mumbai IT        \n",
       "9 Litika   24.000 Delhi  HR        "
      ]
     },
     "metadata": {},
     "output_type": "display_data"
    }
   ],
   "source": [
    "df4 <- df4 %>% mutate(City = replace_na(City,'Mumbai'))\n",
    "df4"
   ]
  },
  {
   "cell_type": "code",
   "execution_count": 109,
   "id": "0ccf2868",
   "metadata": {},
   "outputs": [
    {
     "data": {
      "text/html": [
       "<dl class=dl-horizontal>\n",
       "\t<dt>Names</dt>\n",
       "\t\t<dd>0</dd>\n",
       "\t<dt>Age</dt>\n",
       "\t\t<dd>0</dd>\n",
       "\t<dt>City</dt>\n",
       "\t\t<dd>0</dd>\n",
       "\t<dt>Dept</dt>\n",
       "\t\t<dd>0</dd>\n",
       "</dl>\n"
      ],
      "text/latex": [
       "\\begin{description*}\n",
       "\\item[Names] 0\n",
       "\\item[Age] 0\n",
       "\\item[City] 0\n",
       "\\item[Dept] 0\n",
       "\\end{description*}\n"
      ],
      "text/markdown": [
       "Names\n",
       ":   0Age\n",
       ":   0City\n",
       ":   0Dept\n",
       ":   0\n",
       "\n"
      ],
      "text/plain": [
       "Names   Age  City  Dept \n",
       "    0     0     0     0 "
      ]
     },
     "metadata": {},
     "output_type": "display_data"
    }
   ],
   "source": [
    "colSums(is.na(df4))"
   ]
  },
  {
   "cell_type": "markdown",
   "id": "709eb6da",
   "metadata": {},
   "source": [
    "#### Sorting in DataFrame"
   ]
  },
  {
   "cell_type": "code",
   "execution_count": 115,
   "id": "0c3fec18",
   "metadata": {},
   "outputs": [
    {
     "data": {
      "text/html": [
       "<ol class=list-inline>\n",
       "\t<li>'Names'</li>\n",
       "\t<li>'Age'</li>\n",
       "\t<li>'City'</li>\n",
       "\t<li>'Dept'</li>\n",
       "</ol>\n"
      ],
      "text/latex": [
       "\\begin{enumerate*}\n",
       "\\item 'Names'\n",
       "\\item 'Age'\n",
       "\\item 'City'\n",
       "\\item 'Dept'\n",
       "\\end{enumerate*}\n"
      ],
      "text/markdown": [
       "1. 'Names'\n",
       "2. 'Age'\n",
       "3. 'City'\n",
       "4. 'Dept'\n",
       "\n",
       "\n"
      ],
      "text/plain": [
       "[1] \"Names\" \"Age\"   \"City\"  \"Dept\" "
      ]
     },
     "metadata": {},
     "output_type": "display_data"
    }
   ],
   "source": [
    "colnames(df4)"
   ]
  },
  {
   "cell_type": "code",
   "execution_count": 120,
   "id": "f25033c3",
   "metadata": {},
   "outputs": [
    {
     "data": {
      "text/html": [
       "<table>\n",
       "<thead><tr><th scope=col>Names</th><th scope=col>Age</th><th scope=col>City</th><th scope=col>Dept</th></tr></thead>\n",
       "<tbody>\n",
       "\t<tr><td>Ankit     </td><td>20.000    </td><td>Delhi     </td><td>IT        </td></tr>\n",
       "\t<tr><td>Raj       </td><td>22.000    </td><td>Noida     </td><td>Finance   </td></tr>\n",
       "\t<tr><td>Hitesh    </td><td>22.625    </td><td>Pune      </td><td>Operations</td></tr>\n",
       "\t<tr><td>Shubham   </td><td>23.000    </td><td>Mumbai    </td><td>HR        </td></tr>\n",
       "\t<tr><td>Radhika   </td><td>24.000    </td><td>Nagpur    </td><td>Admin     </td></tr>\n",
       "\t<tr><td>Prajakta  </td><td>23.000    </td><td>Mumbai    </td><td>IT        </td></tr>\n",
       "\t<tr><td>Nikita    </td><td>22.000    </td><td>Delhi     </td><td>Finance   </td></tr>\n",
       "\t<tr><td>Vibhor    </td><td>23.000    </td><td>Mumbai    </td><td>IT        </td></tr>\n",
       "\t<tr><td>Litika    </td><td>24.000    </td><td>Delhi     </td><td>HR        </td></tr>\n",
       "</tbody>\n",
       "</table>\n"
      ],
      "text/latex": [
       "\\begin{tabular}{r|llll}\n",
       " Names & Age & City & Dept\\\\\n",
       "\\hline\n",
       "\t Ankit      & 20.000     & Delhi      & IT        \\\\\n",
       "\t Raj        & 22.000     & Noida      & Finance   \\\\\n",
       "\t Hitesh     & 22.625     & Pune       & Operations\\\\\n",
       "\t Shubham    & 23.000     & Mumbai     & HR        \\\\\n",
       "\t Radhika    & 24.000     & Nagpur     & Admin     \\\\\n",
       "\t Prajakta   & 23.000     & Mumbai     & IT        \\\\\n",
       "\t Nikita     & 22.000     & Delhi      & Finance   \\\\\n",
       "\t Vibhor     & 23.000     & Mumbai     & IT        \\\\\n",
       "\t Litika     & 24.000     & Delhi      & HR        \\\\\n",
       "\\end{tabular}\n"
      ],
      "text/markdown": [
       "\n",
       "| Names | Age | City | Dept |\n",
       "|---|---|---|---|\n",
       "| Ankit      | 20.000     | Delhi      | IT         |\n",
       "| Raj        | 22.000     | Noida      | Finance    |\n",
       "| Hitesh     | 22.625     | Pune       | Operations |\n",
       "| Shubham    | 23.000     | Mumbai     | HR         |\n",
       "| Radhika    | 24.000     | Nagpur     | Admin      |\n",
       "| Prajakta   | 23.000     | Mumbai     | IT         |\n",
       "| Nikita     | 22.000     | Delhi      | Finance    |\n",
       "| Vibhor     | 23.000     | Mumbai     | IT         |\n",
       "| Litika     | 24.000     | Delhi      | HR         |\n",
       "\n"
      ],
      "text/plain": [
       "  Names    Age    City   Dept      \n",
       "1 Ankit    20.000 Delhi  IT        \n",
       "2 Raj      22.000 Noida  Finance   \n",
       "3 Hitesh   22.625 Pune   Operations\n",
       "4 Shubham  23.000 Mumbai HR        \n",
       "5 Radhika  24.000 Nagpur Admin     \n",
       "6 Prajakta 23.000 Mumbai IT        \n",
       "7 Nikita   22.000 Delhi  Finance   \n",
       "8 Vibhor   23.000 Mumbai IT        \n",
       "9 Litika   24.000 Delhi  HR        "
      ]
     },
     "metadata": {},
     "output_type": "display_data"
    }
   ],
   "source": [
    "df4"
   ]
  },
  {
   "cell_type": "code",
   "execution_count": 128,
   "id": "31b3e0cf",
   "metadata": {},
   "outputs": [
    {
     "data": {
      "text/html": [
       "<table>\n",
       "<thead><tr><th></th><th scope=col>Names</th><th scope=col>Age</th><th scope=col>City</th><th scope=col>Dept</th></tr></thead>\n",
       "<tbody>\n",
       "\t<tr><th scope=row>1</th><td>Ankit     </td><td>20.000    </td><td>Delhi     </td><td>IT        </td></tr>\n",
       "\t<tr><th scope=row>2</th><td>Raj       </td><td>22.000    </td><td>Noida     </td><td>Finance   </td></tr>\n",
       "\t<tr><th scope=row>7</th><td>Nikita    </td><td>22.000    </td><td>Delhi     </td><td>Finance   </td></tr>\n",
       "\t<tr><th scope=row>3</th><td>Hitesh    </td><td>22.625    </td><td>Pune      </td><td>Operations</td></tr>\n",
       "\t<tr><th scope=row>4</th><td>Shubham   </td><td>23.000    </td><td>Mumbai    </td><td>HR        </td></tr>\n",
       "\t<tr><th scope=row>6</th><td>Prajakta  </td><td>23.000    </td><td>Mumbai    </td><td>IT        </td></tr>\n",
       "\t<tr><th scope=row>8</th><td>Vibhor    </td><td>23.000    </td><td>Mumbai    </td><td>IT        </td></tr>\n",
       "\t<tr><th scope=row>5</th><td>Radhika   </td><td>24.000    </td><td>Nagpur    </td><td>Admin     </td></tr>\n",
       "\t<tr><th scope=row>9</th><td>Litika    </td><td>24.000    </td><td>Delhi     </td><td>HR        </td></tr>\n",
       "</tbody>\n",
       "</table>\n"
      ],
      "text/latex": [
       "\\begin{tabular}{r|llll}\n",
       "  & Names & Age & City & Dept\\\\\n",
       "\\hline\n",
       "\t1 & Ankit      & 20.000     & Delhi      & IT        \\\\\n",
       "\t2 & Raj        & 22.000     & Noida      & Finance   \\\\\n",
       "\t7 & Nikita     & 22.000     & Delhi      & Finance   \\\\\n",
       "\t3 & Hitesh     & 22.625     & Pune       & Operations\\\\\n",
       "\t4 & Shubham    & 23.000     & Mumbai     & HR        \\\\\n",
       "\t6 & Prajakta   & 23.000     & Mumbai     & IT        \\\\\n",
       "\t8 & Vibhor     & 23.000     & Mumbai     & IT        \\\\\n",
       "\t5 & Radhika    & 24.000     & Nagpur     & Admin     \\\\\n",
       "\t9 & Litika     & 24.000     & Delhi      & HR        \\\\\n",
       "\\end{tabular}\n"
      ],
      "text/markdown": [
       "\n",
       "| <!--/--> | Names | Age | City | Dept |\n",
       "|---|---|---|---|---|\n",
       "| 1 | Ankit      | 20.000     | Delhi      | IT         |\n",
       "| 2 | Raj        | 22.000     | Noida      | Finance    |\n",
       "| 7 | Nikita     | 22.000     | Delhi      | Finance    |\n",
       "| 3 | Hitesh     | 22.625     | Pune       | Operations |\n",
       "| 4 | Shubham    | 23.000     | Mumbai     | HR         |\n",
       "| 6 | Prajakta   | 23.000     | Mumbai     | IT         |\n",
       "| 8 | Vibhor     | 23.000     | Mumbai     | IT         |\n",
       "| 5 | Radhika    | 24.000     | Nagpur     | Admin      |\n",
       "| 9 | Litika     | 24.000     | Delhi      | HR         |\n",
       "\n"
      ],
      "text/plain": [
       "  Names    Age    City   Dept      \n",
       "1 Ankit    20.000 Delhi  IT        \n",
       "2 Raj      22.000 Noida  Finance   \n",
       "7 Nikita   22.000 Delhi  Finance   \n",
       "3 Hitesh   22.625 Pune   Operations\n",
       "4 Shubham  23.000 Mumbai HR        \n",
       "6 Prajakta 23.000 Mumbai IT        \n",
       "8 Vibhor   23.000 Mumbai IT        \n",
       "5 Radhika  24.000 Nagpur Admin     \n",
       "9 Litika   24.000 Delhi  HR        "
      ]
     },
     "metadata": {},
     "output_type": "display_data"
    }
   ],
   "source": [
    "df4[order(df4$Age),] # by default, decreasing = FALSE"
   ]
  },
  {
   "cell_type": "code",
   "execution_count": 130,
   "id": "22069d49",
   "metadata": {},
   "outputs": [
    {
     "data": {
      "text/html": [
       "<table>\n",
       "<thead><tr><th></th><th scope=col>Names</th><th scope=col>Age</th><th scope=col>City</th><th scope=col>Dept</th></tr></thead>\n",
       "<tbody>\n",
       "\t<tr><th scope=row>1</th><td>Ankit     </td><td>20.000    </td><td>Delhi     </td><td>IT        </td></tr>\n",
       "\t<tr><th scope=row>2</th><td>Raj       </td><td>22.000    </td><td>Noida     </td><td>Finance   </td></tr>\n",
       "\t<tr><th scope=row>7</th><td>Nikita    </td><td>22.000    </td><td>Delhi     </td><td>Finance   </td></tr>\n",
       "\t<tr><th scope=row>3</th><td>Hitesh    </td><td>22.625    </td><td>Pune      </td><td>Operations</td></tr>\n",
       "\t<tr><th scope=row>4</th><td>Shubham   </td><td>23.000    </td><td>Mumbai    </td><td>HR        </td></tr>\n",
       "\t<tr><th scope=row>6</th><td>Prajakta  </td><td>23.000    </td><td>Mumbai    </td><td>IT        </td></tr>\n",
       "\t<tr><th scope=row>8</th><td>Vibhor    </td><td>23.000    </td><td>Mumbai    </td><td>IT        </td></tr>\n",
       "\t<tr><th scope=row>5</th><td>Radhika   </td><td>24.000    </td><td>Nagpur    </td><td>Admin     </td></tr>\n",
       "\t<tr><th scope=row>9</th><td>Litika    </td><td>24.000    </td><td>Delhi     </td><td>HR        </td></tr>\n",
       "</tbody>\n",
       "</table>\n"
      ],
      "text/latex": [
       "\\begin{tabular}{r|llll}\n",
       "  & Names & Age & City & Dept\\\\\n",
       "\\hline\n",
       "\t1 & Ankit      & 20.000     & Delhi      & IT        \\\\\n",
       "\t2 & Raj        & 22.000     & Noida      & Finance   \\\\\n",
       "\t7 & Nikita     & 22.000     & Delhi      & Finance   \\\\\n",
       "\t3 & Hitesh     & 22.625     & Pune       & Operations\\\\\n",
       "\t4 & Shubham    & 23.000     & Mumbai     & HR        \\\\\n",
       "\t6 & Prajakta   & 23.000     & Mumbai     & IT        \\\\\n",
       "\t8 & Vibhor     & 23.000     & Mumbai     & IT        \\\\\n",
       "\t5 & Radhika    & 24.000     & Nagpur     & Admin     \\\\\n",
       "\t9 & Litika     & 24.000     & Delhi      & HR        \\\\\n",
       "\\end{tabular}\n"
      ],
      "text/markdown": [
       "\n",
       "| <!--/--> | Names | Age | City | Dept |\n",
       "|---|---|---|---|---|\n",
       "| 1 | Ankit      | 20.000     | Delhi      | IT         |\n",
       "| 2 | Raj        | 22.000     | Noida      | Finance    |\n",
       "| 7 | Nikita     | 22.000     | Delhi      | Finance    |\n",
       "| 3 | Hitesh     | 22.625     | Pune       | Operations |\n",
       "| 4 | Shubham    | 23.000     | Mumbai     | HR         |\n",
       "| 6 | Prajakta   | 23.000     | Mumbai     | IT         |\n",
       "| 8 | Vibhor     | 23.000     | Mumbai     | IT         |\n",
       "| 5 | Radhika    | 24.000     | Nagpur     | Admin      |\n",
       "| 9 | Litika     | 24.000     | Delhi      | HR         |\n",
       "\n"
      ],
      "text/plain": [
       "  Names    Age    City   Dept      \n",
       "1 Ankit    20.000 Delhi  IT        \n",
       "2 Raj      22.000 Noida  Finance   \n",
       "7 Nikita   22.000 Delhi  Finance   \n",
       "3 Hitesh   22.625 Pune   Operations\n",
       "4 Shubham  23.000 Mumbai HR        \n",
       "6 Prajakta 23.000 Mumbai IT        \n",
       "8 Vibhor   23.000 Mumbai IT        \n",
       "5 Radhika  24.000 Nagpur Admin     \n",
       "9 Litika   24.000 Delhi  HR        "
      ]
     },
     "metadata": {},
     "output_type": "display_data"
    }
   ],
   "source": [
    "df4[order(df4$Age, decreasing = FALSE),]"
   ]
  },
  {
   "cell_type": "code",
   "execution_count": 131,
   "id": "706ceaf9",
   "metadata": {},
   "outputs": [
    {
     "data": {
      "text/html": [
       "<table>\n",
       "<thead><tr><th></th><th scope=col>Names</th><th scope=col>Age</th><th scope=col>City</th><th scope=col>Dept</th></tr></thead>\n",
       "<tbody>\n",
       "\t<tr><th scope=row>1</th><td>Ankit     </td><td>20.000    </td><td>Delhi     </td><td>IT        </td></tr>\n",
       "\t<tr><th scope=row>7</th><td>Nikita    </td><td>22.000    </td><td>Delhi     </td><td>Finance   </td></tr>\n",
       "\t<tr><th scope=row>9</th><td>Litika    </td><td>24.000    </td><td>Delhi     </td><td>HR        </td></tr>\n",
       "\t<tr><th scope=row>4</th><td>Shubham   </td><td>23.000    </td><td>Mumbai    </td><td>HR        </td></tr>\n",
       "\t<tr><th scope=row>6</th><td>Prajakta  </td><td>23.000    </td><td>Mumbai    </td><td>IT        </td></tr>\n",
       "\t<tr><th scope=row>8</th><td>Vibhor    </td><td>23.000    </td><td>Mumbai    </td><td>IT        </td></tr>\n",
       "\t<tr><th scope=row>5</th><td>Radhika   </td><td>24.000    </td><td>Nagpur    </td><td>Admin     </td></tr>\n",
       "\t<tr><th scope=row>2</th><td>Raj       </td><td>22.000    </td><td>Noida     </td><td>Finance   </td></tr>\n",
       "\t<tr><th scope=row>3</th><td>Hitesh    </td><td>22.625    </td><td>Pune      </td><td>Operations</td></tr>\n",
       "</tbody>\n",
       "</table>\n"
      ],
      "text/latex": [
       "\\begin{tabular}{r|llll}\n",
       "  & Names & Age & City & Dept\\\\\n",
       "\\hline\n",
       "\t1 & Ankit      & 20.000     & Delhi      & IT        \\\\\n",
       "\t7 & Nikita     & 22.000     & Delhi      & Finance   \\\\\n",
       "\t9 & Litika     & 24.000     & Delhi      & HR        \\\\\n",
       "\t4 & Shubham    & 23.000     & Mumbai     & HR        \\\\\n",
       "\t6 & Prajakta   & 23.000     & Mumbai     & IT        \\\\\n",
       "\t8 & Vibhor     & 23.000     & Mumbai     & IT        \\\\\n",
       "\t5 & Radhika    & 24.000     & Nagpur     & Admin     \\\\\n",
       "\t2 & Raj        & 22.000     & Noida      & Finance   \\\\\n",
       "\t3 & Hitesh     & 22.625     & Pune       & Operations\\\\\n",
       "\\end{tabular}\n"
      ],
      "text/markdown": [
       "\n",
       "| <!--/--> | Names | Age | City | Dept |\n",
       "|---|---|---|---|---|\n",
       "| 1 | Ankit      | 20.000     | Delhi      | IT         |\n",
       "| 7 | Nikita     | 22.000     | Delhi      | Finance    |\n",
       "| 9 | Litika     | 24.000     | Delhi      | HR         |\n",
       "| 4 | Shubham    | 23.000     | Mumbai     | HR         |\n",
       "| 6 | Prajakta   | 23.000     | Mumbai     | IT         |\n",
       "| 8 | Vibhor     | 23.000     | Mumbai     | IT         |\n",
       "| 5 | Radhika    | 24.000     | Nagpur     | Admin      |\n",
       "| 2 | Raj        | 22.000     | Noida      | Finance    |\n",
       "| 3 | Hitesh     | 22.625     | Pune       | Operations |\n",
       "\n"
      ],
      "text/plain": [
       "  Names    Age    City   Dept      \n",
       "1 Ankit    20.000 Delhi  IT        \n",
       "7 Nikita   22.000 Delhi  Finance   \n",
       "9 Litika   24.000 Delhi  HR        \n",
       "4 Shubham  23.000 Mumbai HR        \n",
       "6 Prajakta 23.000 Mumbai IT        \n",
       "8 Vibhor   23.000 Mumbai IT        \n",
       "5 Radhika  24.000 Nagpur Admin     \n",
       "2 Raj      22.000 Noida  Finance   \n",
       "3 Hitesh   22.625 Pune   Operations"
      ]
     },
     "metadata": {},
     "output_type": "display_data"
    }
   ],
   "source": [
    "df4[order(df4$City, decreasing = FALSE),]"
   ]
  },
  {
   "cell_type": "code",
   "execution_count": 134,
   "id": "21c570e9",
   "metadata": {},
   "outputs": [
    {
     "data": {
      "text/html": [
       "<table>\n",
       "<thead><tr><th></th><th scope=col>Names</th><th scope=col>Age</th><th scope=col>City</th><th scope=col>Dept</th></tr></thead>\n",
       "<tbody>\n",
       "\t<tr><th scope=row>1</th><td>Ankit     </td><td>20.000    </td><td>Delhi     </td><td>IT        </td></tr>\n",
       "\t<tr><th scope=row>7</th><td>Nikita    </td><td>22.000    </td><td>Delhi     </td><td>Finance   </td></tr>\n",
       "\t<tr><th scope=row>9</th><td>Litika    </td><td>24.000    </td><td>Delhi     </td><td>HR        </td></tr>\n",
       "\t<tr><th scope=row>6</th><td>Prajakta  </td><td>23.000    </td><td>Mumbai    </td><td>IT        </td></tr>\n",
       "\t<tr><th scope=row>4</th><td>Shubham   </td><td>23.000    </td><td>Mumbai    </td><td>HR        </td></tr>\n",
       "\t<tr><th scope=row>8</th><td>Vibhor    </td><td>23.000    </td><td>Mumbai    </td><td>IT        </td></tr>\n",
       "\t<tr><th scope=row>5</th><td>Radhika   </td><td>24.000    </td><td>Nagpur    </td><td>Admin     </td></tr>\n",
       "\t<tr><th scope=row>2</th><td>Raj       </td><td>22.000    </td><td>Noida     </td><td>Finance   </td></tr>\n",
       "\t<tr><th scope=row>3</th><td>Hitesh    </td><td>22.625    </td><td>Pune      </td><td>Operations</td></tr>\n",
       "</tbody>\n",
       "</table>\n"
      ],
      "text/latex": [
       "\\begin{tabular}{r|llll}\n",
       "  & Names & Age & City & Dept\\\\\n",
       "\\hline\n",
       "\t1 & Ankit      & 20.000     & Delhi      & IT        \\\\\n",
       "\t7 & Nikita     & 22.000     & Delhi      & Finance   \\\\\n",
       "\t9 & Litika     & 24.000     & Delhi      & HR        \\\\\n",
       "\t6 & Prajakta   & 23.000     & Mumbai     & IT        \\\\\n",
       "\t4 & Shubham    & 23.000     & Mumbai     & HR        \\\\\n",
       "\t8 & Vibhor     & 23.000     & Mumbai     & IT        \\\\\n",
       "\t5 & Radhika    & 24.000     & Nagpur     & Admin     \\\\\n",
       "\t2 & Raj        & 22.000     & Noida      & Finance   \\\\\n",
       "\t3 & Hitesh     & 22.625     & Pune       & Operations\\\\\n",
       "\\end{tabular}\n"
      ],
      "text/markdown": [
       "\n",
       "| <!--/--> | Names | Age | City | Dept |\n",
       "|---|---|---|---|---|\n",
       "| 1 | Ankit      | 20.000     | Delhi      | IT         |\n",
       "| 7 | Nikita     | 22.000     | Delhi      | Finance    |\n",
       "| 9 | Litika     | 24.000     | Delhi      | HR         |\n",
       "| 6 | Prajakta   | 23.000     | Mumbai     | IT         |\n",
       "| 4 | Shubham    | 23.000     | Mumbai     | HR         |\n",
       "| 8 | Vibhor     | 23.000     | Mumbai     | IT         |\n",
       "| 5 | Radhika    | 24.000     | Nagpur     | Admin      |\n",
       "| 2 | Raj        | 22.000     | Noida      | Finance    |\n",
       "| 3 | Hitesh     | 22.625     | Pune       | Operations |\n",
       "\n"
      ],
      "text/plain": [
       "  Names    Age    City   Dept      \n",
       "1 Ankit    20.000 Delhi  IT        \n",
       "7 Nikita   22.000 Delhi  Finance   \n",
       "9 Litika   24.000 Delhi  HR        \n",
       "6 Prajakta 23.000 Mumbai IT        \n",
       "4 Shubham  23.000 Mumbai HR        \n",
       "8 Vibhor   23.000 Mumbai IT        \n",
       "5 Radhika  24.000 Nagpur Admin     \n",
       "2 Raj      22.000 Noida  Finance   \n",
       "3 Hitesh   22.625 Pune   Operations"
      ]
     },
     "metadata": {},
     "output_type": "display_data"
    }
   ],
   "source": [
    "df4[order(df4$City,df4$Age,df4$Names),]"
   ]
  },
  {
   "cell_type": "code",
   "execution_count": 141,
   "id": "15cc0be8",
   "metadata": {},
   "outputs": [
    {
     "data": {
      "text/html": [
       "<table>\n",
       "<thead><tr><th scope=col>Names</th><th scope=col>Age</th><th scope=col>City</th><th scope=col>Dept</th></tr></thead>\n",
       "<tbody>\n",
       "\t<tr><td>Ankit     </td><td>20.000    </td><td>Delhi     </td><td>IT        </td></tr>\n",
       "\t<tr><td>Raj       </td><td>22.000    </td><td>Noida     </td><td>Finance   </td></tr>\n",
       "\t<tr><td>Nikita    </td><td>22.000    </td><td>Delhi     </td><td>Finance   </td></tr>\n",
       "\t<tr><td>Hitesh    </td><td>22.625    </td><td>Pune      </td><td>Operations</td></tr>\n",
       "\t<tr><td>Shubham   </td><td>23.000    </td><td>Mumbai    </td><td>HR        </td></tr>\n",
       "\t<tr><td>Prajakta  </td><td>23.000    </td><td>Mumbai    </td><td>IT        </td></tr>\n",
       "\t<tr><td>Vibhor    </td><td>23.000    </td><td>Mumbai    </td><td>IT        </td></tr>\n",
       "\t<tr><td>Radhika   </td><td>24.000    </td><td>Nagpur    </td><td>Admin     </td></tr>\n",
       "\t<tr><td>Litika    </td><td>24.000    </td><td>Delhi     </td><td>HR        </td></tr>\n",
       "</tbody>\n",
       "</table>\n"
      ],
      "text/latex": [
       "\\begin{tabular}{r|llll}\n",
       " Names & Age & City & Dept\\\\\n",
       "\\hline\n",
       "\t Ankit      & 20.000     & Delhi      & IT        \\\\\n",
       "\t Raj        & 22.000     & Noida      & Finance   \\\\\n",
       "\t Nikita     & 22.000     & Delhi      & Finance   \\\\\n",
       "\t Hitesh     & 22.625     & Pune       & Operations\\\\\n",
       "\t Shubham    & 23.000     & Mumbai     & HR        \\\\\n",
       "\t Prajakta   & 23.000     & Mumbai     & IT        \\\\\n",
       "\t Vibhor     & 23.000     & Mumbai     & IT        \\\\\n",
       "\t Radhika    & 24.000     & Nagpur     & Admin     \\\\\n",
       "\t Litika     & 24.000     & Delhi      & HR        \\\\\n",
       "\\end{tabular}\n"
      ],
      "text/markdown": [
       "\n",
       "| Names | Age | City | Dept |\n",
       "|---|---|---|---|\n",
       "| Ankit      | 20.000     | Delhi      | IT         |\n",
       "| Raj        | 22.000     | Noida      | Finance    |\n",
       "| Nikita     | 22.000     | Delhi      | Finance    |\n",
       "| Hitesh     | 22.625     | Pune       | Operations |\n",
       "| Shubham    | 23.000     | Mumbai     | HR         |\n",
       "| Prajakta   | 23.000     | Mumbai     | IT         |\n",
       "| Vibhor     | 23.000     | Mumbai     | IT         |\n",
       "| Radhika    | 24.000     | Nagpur     | Admin      |\n",
       "| Litika     | 24.000     | Delhi      | HR         |\n",
       "\n"
      ],
      "text/plain": [
       "  Names    Age    City   Dept      \n",
       "1 Ankit    20.000 Delhi  IT        \n",
       "2 Raj      22.000 Noida  Finance   \n",
       "3 Nikita   22.000 Delhi  Finance   \n",
       "4 Hitesh   22.625 Pune   Operations\n",
       "5 Shubham  23.000 Mumbai HR        \n",
       "6 Prajakta 23.000 Mumbai IT        \n",
       "7 Vibhor   23.000 Mumbai IT        \n",
       "8 Radhika  24.000 Nagpur Admin     \n",
       "9 Litika   24.000 Delhi  HR        "
      ]
     },
     "metadata": {},
     "output_type": "display_data"
    }
   ],
   "source": [
    "# Method - 2\n",
    "arrange(df4, Age,desc(City))    # Age wise city in descending order"
   ]
  },
  {
   "cell_type": "code",
   "execution_count": 143,
   "id": "bbd6dc29",
   "metadata": {},
   "outputs": [
    {
     "data": {
      "text/html": [
       "<table>\n",
       "<thead><tr><th scope=col>Names</th><th scope=col>Age</th><th scope=col>City</th><th scope=col>Dept</th></tr></thead>\n",
       "<tbody>\n",
       "\t<tr><td>Litika    </td><td>24.000    </td><td>Delhi     </td><td>HR        </td></tr>\n",
       "\t<tr><td>Nikita    </td><td>22.000    </td><td>Delhi     </td><td>Finance   </td></tr>\n",
       "\t<tr><td>Ankit     </td><td>20.000    </td><td>Delhi     </td><td>IT        </td></tr>\n",
       "\t<tr><td>Shubham   </td><td>23.000    </td><td>Mumbai    </td><td>HR        </td></tr>\n",
       "\t<tr><td>Prajakta  </td><td>23.000    </td><td>Mumbai    </td><td>IT        </td></tr>\n",
       "\t<tr><td>Vibhor    </td><td>23.000    </td><td>Mumbai    </td><td>IT        </td></tr>\n",
       "\t<tr><td>Radhika   </td><td>24.000    </td><td>Nagpur    </td><td>Admin     </td></tr>\n",
       "\t<tr><td>Raj       </td><td>22.000    </td><td>Noida     </td><td>Finance   </td></tr>\n",
       "\t<tr><td>Hitesh    </td><td>22.625    </td><td>Pune      </td><td>Operations</td></tr>\n",
       "</tbody>\n",
       "</table>\n"
      ],
      "text/latex": [
       "\\begin{tabular}{r|llll}\n",
       " Names & Age & City & Dept\\\\\n",
       "\\hline\n",
       "\t Litika     & 24.000     & Delhi      & HR        \\\\\n",
       "\t Nikita     & 22.000     & Delhi      & Finance   \\\\\n",
       "\t Ankit      & 20.000     & Delhi      & IT        \\\\\n",
       "\t Shubham    & 23.000     & Mumbai     & HR        \\\\\n",
       "\t Prajakta   & 23.000     & Mumbai     & IT        \\\\\n",
       "\t Vibhor     & 23.000     & Mumbai     & IT        \\\\\n",
       "\t Radhika    & 24.000     & Nagpur     & Admin     \\\\\n",
       "\t Raj        & 22.000     & Noida      & Finance   \\\\\n",
       "\t Hitesh     & 22.625     & Pune       & Operations\\\\\n",
       "\\end{tabular}\n"
      ],
      "text/markdown": [
       "\n",
       "| Names | Age | City | Dept |\n",
       "|---|---|---|---|\n",
       "| Litika     | 24.000     | Delhi      | HR         |\n",
       "| Nikita     | 22.000     | Delhi      | Finance    |\n",
       "| Ankit      | 20.000     | Delhi      | IT         |\n",
       "| Shubham    | 23.000     | Mumbai     | HR         |\n",
       "| Prajakta   | 23.000     | Mumbai     | IT         |\n",
       "| Vibhor     | 23.000     | Mumbai     | IT         |\n",
       "| Radhika    | 24.000     | Nagpur     | Admin      |\n",
       "| Raj        | 22.000     | Noida      | Finance    |\n",
       "| Hitesh     | 22.625     | Pune       | Operations |\n",
       "\n"
      ],
      "text/plain": [
       "  Names    Age    City   Dept      \n",
       "1 Litika   24.000 Delhi  HR        \n",
       "2 Nikita   22.000 Delhi  Finance   \n",
       "3 Ankit    20.000 Delhi  IT        \n",
       "4 Shubham  23.000 Mumbai HR        \n",
       "5 Prajakta 23.000 Mumbai IT        \n",
       "6 Vibhor   23.000 Mumbai IT        \n",
       "7 Radhika  24.000 Nagpur Admin     \n",
       "8 Raj      22.000 Noida  Finance   \n",
       "9 Hitesh   22.625 Pune   Operations"
      ]
     },
     "metadata": {},
     "output_type": "display_data"
    }
   ],
   "source": [
    "arrange(df4, City,desc(Age))"
   ]
  },
  {
   "cell_type": "markdown",
   "id": "27844293",
   "metadata": {},
   "source": [
    "#### Filtering in DatFrame in R"
   ]
  },
  {
   "cell_type": "markdown",
   "id": "495c4330",
   "metadata": {},
   "source": [
    "#### 1) Find all records where city is Delhi"
   ]
  },
  {
   "cell_type": "code",
   "execution_count": 146,
   "id": "673c7dbd",
   "metadata": {},
   "outputs": [
    {
     "data": {
      "text/html": [
       "<table>\n",
       "<thead><tr><th></th><th scope=col>Names</th><th scope=col>Age</th><th scope=col>City</th><th scope=col>Dept</th></tr></thead>\n",
       "<tbody>\n",
       "\t<tr><th scope=row>1</th><td>Ankit  </td><td>20     </td><td>Delhi  </td><td>IT     </td></tr>\n",
       "\t<tr><th scope=row>7</th><td>Nikita </td><td>22     </td><td>Delhi  </td><td>Finance</td></tr>\n",
       "\t<tr><th scope=row>9</th><td>Litika </td><td>24     </td><td>Delhi  </td><td>HR     </td></tr>\n",
       "</tbody>\n",
       "</table>\n"
      ],
      "text/latex": [
       "\\begin{tabular}{r|llll}\n",
       "  & Names & Age & City & Dept\\\\\n",
       "\\hline\n",
       "\t1 & Ankit   & 20      & Delhi   & IT     \\\\\n",
       "\t7 & Nikita  & 22      & Delhi   & Finance\\\\\n",
       "\t9 & Litika  & 24      & Delhi   & HR     \\\\\n",
       "\\end{tabular}\n"
      ],
      "text/markdown": [
       "\n",
       "| <!--/--> | Names | Age | City | Dept |\n",
       "|---|---|---|---|---|\n",
       "| 1 | Ankit   | 20      | Delhi   | IT      |\n",
       "| 7 | Nikita  | 22      | Delhi   | Finance |\n",
       "| 9 | Litika  | 24      | Delhi   | HR      |\n",
       "\n"
      ],
      "text/plain": [
       "  Names  Age City  Dept   \n",
       "1 Ankit  20  Delhi IT     \n",
       "7 Nikita 22  Delhi Finance\n",
       "9 Litika 24  Delhi HR     "
      ]
     },
     "metadata": {},
     "output_type": "display_data"
    }
   ],
   "source": [
    "df4[df4$City==\"Delhi\",]"
   ]
  },
  {
   "cell_type": "code",
   "execution_count": 147,
   "id": "4c40a70a",
   "metadata": {},
   "outputs": [
    {
     "data": {
      "text/html": [
       "<table>\n",
       "<thead><tr><th></th><th scope=col>Names</th><th scope=col>Age</th><th scope=col>City</th><th scope=col>Dept</th></tr></thead>\n",
       "<tbody>\n",
       "\t<tr><th scope=row>4</th><td>Shubham </td><td>23      </td><td>Mumbai  </td><td>HR      </td></tr>\n",
       "\t<tr><th scope=row>5</th><td>Radhika </td><td>24      </td><td>Nagpur  </td><td>Admin   </td></tr>\n",
       "\t<tr><th scope=row>6</th><td>Prajakta</td><td>23      </td><td>Mumbai  </td><td>IT      </td></tr>\n",
       "\t<tr><th scope=row>8</th><td>Vibhor  </td><td>23      </td><td>Mumbai  </td><td>IT      </td></tr>\n",
       "\t<tr><th scope=row>9</th><td>Litika  </td><td>24      </td><td>Delhi   </td><td>HR      </td></tr>\n",
       "</tbody>\n",
       "</table>\n"
      ],
      "text/latex": [
       "\\begin{tabular}{r|llll}\n",
       "  & Names & Age & City & Dept\\\\\n",
       "\\hline\n",
       "\t4 & Shubham  & 23       & Mumbai   & HR      \\\\\n",
       "\t5 & Radhika  & 24       & Nagpur   & Admin   \\\\\n",
       "\t6 & Prajakta & 23       & Mumbai   & IT      \\\\\n",
       "\t8 & Vibhor   & 23       & Mumbai   & IT      \\\\\n",
       "\t9 & Litika   & 24       & Delhi    & HR      \\\\\n",
       "\\end{tabular}\n"
      ],
      "text/markdown": [
       "\n",
       "| <!--/--> | Names | Age | City | Dept |\n",
       "|---|---|---|---|---|\n",
       "| 4 | Shubham  | 23       | Mumbai   | HR       |\n",
       "| 5 | Radhika  | 24       | Nagpur   | Admin    |\n",
       "| 6 | Prajakta | 23       | Mumbai   | IT       |\n",
       "| 8 | Vibhor   | 23       | Mumbai   | IT       |\n",
       "| 9 | Litika   | 24       | Delhi    | HR       |\n",
       "\n"
      ],
      "text/plain": [
       "  Names    Age City   Dept \n",
       "4 Shubham  23  Mumbai HR   \n",
       "5 Radhika  24  Nagpur Admin\n",
       "6 Prajakta 23  Mumbai IT   \n",
       "8 Vibhor   23  Mumbai IT   \n",
       "9 Litika   24  Delhi  HR   "
      ]
     },
     "metadata": {},
     "output_type": "display_data"
    }
   ],
   "source": [
    "df4[df4$Age>=23,]"
   ]
  },
  {
   "cell_type": "markdown",
   "id": "e11b851a",
   "metadata": {},
   "source": [
    "#### Find all records where city in Delhi, Mumbai"
   ]
  },
  {
   "cell_type": "code",
   "execution_count": 149,
   "id": "c07869de",
   "metadata": {},
   "outputs": [
    {
     "data": {
      "text/html": [
       "<table>\n",
       "<thead><tr><th></th><th scope=col>Names</th><th scope=col>Age</th><th scope=col>City</th><th scope=col>Dept</th></tr></thead>\n",
       "<tbody>\n",
       "\t<tr><th scope=row>1</th><td>Ankit   </td><td>20      </td><td>Delhi   </td><td>IT      </td></tr>\n",
       "\t<tr><th scope=row>4</th><td>Shubham </td><td>23      </td><td>Mumbai  </td><td>HR      </td></tr>\n",
       "\t<tr><th scope=row>6</th><td>Prajakta</td><td>23      </td><td>Mumbai  </td><td>IT      </td></tr>\n",
       "\t<tr><th scope=row>7</th><td>Nikita  </td><td>22      </td><td>Delhi   </td><td>Finance </td></tr>\n",
       "\t<tr><th scope=row>8</th><td>Vibhor  </td><td>23      </td><td>Mumbai  </td><td>IT      </td></tr>\n",
       "\t<tr><th scope=row>9</th><td>Litika  </td><td>24      </td><td>Delhi   </td><td>HR      </td></tr>\n",
       "</tbody>\n",
       "</table>\n"
      ],
      "text/latex": [
       "\\begin{tabular}{r|llll}\n",
       "  & Names & Age & City & Dept\\\\\n",
       "\\hline\n",
       "\t1 & Ankit    & 20       & Delhi    & IT      \\\\\n",
       "\t4 & Shubham  & 23       & Mumbai   & HR      \\\\\n",
       "\t6 & Prajakta & 23       & Mumbai   & IT      \\\\\n",
       "\t7 & Nikita   & 22       & Delhi    & Finance \\\\\n",
       "\t8 & Vibhor   & 23       & Mumbai   & IT      \\\\\n",
       "\t9 & Litika   & 24       & Delhi    & HR      \\\\\n",
       "\\end{tabular}\n"
      ],
      "text/markdown": [
       "\n",
       "| <!--/--> | Names | Age | City | Dept |\n",
       "|---|---|---|---|---|\n",
       "| 1 | Ankit    | 20       | Delhi    | IT       |\n",
       "| 4 | Shubham  | 23       | Mumbai   | HR       |\n",
       "| 6 | Prajakta | 23       | Mumbai   | IT       |\n",
       "| 7 | Nikita   | 22       | Delhi    | Finance  |\n",
       "| 8 | Vibhor   | 23       | Mumbai   | IT       |\n",
       "| 9 | Litika   | 24       | Delhi    | HR       |\n",
       "\n"
      ],
      "text/plain": [
       "  Names    Age City   Dept   \n",
       "1 Ankit    20  Delhi  IT     \n",
       "4 Shubham  23  Mumbai HR     \n",
       "6 Prajakta 23  Mumbai IT     \n",
       "7 Nikita   22  Delhi  Finance\n",
       "8 Vibhor   23  Mumbai IT     \n",
       "9 Litika   24  Delhi  HR     "
      ]
     },
     "metadata": {},
     "output_type": "display_data"
    }
   ],
   "source": [
    "df4[df4$City %in% c('Delhi','Mumbai'),]"
   ]
  },
  {
   "cell_type": "code",
   "execution_count": 153,
   "id": "c47dff7a",
   "metadata": {},
   "outputs": [
    {
     "data": {
      "text/html": [
       "<table>\n",
       "<thead><tr><th></th><th scope=col>Names</th><th scope=col>Age</th><th scope=col>City</th><th scope=col>Dept</th></tr></thead>\n",
       "<tbody>\n",
       "\t<tr><th scope=row>1</th><td>Ankit   </td><td>20      </td><td>Delhi   </td><td>IT      </td></tr>\n",
       "\t<tr><th scope=row>4</th><td>Shubham </td><td>23      </td><td>Mumbai  </td><td>HR      </td></tr>\n",
       "\t<tr><th scope=row>5</th><td>Radhika </td><td>24      </td><td>Nagpur  </td><td>Admin   </td></tr>\n",
       "\t<tr><th scope=row>6</th><td>Prajakta</td><td>23      </td><td>Mumbai  </td><td>IT      </td></tr>\n",
       "\t<tr><th scope=row>7</th><td>Nikita  </td><td>22      </td><td>Delhi   </td><td>Finance </td></tr>\n",
       "\t<tr><th scope=row>8</th><td>Vibhor  </td><td>23      </td><td>Mumbai  </td><td>IT      </td></tr>\n",
       "\t<tr><th scope=row>9</th><td>Litika  </td><td>24      </td><td>Delhi   </td><td>HR      </td></tr>\n",
       "</tbody>\n",
       "</table>\n"
      ],
      "text/latex": [
       "\\begin{tabular}{r|llll}\n",
       "  & Names & Age & City & Dept\\\\\n",
       "\\hline\n",
       "\t1 & Ankit    & 20       & Delhi    & IT      \\\\\n",
       "\t4 & Shubham  & 23       & Mumbai   & HR      \\\\\n",
       "\t5 & Radhika  & 24       & Nagpur   & Admin   \\\\\n",
       "\t6 & Prajakta & 23       & Mumbai   & IT      \\\\\n",
       "\t7 & Nikita   & 22       & Delhi    & Finance \\\\\n",
       "\t8 & Vibhor   & 23       & Mumbai   & IT      \\\\\n",
       "\t9 & Litika   & 24       & Delhi    & HR      \\\\\n",
       "\\end{tabular}\n"
      ],
      "text/markdown": [
       "\n",
       "| <!--/--> | Names | Age | City | Dept |\n",
       "|---|---|---|---|---|\n",
       "| 1 | Ankit    | 20       | Delhi    | IT       |\n",
       "| 4 | Shubham  | 23       | Mumbai   | HR       |\n",
       "| 5 | Radhika  | 24       | Nagpur   | Admin    |\n",
       "| 6 | Prajakta | 23       | Mumbai   | IT       |\n",
       "| 7 | Nikita   | 22       | Delhi    | Finance  |\n",
       "| 8 | Vibhor   | 23       | Mumbai   | IT       |\n",
       "| 9 | Litika   | 24       | Delhi    | HR       |\n",
       "\n"
      ],
      "text/plain": [
       "  Names    Age City   Dept   \n",
       "1 Ankit    20  Delhi  IT     \n",
       "4 Shubham  23  Mumbai HR     \n",
       "5 Radhika  24  Nagpur Admin  \n",
       "6 Prajakta 23  Mumbai IT     \n",
       "7 Nikita   22  Delhi  Finance\n",
       "8 Vibhor   23  Mumbai IT     \n",
       "9 Litika   24  Delhi  HR     "
      ]
     },
     "metadata": {},
     "output_type": "display_data"
    }
   ],
   "source": [
    "df4[which(df4$City %in% c(\"Delhi\",\"Mumbai\") | df4$Age > 23),]"
   ]
  },
  {
   "cell_type": "code",
   "execution_count": 154,
   "id": "2beefcb1",
   "metadata": {},
   "outputs": [
    {
     "data": {
      "text/html": [
       "<table>\n",
       "<thead><tr><th></th><th scope=col>Names</th><th scope=col>Age</th><th scope=col>City</th><th scope=col>Dept</th></tr></thead>\n",
       "<tbody>\n",
       "\t<tr><th scope=row>4</th><td>Shubham </td><td>23      </td><td>Mumbai  </td><td>HR      </td></tr>\n",
       "\t<tr><th scope=row>6</th><td>Prajakta</td><td>23      </td><td>Mumbai  </td><td>IT      </td></tr>\n",
       "\t<tr><th scope=row>8</th><td>Vibhor  </td><td>23      </td><td>Mumbai  </td><td>IT      </td></tr>\n",
       "\t<tr><th scope=row>9</th><td>Litika  </td><td>24      </td><td>Delhi   </td><td>HR      </td></tr>\n",
       "</tbody>\n",
       "</table>\n"
      ],
      "text/latex": [
       "\\begin{tabular}{r|llll}\n",
       "  & Names & Age & City & Dept\\\\\n",
       "\\hline\n",
       "\t4 & Shubham  & 23       & Mumbai   & HR      \\\\\n",
       "\t6 & Prajakta & 23       & Mumbai   & IT      \\\\\n",
       "\t8 & Vibhor   & 23       & Mumbai   & IT      \\\\\n",
       "\t9 & Litika   & 24       & Delhi    & HR      \\\\\n",
       "\\end{tabular}\n"
      ],
      "text/markdown": [
       "\n",
       "| <!--/--> | Names | Age | City | Dept |\n",
       "|---|---|---|---|---|\n",
       "| 4 | Shubham  | 23       | Mumbai   | HR       |\n",
       "| 6 | Prajakta | 23       | Mumbai   | IT       |\n",
       "| 8 | Vibhor   | 23       | Mumbai   | IT       |\n",
       "| 9 | Litika   | 24       | Delhi    | HR       |\n",
       "\n"
      ],
      "text/plain": [
       "  Names    Age City   Dept\n",
       "4 Shubham  23  Mumbai HR  \n",
       "6 Prajakta 23  Mumbai IT  \n",
       "8 Vibhor   23  Mumbai IT  \n",
       "9 Litika   24  Delhi  HR  "
      ]
     },
     "metadata": {},
     "output_type": "display_data"
    }
   ],
   "source": [
    "df4[which(df4$City %in% c(\"Delhi\",\"Mumbai\") & df4$Age >= 23),]"
   ]
  },
  {
   "cell_type": "markdown",
   "id": "dc007946",
   "metadata": {},
   "source": [
    "#### Filter Using dyplyr"
   ]
  },
  {
   "cell_type": "code",
   "execution_count": 155,
   "id": "852950c6",
   "metadata": {},
   "outputs": [
    {
     "data": {
      "text/html": [
       "<table>\n",
       "<thead><tr><th scope=col>Names</th><th scope=col>Age</th><th scope=col>City</th><th scope=col>Dept</th></tr></thead>\n",
       "<tbody>\n",
       "\t<tr><td>Ankit   </td><td>20      </td><td>Delhi   </td><td>IT      </td></tr>\n",
       "\t<tr><td>Shubham </td><td>23      </td><td>Mumbai  </td><td>HR      </td></tr>\n",
       "\t<tr><td>Radhika </td><td>24      </td><td>Nagpur  </td><td>Admin   </td></tr>\n",
       "\t<tr><td>Prajakta</td><td>23      </td><td>Mumbai  </td><td>IT      </td></tr>\n",
       "\t<tr><td>Nikita  </td><td>22      </td><td>Delhi   </td><td>Finance </td></tr>\n",
       "\t<tr><td>Vibhor  </td><td>23      </td><td>Mumbai  </td><td>IT      </td></tr>\n",
       "\t<tr><td>Litika  </td><td>24      </td><td>Delhi   </td><td>HR      </td></tr>\n",
       "</tbody>\n",
       "</table>\n"
      ],
      "text/latex": [
       "\\begin{tabular}{r|llll}\n",
       " Names & Age & City & Dept\\\\\n",
       "\\hline\n",
       "\t Ankit    & 20       & Delhi    & IT      \\\\\n",
       "\t Shubham  & 23       & Mumbai   & HR      \\\\\n",
       "\t Radhika  & 24       & Nagpur   & Admin   \\\\\n",
       "\t Prajakta & 23       & Mumbai   & IT      \\\\\n",
       "\t Nikita   & 22       & Delhi    & Finance \\\\\n",
       "\t Vibhor   & 23       & Mumbai   & IT      \\\\\n",
       "\t Litika   & 24       & Delhi    & HR      \\\\\n",
       "\\end{tabular}\n"
      ],
      "text/markdown": [
       "\n",
       "| Names | Age | City | Dept |\n",
       "|---|---|---|---|\n",
       "| Ankit    | 20       | Delhi    | IT       |\n",
       "| Shubham  | 23       | Mumbai   | HR       |\n",
       "| Radhika  | 24       | Nagpur   | Admin    |\n",
       "| Prajakta | 23       | Mumbai   | IT       |\n",
       "| Nikita   | 22       | Delhi    | Finance  |\n",
       "| Vibhor   | 23       | Mumbai   | IT       |\n",
       "| Litika   | 24       | Delhi    | HR       |\n",
       "\n"
      ],
      "text/plain": [
       "  Names    Age City   Dept   \n",
       "1 Ankit    20  Delhi  IT     \n",
       "2 Shubham  23  Mumbai HR     \n",
       "3 Radhika  24  Nagpur Admin  \n",
       "4 Prajakta 23  Mumbai IT     \n",
       "5 Nikita   22  Delhi  Finance\n",
       "6 Vibhor   23  Mumbai IT     \n",
       "7 Litika   24  Delhi  HR     "
      ]
     },
     "metadata": {},
     "output_type": "display_data"
    }
   ],
   "source": [
    "filter(df4, City == \"Delhi\" | Age >= 23)"
   ]
  },
  {
   "cell_type": "code",
   "execution_count": 156,
   "id": "09702cb0",
   "metadata": {},
   "outputs": [
    {
     "data": {
      "text/html": [
       "<table>\n",
       "<thead><tr><th scope=col>Names</th><th scope=col>Age</th><th scope=col>City</th><th scope=col>Dept</th></tr></thead>\n",
       "<tbody>\n",
       "\t<tr><td>Shubham </td><td>23      </td><td>Mumbai  </td><td>HR      </td></tr>\n",
       "\t<tr><td>Prajakta</td><td>23      </td><td>Mumbai  </td><td>IT      </td></tr>\n",
       "\t<tr><td>Vibhor  </td><td>23      </td><td>Mumbai  </td><td>IT      </td></tr>\n",
       "</tbody>\n",
       "</table>\n"
      ],
      "text/latex": [
       "\\begin{tabular}{r|llll}\n",
       " Names & Age & City & Dept\\\\\n",
       "\\hline\n",
       "\t Shubham  & 23       & Mumbai   & HR      \\\\\n",
       "\t Prajakta & 23       & Mumbai   & IT      \\\\\n",
       "\t Vibhor   & 23       & Mumbai   & IT      \\\\\n",
       "\\end{tabular}\n"
      ],
      "text/markdown": [
       "\n",
       "| Names | Age | City | Dept |\n",
       "|---|---|---|---|\n",
       "| Shubham  | 23       | Mumbai   | HR       |\n",
       "| Prajakta | 23       | Mumbai   | IT       |\n",
       "| Vibhor   | 23       | Mumbai   | IT       |\n",
       "\n"
      ],
      "text/plain": [
       "  Names    Age City   Dept\n",
       "1 Shubham  23  Mumbai HR  \n",
       "2 Prajakta 23  Mumbai IT  \n",
       "3 Vibhor   23  Mumbai IT  "
      ]
     },
     "metadata": {},
     "output_type": "display_data"
    }
   ],
   "source": [
    "filter(df4, City == \"Mumbai\" & Age > 21)"
   ]
  },
  {
   "cell_type": "code",
   "execution_count": 157,
   "id": "72e9af08",
   "metadata": {},
   "outputs": [
    {
     "data": {
      "text/html": [
       "<table>\n",
       "<thead><tr><th scope=col>Names</th><th scope=col>Age</th><th scope=col>City</th><th scope=col>Dept</th></tr></thead>\n",
       "<tbody>\n",
       "\t<tr><td>Shubham</td><td>23     </td><td>Mumbai </td><td>HR     </td></tr>\n",
       "\t<tr><td>Nikita </td><td>22     </td><td>Delhi  </td><td>Finance</td></tr>\n",
       "\t<tr><td>Litika </td><td>24     </td><td>Delhi  </td><td>HR     </td></tr>\n",
       "</tbody>\n",
       "</table>\n"
      ],
      "text/latex": [
       "\\begin{tabular}{r|llll}\n",
       " Names & Age & City & Dept\\\\\n",
       "\\hline\n",
       "\t Shubham & 23      & Mumbai  & HR     \\\\\n",
       "\t Nikita  & 22      & Delhi   & Finance\\\\\n",
       "\t Litika  & 24      & Delhi   & HR     \\\\\n",
       "\\end{tabular}\n"
      ],
      "text/markdown": [
       "\n",
       "| Names | Age | City | Dept |\n",
       "|---|---|---|---|\n",
       "| Shubham | 23      | Mumbai  | HR      |\n",
       "| Nikita  | 22      | Delhi   | Finance |\n",
       "| Litika  | 24      | Delhi   | HR      |\n",
       "\n"
      ],
      "text/plain": [
       "  Names   Age City   Dept   \n",
       "1 Shubham 23  Mumbai HR     \n",
       "2 Nikita  22  Delhi  Finance\n",
       "3 Litika  24  Delhi  HR     "
      ]
     },
     "metadata": {},
     "output_type": "display_data"
    }
   ],
   "source": [
    "df4 %>% filter(City %in% c(\"Delhi\",\"Mumbai\") & Dept !=\"IT\")"
   ]
  },
  {
   "cell_type": "code",
   "execution_count": 158,
   "id": "1a7755b7",
   "metadata": {},
   "outputs": [
    {
     "data": {
      "text/html": [
       "<table>\n",
       "<thead><tr><th scope=col>Names</th><th scope=col>Age</th><th scope=col>City</th><th scope=col>Dept</th></tr></thead>\n",
       "<tbody>\n",
       "\t<tr><td>Ankit   </td><td>20      </td><td>Delhi   </td><td>IT      </td></tr>\n",
       "\t<tr><td>Prajakta</td><td>23      </td><td>Mumbai  </td><td>IT      </td></tr>\n",
       "\t<tr><td>Vibhor  </td><td>23      </td><td>Mumbai  </td><td>IT      </td></tr>\n",
       "</tbody>\n",
       "</table>\n"
      ],
      "text/latex": [
       "\\begin{tabular}{r|llll}\n",
       " Names & Age & City & Dept\\\\\n",
       "\\hline\n",
       "\t Ankit    & 20       & Delhi    & IT      \\\\\n",
       "\t Prajakta & 23       & Mumbai   & IT      \\\\\n",
       "\t Vibhor   & 23       & Mumbai   & IT      \\\\\n",
       "\\end{tabular}\n"
      ],
      "text/markdown": [
       "\n",
       "| Names | Age | City | Dept |\n",
       "|---|---|---|---|\n",
       "| Ankit    | 20       | Delhi    | IT       |\n",
       "| Prajakta | 23       | Mumbai   | IT       |\n",
       "| Vibhor   | 23       | Mumbai   | IT       |\n",
       "\n"
      ],
      "text/plain": [
       "  Names    Age City   Dept\n",
       "1 Ankit    20  Delhi  IT  \n",
       "2 Prajakta 23  Mumbai IT  \n",
       "3 Vibhor   23  Mumbai IT  "
      ]
     },
     "metadata": {},
     "output_type": "display_data"
    }
   ],
   "source": [
    "df4 %>% filter(City %in% c(\"Delhi\",\"Mumbai\") & Dept ==\"IT\")"
   ]
  },
  {
   "cell_type": "code",
   "execution_count": 160,
   "id": "2f69f167",
   "metadata": {},
   "outputs": [
    {
     "data": {
      "text/html": [
       "<table>\n",
       "<thead><tr><th></th><th scope=col>Names</th><th scope=col>Age</th><th scope=col>City</th><th scope=col>Dept</th></tr></thead>\n",
       "<tbody>\n",
       "\t<tr><th scope=row>1</th><td>Ankit   </td><td>20      </td><td>Delhi   </td><td>IT      </td></tr>\n",
       "\t<tr><th scope=row>2</th><td>Raj     </td><td>22      </td><td>Noida   </td><td>Finance </td></tr>\n",
       "\t<tr><th scope=row>6</th><td>Prajakta</td><td>23      </td><td>Mumbai  </td><td>IT      </td></tr>\n",
       "\t<tr><th scope=row>7</th><td>Nikita  </td><td>22      </td><td>Delhi   </td><td>Finance </td></tr>\n",
       "\t<tr><th scope=row>8</th><td>Vibhor  </td><td>23      </td><td>Mumbai  </td><td>IT      </td></tr>\n",
       "</tbody>\n",
       "</table>\n"
      ],
      "text/latex": [
       "\\begin{tabular}{r|llll}\n",
       "  & Names & Age & City & Dept\\\\\n",
       "\\hline\n",
       "\t1 & Ankit    & 20       & Delhi    & IT      \\\\\n",
       "\t2 & Raj      & 22       & Noida    & Finance \\\\\n",
       "\t6 & Prajakta & 23       & Mumbai   & IT      \\\\\n",
       "\t7 & Nikita   & 22       & Delhi    & Finance \\\\\n",
       "\t8 & Vibhor   & 23       & Mumbai   & IT      \\\\\n",
       "\\end{tabular}\n"
      ],
      "text/markdown": [
       "\n",
       "| <!--/--> | Names | Age | City | Dept |\n",
       "|---|---|---|---|---|\n",
       "| 1 | Ankit    | 20       | Delhi    | IT       |\n",
       "| 2 | Raj      | 22       | Noida    | Finance  |\n",
       "| 6 | Prajakta | 23       | Mumbai   | IT       |\n",
       "| 7 | Nikita   | 22       | Delhi    | Finance  |\n",
       "| 8 | Vibhor   | 23       | Mumbai   | IT       |\n",
       "\n"
      ],
      "text/plain": [
       "  Names    Age City   Dept   \n",
       "1 Ankit    20  Delhi  IT     \n",
       "2 Raj      22  Noida  Finance\n",
       "6 Prajakta 23  Mumbai IT     \n",
       "7 Nikita   22  Delhi  Finance\n",
       "8 Vibhor   23  Mumbai IT     "
      ]
     },
     "metadata": {},
     "output_type": "display_data"
    }
   ],
   "source": [
    "subset(df4, Dept==\"IT\" | Age <= 22)"
   ]
  },
  {
   "cell_type": "code",
   "execution_count": null,
   "id": "bb429f4e",
   "metadata": {},
   "outputs": [],
   "source": []
  },
  {
   "cell_type": "code",
   "execution_count": null,
   "id": "1c922a88",
   "metadata": {},
   "outputs": [],
   "source": []
  },
  {
   "cell_type": "code",
   "execution_count": null,
   "id": "099cea79",
   "metadata": {},
   "outputs": [],
   "source": []
  },
  {
   "cell_type": "code",
   "execution_count": null,
   "id": "fd7b32e7",
   "metadata": {},
   "outputs": [],
   "source": []
  },
  {
   "cell_type": "markdown",
   "id": "592fc636",
   "metadata": {},
   "source": [
    "#### Reading pre-loaded data from R"
   ]
  },
  {
   "cell_type": "code",
   "execution_count": 18,
   "id": "9b637d64",
   "metadata": {},
   "outputs": [
    {
     "name": "stdout",
     "output_type": "stream",
     "text": [
      "    Sepal.Length Sepal.Width Petal.Length Petal.Width    Species\n",
      "1            5.1         3.5          1.4         0.2     setosa\n",
      "2            4.9         3.0          1.4         0.2     setosa\n",
      "3            4.7         3.2          1.3         0.2     setosa\n",
      "4            4.6         3.1          1.5         0.2     setosa\n",
      "5            5.0         3.6          1.4         0.2     setosa\n",
      "6            5.4         3.9          1.7         0.4     setosa\n",
      "7            4.6         3.4          1.4         0.3     setosa\n",
      "8            5.0         3.4          1.5         0.2     setosa\n",
      "9            4.4         2.9          1.4         0.2     setosa\n",
      "10           4.9         3.1          1.5         0.1     setosa\n",
      "11           5.4         3.7          1.5         0.2     setosa\n",
      "12           4.8         3.4          1.6         0.2     setosa\n",
      "13           4.8         3.0          1.4         0.1     setosa\n",
      "14           4.3         3.0          1.1         0.1     setosa\n",
      "15           5.8         4.0          1.2         0.2     setosa\n",
      "16           5.7         4.4          1.5         0.4     setosa\n",
      "17           5.4         3.9          1.3         0.4     setosa\n",
      "18           5.1         3.5          1.4         0.3     setosa\n",
      "19           5.7         3.8          1.7         0.3     setosa\n",
      "20           5.1         3.8          1.5         0.3     setosa\n",
      "21           5.4         3.4          1.7         0.2     setosa\n",
      "22           5.1         3.7          1.5         0.4     setosa\n",
      "23           4.6         3.6          1.0         0.2     setosa\n",
      "24           5.1         3.3          1.7         0.5     setosa\n",
      "25           4.8         3.4          1.9         0.2     setosa\n",
      "26           5.0         3.0          1.6         0.2     setosa\n",
      "27           5.0         3.4          1.6         0.4     setosa\n",
      "28           5.2         3.5          1.5         0.2     setosa\n",
      "29           5.2         3.4          1.4         0.2     setosa\n",
      "30           4.7         3.2          1.6         0.2     setosa\n",
      "31           4.8         3.1          1.6         0.2     setosa\n",
      "32           5.4         3.4          1.5         0.4     setosa\n",
      "33           5.2         4.1          1.5         0.1     setosa\n",
      "34           5.5         4.2          1.4         0.2     setosa\n",
      "35           4.9         3.1          1.5         0.2     setosa\n",
      "36           5.0         3.2          1.2         0.2     setosa\n",
      "37           5.5         3.5          1.3         0.2     setosa\n",
      "38           4.9         3.6          1.4         0.1     setosa\n",
      "39           4.4         3.0          1.3         0.2     setosa\n",
      "40           5.1         3.4          1.5         0.2     setosa\n",
      "41           5.0         3.5          1.3         0.3     setosa\n",
      "42           4.5         2.3          1.3         0.3     setosa\n",
      "43           4.4         3.2          1.3         0.2     setosa\n",
      "44           5.0         3.5          1.6         0.6     setosa\n",
      "45           5.1         3.8          1.9         0.4     setosa\n",
      "46           4.8         3.0          1.4         0.3     setosa\n",
      "47           5.1         3.8          1.6         0.2     setosa\n",
      "48           4.6         3.2          1.4         0.2     setosa\n",
      "49           5.3         3.7          1.5         0.2     setosa\n",
      "50           5.0         3.3          1.4         0.2     setosa\n",
      "51           7.0         3.2          4.7         1.4 versicolor\n",
      "52           6.4         3.2          4.5         1.5 versicolor\n",
      "53           6.9         3.1          4.9         1.5 versicolor\n",
      "54           5.5         2.3          4.0         1.3 versicolor\n",
      "55           6.5         2.8          4.6         1.5 versicolor\n",
      "56           5.7         2.8          4.5         1.3 versicolor\n",
      "57           6.3         3.3          4.7         1.6 versicolor\n",
      "58           4.9         2.4          3.3         1.0 versicolor\n",
      "59           6.6         2.9          4.6         1.3 versicolor\n",
      "60           5.2         2.7          3.9         1.4 versicolor\n",
      "61           5.0         2.0          3.5         1.0 versicolor\n",
      "62           5.9         3.0          4.2         1.5 versicolor\n",
      "63           6.0         2.2          4.0         1.0 versicolor\n",
      "64           6.1         2.9          4.7         1.4 versicolor\n",
      "65           5.6         2.9          3.6         1.3 versicolor\n",
      "66           6.7         3.1          4.4         1.4 versicolor\n",
      "67           5.6         3.0          4.5         1.5 versicolor\n",
      "68           5.8         2.7          4.1         1.0 versicolor\n",
      "69           6.2         2.2          4.5         1.5 versicolor\n",
      "70           5.6         2.5          3.9         1.1 versicolor\n",
      "71           5.9         3.2          4.8         1.8 versicolor\n",
      "72           6.1         2.8          4.0         1.3 versicolor\n",
      "73           6.3         2.5          4.9         1.5 versicolor\n",
      "74           6.1         2.8          4.7         1.2 versicolor\n",
      "75           6.4         2.9          4.3         1.3 versicolor\n",
      "76           6.6         3.0          4.4         1.4 versicolor\n",
      "77           6.8         2.8          4.8         1.4 versicolor\n",
      "78           6.7         3.0          5.0         1.7 versicolor\n",
      "79           6.0         2.9          4.5         1.5 versicolor\n",
      "80           5.7         2.6          3.5         1.0 versicolor\n",
      "81           5.5         2.4          3.8         1.1 versicolor\n",
      "82           5.5         2.4          3.7         1.0 versicolor\n",
      "83           5.8         2.7          3.9         1.2 versicolor\n",
      "84           6.0         2.7          5.1         1.6 versicolor\n",
      "85           5.4         3.0          4.5         1.5 versicolor\n",
      "86           6.0         3.4          4.5         1.6 versicolor\n",
      "87           6.7         3.1          4.7         1.5 versicolor\n",
      "88           6.3         2.3          4.4         1.3 versicolor\n",
      "89           5.6         3.0          4.1         1.3 versicolor\n",
      "90           5.5         2.5          4.0         1.3 versicolor\n",
      "91           5.5         2.6          4.4         1.2 versicolor\n",
      "92           6.1         3.0          4.6         1.4 versicolor\n",
      "93           5.8         2.6          4.0         1.2 versicolor\n",
      "94           5.0         2.3          3.3         1.0 versicolor\n",
      "95           5.6         2.7          4.2         1.3 versicolor\n",
      "96           5.7         3.0          4.2         1.2 versicolor\n",
      "97           5.7         2.9          4.2         1.3 versicolor\n",
      "98           6.2         2.9          4.3         1.3 versicolor\n",
      "99           5.1         2.5          3.0         1.1 versicolor\n",
      "100          5.7         2.8          4.1         1.3 versicolor\n",
      "101          6.3         3.3          6.0         2.5  virginica\n",
      "102          5.8         2.7          5.1         1.9  virginica\n",
      "103          7.1         3.0          5.9         2.1  virginica\n",
      "104          6.3         2.9          5.6         1.8  virginica\n",
      "105          6.5         3.0          5.8         2.2  virginica\n",
      "106          7.6         3.0          6.6         2.1  virginica\n",
      "107          4.9         2.5          4.5         1.7  virginica\n",
      "108          7.3         2.9          6.3         1.8  virginica\n",
      "109          6.7         2.5          5.8         1.8  virginica\n",
      "110          7.2         3.6          6.1         2.5  virginica\n",
      "111          6.5         3.2          5.1         2.0  virginica\n",
      "112          6.4         2.7          5.3         1.9  virginica\n",
      "113          6.8         3.0          5.5         2.1  virginica\n",
      "114          5.7         2.5          5.0         2.0  virginica\n",
      "115          5.8         2.8          5.1         2.4  virginica\n",
      "116          6.4         3.2          5.3         2.3  virginica\n",
      "117          6.5         3.0          5.5         1.8  virginica\n",
      "118          7.7         3.8          6.7         2.2  virginica\n",
      "119          7.7         2.6          6.9         2.3  virginica\n",
      "120          6.0         2.2          5.0         1.5  virginica\n",
      "121          6.9         3.2          5.7         2.3  virginica\n",
      "122          5.6         2.8          4.9         2.0  virginica\n",
      "123          7.7         2.8          6.7         2.0  virginica\n",
      "124          6.3         2.7          4.9         1.8  virginica\n",
      "125          6.7         3.3          5.7         2.1  virginica\n",
      "126          7.2         3.2          6.0         1.8  virginica\n",
      "127          6.2         2.8          4.8         1.8  virginica\n",
      "128          6.1         3.0          4.9         1.8  virginica\n",
      "129          6.4         2.8          5.6         2.1  virginica\n",
      "130          7.2         3.0          5.8         1.6  virginica\n",
      "131          7.4         2.8          6.1         1.9  virginica\n",
      "132          7.9         3.8          6.4         2.0  virginica\n",
      "133          6.4         2.8          5.6         2.2  virginica\n",
      "134          6.3         2.8          5.1         1.5  virginica\n",
      "135          6.1         2.6          5.6         1.4  virginica\n",
      "136          7.7         3.0          6.1         2.3  virginica\n",
      "137          6.3         3.4          5.6         2.4  virginica\n",
      "138          6.4         3.1          5.5         1.8  virginica\n",
      "139          6.0         3.0          4.8         1.8  virginica\n",
      "140          6.9         3.1          5.4         2.1  virginica\n",
      "141          6.7         3.1          5.6         2.4  virginica\n",
      "142          6.9         3.1          5.1         2.3  virginica\n",
      "143          5.8         2.7          5.1         1.9  virginica\n",
      "144          6.8         3.2          5.9         2.3  virginica\n",
      "145          6.7         3.3          5.7         2.5  virginica\n",
      "146          6.7         3.0          5.2         2.3  virginica\n",
      "147          6.3         2.5          5.0         1.9  virginica\n",
      "148          6.5         3.0          5.2         2.0  virginica\n",
      "149          6.2         3.4          5.4         2.3  virginica\n",
      "150          5.9         3.0          5.1         1.8  virginica\n"
     ]
    }
   ],
   "source": [
    "show(iris)"
   ]
  },
  {
   "cell_type": "code",
   "execution_count": 161,
   "id": "5b400a0f",
   "metadata": {},
   "outputs": [
    {
     "data": {
      "text/html": [
       "<ol class=list-inline>\n",
       "\t<li>5.1</li>\n",
       "\t<li>4.9</li>\n",
       "\t<li>4.7</li>\n",
       "</ol>\n"
      ],
      "text/latex": [
       "\\begin{enumerate*}\n",
       "\\item 5.1\n",
       "\\item 4.9\n",
       "\\item 4.7\n",
       "\\end{enumerate*}\n"
      ],
      "text/markdown": [
       "1. 5.1\n",
       "2. 4.9\n",
       "3. 4.7\n",
       "\n",
       "\n"
      ],
      "text/plain": [
       "[1] 5.1 4.9 4.7"
      ]
     },
     "metadata": {},
     "output_type": "display_data"
    }
   ],
   "source": [
    "head(iris$Sepal.Length,3)"
   ]
  },
  {
   "cell_type": "code",
   "execution_count": 162,
   "id": "d4057e83",
   "metadata": {},
   "outputs": [
    {
     "data": {
      "text/html": [
       "<ol class=list-inline>\n",
       "\t<li>'setosa'</li>\n",
       "\t<li>'versicolor'</li>\n",
       "\t<li>'virginica'</li>\n",
       "</ol>\n"
      ],
      "text/latex": [
       "\\begin{enumerate*}\n",
       "\\item 'setosa'\n",
       "\\item 'versicolor'\n",
       "\\item 'virginica'\n",
       "\\end{enumerate*}\n"
      ],
      "text/markdown": [
       "1. 'setosa'\n",
       "2. 'versicolor'\n",
       "3. 'virginica'\n",
       "\n",
       "\n"
      ],
      "text/plain": [
       "[1] \"setosa\"     \"versicolor\" \"virginica\" "
      ]
     },
     "metadata": {},
     "output_type": "display_data"
    }
   ],
   "source": [
    "levels(iris$Species)"
   ]
  }
 ],
 "metadata": {
  "kernelspec": {
   "display_name": "R",
   "language": "R",
   "name": "ir"
  },
  "language_info": {
   "codemirror_mode": "r",
   "file_extension": ".r",
   "mimetype": "text/x-r-source",
   "name": "R",
   "pygments_lexer": "r",
   "version": "3.6.1"
  }
 },
 "nbformat": 4,
 "nbformat_minor": 5
}
